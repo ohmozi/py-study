{
 "cells": [
  {
   "cell_type": "markdown",
   "metadata": {},
   "source": [
    "# Naive Bayes\n",
    "\n",
    "    - Posterior\n",
    "    - Likelihood\n",
    "    - Prior"
   ]
  },
  {
   "cell_type": "markdown",
   "metadata": {},
   "source": [
    "# 1. Gaussain Naive Bayes"
   ]
  },
  {
   "cell_type": "code",
   "execution_count": 1,
   "metadata": {},
   "outputs": [],
   "source": [
    "from sklearn import datasets\n",
    "from sklearn.naive_bayes import GaussianNB"
   ]
  },
  {
   "cell_type": "code",
   "execution_count": 2,
   "metadata": {},
   "outputs": [],
   "source": [
    "import pandas as pd"
   ]
  },
  {
   "cell_type": "code",
   "execution_count": 4,
   "metadata": {},
   "outputs": [],
   "source": [
    "iris = datasets.load_iris()\n",
    "df_X = pd.DataFrame(iris.data)\n",
    "df_Y = pd.DataFrame(iris.target)"
   ]
  },
  {
   "cell_type": "code",
   "execution_count": 5,
   "metadata": {},
   "outputs": [
    {
     "data": {
      "text/html": [
       "<div>\n",
       "<style scoped>\n",
       "    .dataframe tbody tr th:only-of-type {\n",
       "        vertical-align: middle;\n",
       "    }\n",
       "\n",
       "    .dataframe tbody tr th {\n",
       "        vertical-align: top;\n",
       "    }\n",
       "\n",
       "    .dataframe thead th {\n",
       "        text-align: right;\n",
       "    }\n",
       "</style>\n",
       "<table border=\"1\" class=\"dataframe\">\n",
       "  <thead>\n",
       "    <tr style=\"text-align: right;\">\n",
       "      <th></th>\n",
       "      <th>0</th>\n",
       "      <th>1</th>\n",
       "      <th>2</th>\n",
       "      <th>3</th>\n",
       "    </tr>\n",
       "  </thead>\n",
       "  <tbody>\n",
       "    <tr>\n",
       "      <th>0</th>\n",
       "      <td>5.1</td>\n",
       "      <td>3.5</td>\n",
       "      <td>1.4</td>\n",
       "      <td>0.2</td>\n",
       "    </tr>\n",
       "    <tr>\n",
       "      <th>1</th>\n",
       "      <td>4.9</td>\n",
       "      <td>3.0</td>\n",
       "      <td>1.4</td>\n",
       "      <td>0.2</td>\n",
       "    </tr>\n",
       "    <tr>\n",
       "      <th>2</th>\n",
       "      <td>4.7</td>\n",
       "      <td>3.2</td>\n",
       "      <td>1.3</td>\n",
       "      <td>0.2</td>\n",
       "    </tr>\n",
       "    <tr>\n",
       "      <th>3</th>\n",
       "      <td>4.6</td>\n",
       "      <td>3.1</td>\n",
       "      <td>1.5</td>\n",
       "      <td>0.2</td>\n",
       "    </tr>\n",
       "    <tr>\n",
       "      <th>4</th>\n",
       "      <td>5.0</td>\n",
       "      <td>3.6</td>\n",
       "      <td>1.4</td>\n",
       "      <td>0.2</td>\n",
       "    </tr>\n",
       "  </tbody>\n",
       "</table>\n",
       "</div>"
      ],
      "text/plain": [
       "     0    1    2    3\n",
       "0  5.1  3.5  1.4  0.2\n",
       "1  4.9  3.0  1.4  0.2\n",
       "2  4.7  3.2  1.3  0.2\n",
       "3  4.6  3.1  1.5  0.2\n",
       "4  5.0  3.6  1.4  0.2"
      ]
     },
     "execution_count": 5,
     "metadata": {},
     "output_type": "execute_result"
    }
   ],
   "source": [
    "df_X.head()"
   ]
  },
  {
   "cell_type": "code",
   "execution_count": 6,
   "metadata": {},
   "outputs": [
    {
     "data": {
      "text/html": [
       "<div>\n",
       "<style scoped>\n",
       "    .dataframe tbody tr th:only-of-type {\n",
       "        vertical-align: middle;\n",
       "    }\n",
       "\n",
       "    .dataframe tbody tr th {\n",
       "        vertical-align: top;\n",
       "    }\n",
       "\n",
       "    .dataframe thead th {\n",
       "        text-align: right;\n",
       "    }\n",
       "</style>\n",
       "<table border=\"1\" class=\"dataframe\">\n",
       "  <thead>\n",
       "    <tr style=\"text-align: right;\">\n",
       "      <th></th>\n",
       "      <th>0</th>\n",
       "    </tr>\n",
       "  </thead>\n",
       "  <tbody>\n",
       "    <tr>\n",
       "      <th>0</th>\n",
       "      <td>0</td>\n",
       "    </tr>\n",
       "    <tr>\n",
       "      <th>1</th>\n",
       "      <td>0</td>\n",
       "    </tr>\n",
       "    <tr>\n",
       "      <th>2</th>\n",
       "      <td>0</td>\n",
       "    </tr>\n",
       "    <tr>\n",
       "      <th>3</th>\n",
       "      <td>0</td>\n",
       "    </tr>\n",
       "    <tr>\n",
       "      <th>4</th>\n",
       "      <td>0</td>\n",
       "    </tr>\n",
       "  </tbody>\n",
       "</table>\n",
       "</div>"
      ],
      "text/plain": [
       "   0\n",
       "0  0\n",
       "1  0\n",
       "2  0\n",
       "3  0\n",
       "4  0"
      ]
     },
     "execution_count": 6,
     "metadata": {},
     "output_type": "execute_result"
    }
   ],
   "source": [
    "df_Y.head()"
   ]
  },
  {
   "cell_type": "markdown",
   "metadata": {},
   "source": [
    "- 모델 피팅"
   ]
  },
  {
   "cell_type": "code",
   "execution_count": 7,
   "metadata": {},
   "outputs": [],
   "source": [
    "gnb = GaussianNB()\n",
    "fitted = gnb.fit(iris.data, iris.target)\n",
    "y_pred = fitted.predict(iris.data)"
   ]
  },
  {
   "cell_type": "code",
   "execution_count": 10,
   "metadata": {},
   "outputs": [
    {
     "data": {
      "text/plain": [
       "array([[1.00000000e+000, 1.51480769e-017, 2.34820051e-025],\n",
       "       [1.00000000e+000, 6.10454787e-018, 1.90690879e-025],\n",
       "       [7.27347795e-102, 9.45169639e-001, 5.48303606e-002],\n",
       "       [3.23245181e-254, 6.35381031e-011, 1.00000000e+000]])"
      ]
     },
     "execution_count": 10,
     "metadata": {},
     "output_type": "execute_result"
    }
   ],
   "source": [
    "fitted.predict_proba(iris.data)[[1,40,51,100]]"
   ]
  },
  {
   "cell_type": "code",
   "execution_count": 13,
   "metadata": {},
   "outputs": [
    {
     "data": {
      "text/plain": [
       "array([0, 0, 0, 0, 0, 0, 0, 0, 0, 0, 0, 0, 0, 0, 0, 0, 0, 0, 0, 0, 0, 0,\n",
       "       0, 0, 0, 0, 0, 0, 0, 0, 0, 0, 0, 0, 0, 0, 0, 0, 0, 0, 0, 0, 0, 0,\n",
       "       0, 0, 0, 0, 0, 0, 1, 1, 2, 1, 1, 1, 1, 1, 1, 1, 1, 1, 1, 1, 1, 1,\n",
       "       1, 1, 1, 1, 2, 1, 1, 1, 1, 1, 1, 2, 1, 1, 1, 1, 1, 1, 1, 1, 1, 1,\n",
       "       1, 1, 1, 1, 1, 1, 1, 1, 1, 1, 1, 1, 2, 2, 2, 2, 2, 2, 1, 2, 2, 2,\n",
       "       2, 2, 2, 2, 2, 2, 2, 2, 2, 1, 2, 2, 2, 2, 2, 2, 2, 2, 2, 2, 2, 2,\n",
       "       2, 1, 2, 2, 2, 2, 2, 2, 2, 2, 2, 2, 2, 2, 2, 2, 2, 2])"
      ]
     },
     "execution_count": 13,
     "metadata": {},
     "output_type": "execute_result"
    }
   ],
   "source": [
    "y_pred"
   ]
  },
  {
   "cell_type": "code",
   "execution_count": 12,
   "metadata": {},
   "outputs": [],
   "source": [
    "from sklearn.metrics import confusion_matrix"
   ]
  },
  {
   "cell_type": "code",
   "execution_count": 14,
   "metadata": {},
   "outputs": [
    {
     "data": {
      "text/plain": [
       "array([[50,  0,  0],\n",
       "       [ 0, 47,  3],\n",
       "       [ 0,  3, 47]], dtype=int64)"
      ]
     },
     "execution_count": 14,
     "metadata": {},
     "output_type": "execute_result"
    }
   ],
   "source": [
    "confusion_matrix(iris.target,y_pred)"
   ]
  },
  {
   "cell_type": "markdown",
   "metadata": {},
   "source": [
    "- Priror설정하기\n",
    " - 해당 범주가 나올 확률을 설정한다. default : n등분"
   ]
  },
  {
   "cell_type": "code",
   "execution_count": 19,
   "metadata": {},
   "outputs": [
    {
     "data": {
      "text/plain": [
       "array([[50,  0,  0],\n",
       "       [ 0, 33, 17],\n",
       "       [ 0,  0, 50]], dtype=int64)"
      ]
     },
     "execution_count": 19,
     "metadata": {},
     "output_type": "execute_result"
    }
   ],
   "source": [
    "gnb2 = GaussianNB(priors=[1/100,1/100,98/100])\n",
    "fitted2 = gnb2.fit(iris.data, iris.target)\n",
    "y_pred2 = fitted2.predict(iris.data)\n",
    "confusion_matrix(iris.target, y_pred2)"
   ]
  },
  {
   "cell_type": "code",
   "execution_count": 18,
   "metadata": {},
   "outputs": [
    {
     "data": {
      "text/plain": [
       "array([[50,  0,  0],\n",
       "       [ 0, 50,  0],\n",
       "       [ 0, 14, 36]], dtype=int64)"
      ]
     },
     "execution_count": 18,
     "metadata": {},
     "output_type": "execute_result"
    }
   ],
   "source": [
    "gnb3 = GaussianNB(priors=[1/100,98/100,1/100])\n",
    "fitted3 = gnb3.fit(iris.data, iris.target)\n",
    "y_pred3 = fitted3.predict(iris.data)\n",
    "confusion_matrix(iris.target, y_pred3)"
   ]
  },
  {
   "cell_type": "markdown",
   "metadata": {},
   "source": [
    "# 2.Multinomial naive Bayes"
   ]
  },
  {
   "cell_type": "code",
   "execution_count": 20,
   "metadata": {},
   "outputs": [],
   "source": [
    "from sklearn.naive_bayes import MultinomialNB"
   ]
  },
  {
   "cell_type": "code",
   "execution_count": 21,
   "metadata": {},
   "outputs": [],
   "source": [
    "import numpy as np"
   ]
  },
  {
   "cell_type": "code",
   "execution_count": 22,
   "metadata": {},
   "outputs": [],
   "source": [
    "X = np.random.randint(5, size=(6,100))\n",
    "# 6개의 변수를 100개의 다항요인으로 표현\n",
    "Y = np.array([1,2,3,4,5,6])"
   ]
  },
  {
   "cell_type": "code",
   "execution_count": 23,
   "metadata": {
    "scrolled": true
   },
   "outputs": [
    {
     "data": {
      "text/plain": [
       "array([[3, 4, 2, 1, 1, 4, 2, 3, 1, 3, 3, 1, 4, 4, 3, 1, 4, 3, 4, 1, 4, 2,\n",
       "        4, 3, 3, 3, 3, 3, 0, 2, 4, 2, 4, 0, 3, 2, 0, 0, 3, 0, 4, 3, 2, 0,\n",
       "        2, 4, 2, 0, 1, 4, 4, 2, 0, 4, 1, 4, 2, 2, 4, 2, 4, 3, 3, 2, 0, 1,\n",
       "        2, 4, 4, 1, 4, 2, 2, 1, 3, 0, 3, 0, 1, 1, 0, 1, 3, 3, 1, 0, 2, 2,\n",
       "        1, 3, 1, 4, 1, 0, 0, 4, 4, 2, 0, 3],\n",
       "       [0, 3, 3, 3, 4, 0, 4, 4, 4, 1, 4, 1, 0, 4, 0, 1, 3, 4, 3, 3, 0, 3,\n",
       "        3, 1, 4, 0, 1, 2, 1, 3, 2, 0, 4, 3, 0, 0, 2, 2, 2, 2, 1, 1, 0, 0,\n",
       "        1, 3, 1, 1, 1, 2, 4, 3, 0, 2, 4, 1, 3, 0, 1, 1, 1, 3, 1, 2, 3, 2,\n",
       "        2, 4, 1, 1, 2, 4, 1, 4, 0, 1, 1, 3, 0, 3, 4, 0, 2, 0, 3, 2, 3, 3,\n",
       "        1, 0, 4, 4, 2, 3, 0, 2, 2, 0, 3, 2],\n",
       "       [1, 3, 4, 3, 2, 1, 2, 0, 2, 0, 2, 4, 4, 2, 1, 3, 0, 2, 3, 4, 4, 0,\n",
       "        0, 4, 2, 2, 1, 0, 4, 1, 1, 2, 1, 3, 1, 1, 2, 0, 3, 2, 0, 4, 0, 1,\n",
       "        0, 4, 3, 0, 2, 0, 1, 3, 0, 2, 2, 3, 1, 4, 2, 0, 2, 0, 4, 1, 3, 4,\n",
       "        1, 3, 2, 4, 1, 4, 0, 0, 3, 1, 2, 1, 2, 4, 4, 1, 4, 0, 3, 0, 1, 3,\n",
       "        1, 2, 0, 4, 3, 0, 0, 3, 2, 4, 3, 3],\n",
       "       [0, 0, 2, 1, 0, 0, 4, 2, 3, 0, 1, 3, 2, 4, 0, 1, 1, 4, 0, 2, 4, 2,\n",
       "        0, 4, 3, 0, 0, 4, 1, 0, 4, 2, 4, 2, 2, 2, 1, 2, 3, 0, 1, 0, 0, 1,\n",
       "        1, 2, 1, 0, 1, 4, 0, 4, 1, 2, 0, 1, 0, 2, 4, 4, 1, 1, 0, 3, 4, 3,\n",
       "        4, 3, 1, 1, 2, 4, 1, 2, 3, 2, 3, 4, 4, 0, 3, 3, 3, 3, 1, 1, 1, 2,\n",
       "        1, 0, 1, 0, 1, 1, 1, 3, 0, 3, 2, 4],\n",
       "       [1, 3, 1, 4, 0, 0, 0, 0, 4, 4, 0, 2, 0, 1, 1, 1, 0, 4, 3, 4, 1, 1,\n",
       "        2, 4, 2, 2, 0, 4, 1, 0, 4, 4, 2, 0, 3, 2, 3, 0, 3, 0, 4, 1, 4, 0,\n",
       "        0, 0, 3, 3, 3, 0, 2, 0, 0, 4, 0, 2, 4, 1, 0, 0, 3, 2, 2, 2, 3, 3,\n",
       "        3, 4, 4, 3, 1, 3, 4, 4, 3, 0, 0, 3, 2, 1, 0, 1, 1, 1, 4, 2, 0, 4,\n",
       "        4, 1, 4, 4, 2, 0, 3, 1, 4, 1, 1, 2],\n",
       "       [3, 2, 0, 1, 4, 1, 4, 2, 3, 0, 0, 2, 1, 0, 2, 0, 2, 1, 1, 1, 2, 2,\n",
       "        3, 3, 0, 3, 0, 1, 3, 0, 0, 4, 1, 0, 4, 4, 3, 1, 3, 2, 3, 3, 4, 1,\n",
       "        0, 1, 4, 0, 4, 4, 3, 3, 0, 3, 1, 2, 3, 4, 0, 2, 4, 0, 1, 1, 2, 3,\n",
       "        0, 3, 3, 3, 4, 3, 3, 4, 1, 0, 1, 0, 3, 4, 3, 4, 4, 1, 4, 3, 2, 3,\n",
       "        1, 2, 1, 0, 0, 2, 4, 0, 0, 1, 2, 3]])"
      ]
     },
     "execution_count": 23,
     "metadata": {},
     "output_type": "execute_result"
    }
   ],
   "source": [
    "X"
   ]
  },
  {
   "cell_type": "code",
   "execution_count": 24,
   "metadata": {},
   "outputs": [
    {
     "data": {
      "text/plain": [
       "MultinomialNB(alpha=1.0, class_prior=None, fit_prior=True)"
      ]
     },
     "execution_count": 24,
     "metadata": {},
     "output_type": "execute_result"
    }
   ],
   "source": [
    "mnb = MultinomialNB()\n",
    "mnb.fit(X, Y)"
   ]
  },
  {
   "cell_type": "code",
   "execution_count": 27,
   "metadata": {},
   "outputs": [
    {
     "name": "stdout",
     "output_type": "stream",
     "text": [
      "[3]\n"
     ]
    }
   ],
   "source": [
    "print(mnb.predict(X[2:3]))"
   ]
  },
  {
   "cell_type": "code",
   "execution_count": 29,
   "metadata": {},
   "outputs": [
    {
     "data": {
      "text/plain": [
       "array([[7.10628703e-32, 3.16491160e-32, 1.00000000e+00, 1.10880209e-30,\n",
       "        4.78917849e-34, 4.21200445e-32]])"
      ]
     },
     "execution_count": 29,
     "metadata": {},
     "output_type": "execute_result"
    }
   ],
   "source": [
    "mnb.predict_proba(X[2:3])\n",
    "# 2번째 관측치가 1~6번째 범주가 될 확률  3이 가장큼"
   ]
  },
  {
   "cell_type": "code",
   "execution_count": 36,
   "metadata": {},
   "outputs": [
    {
     "data": {
      "text/plain": [
       "array([[7.10628703e-29, 6.32665829e-29, 1.00000000e+00, 1.10880209e-27,\n",
       "        4.78917849e-31, 4.21200445e-29]])"
      ]
     },
     "execution_count": 36,
     "metadata": {},
     "output_type": "execute_result"
    }
   ],
   "source": [
    "mnb2 = MultinomialNB(class_prior=[0.1, 0.1999, 0.0001, 0.1, 0.1, 0.1])\n",
    "mnb2.fit(X, Y)\n",
    "mnb2.predict_proba(X[2:3])\n",
    "# prior를 높게 줄수록 범주일 확률이 커진다.\n",
    "# 합이 1이 아니어도 상대적으로 조정이된다."
   ]
  },
  {
   "cell_type": "code",
   "execution_count": 37,
   "metadata": {},
   "outputs": [
    {
     "data": {
      "text/plain": [
       "array([[7.10628703e-32, 1.58245580e-31, 1.00000000e+00, 1.10880209e-30,\n",
       "        4.78917849e-34, 4.21200445e-32]])"
      ]
     },
     "execution_count": 37,
     "metadata": {},
     "output_type": "execute_result"
    }
   ],
   "source": [
    "mnb3 = MultinomialNB(class_prior=[0.1, 0.5, 0.1, 0.1, 0.1, 0.1])\n",
    "mnb3.fit(X, Y)\n",
    "mnb3.predict_proba(X[2:3])"
   ]
  },
  {
   "cell_type": "code",
   "execution_count": null,
   "metadata": {},
   "outputs": [],
   "source": []
  }
 ],
 "metadata": {
  "kernelspec": {
   "display_name": "Python 3",
   "language": "python",
   "name": "python3"
  },
  "language_info": {
   "codemirror_mode": {
    "name": "ipython",
    "version": 3
   },
   "file_extension": ".py",
   "mimetype": "text/x-python",
   "name": "python",
   "nbconvert_exporter": "python",
   "pygments_lexer": "ipython3",
   "version": "3.7.3"
  }
 },
 "nbformat": 4,
 "nbformat_minor": 2
}
