{
 "cells": [
  {
   "cell_type": "code",
   "execution_count": 18,
   "metadata": {},
   "outputs": [],
   "source": [
    "import math"
   ]
  },
  {
   "cell_type": "code",
   "execution_count": 24,
   "metadata": {},
   "outputs": [
    {
     "name": "stdout",
     "output_type": "stream",
     "text": [
      "25\n",
      "(3, 4)\n",
      "(2, 7)\n",
      "(5, 11)\n",
      "(-1, 3)\n",
      "(12, 16)\n",
      "5.0\n",
      "3 4\n"
     ]
    }
   ],
   "source": [
    "\n",
    "class Point:\n",
    "    def __init__(self,x,y):\n",
    "        self.x = x\n",
    "        self.y = y\n",
    "\n",
    "    def print_pt(self):\n",
    "        print(\"({}, {})\".format(self.x,self.y))\n",
    "        \n",
    "    def __str__(self):\n",
    "        return '({}, {})'.format(self.x,self.y)\n",
    "    \n",
    "    def add(self,pt):\n",
    "        new_x = self.x + pt.x\n",
    "        new_y = self.y + pt.y\n",
    "        return Point(new_x, new_y)\n",
    "    \n",
    "    def __add__(self,pt):\n",
    "        new_x = self.x + pt.x\n",
    "        new_y = self.y + pt.y\n",
    "        return Point(new_x, new_y)\n",
    "    \n",
    "    def __sub__(self,pt):\n",
    "        new_x = self.x - pt.x\n",
    "        new_y = self.y - pt.y\n",
    "        return Point(new_x, new_y)\n",
    "    \n",
    "    def multiply(self, factor):\n",
    "        return Point(self.x*factor , self.y*factor)\n",
    "    def __mul__(self,factor):\n",
    "        return Point(self.x*factor , self.y*factor)\n",
    "        \n",
    "    def length(self):\n",
    "        return math.sqrt(self.x**2 + self.y**2)\n",
    "    def __len__(self):\n",
    "        return self.x**2 + self.y**2\n",
    "    \n",
    "    def __getitem__(self,index):  #인덱스 사용\n",
    "        if index ==0:\n",
    "            return self.x\n",
    "        elif index == 1:\n",
    "            return self.y\n",
    "        else:\n",
    "            return -1\n",
    "    \n",
    "p1 = Point(3,4)\n",
    "p2 = Point(2,7)\n",
    "\n",
    "p3 = p1 + p2\n",
    "p4 = p2 - p1\n",
    "p5 = p1 * 4\n",
    "#p5 = p1.multiply(3)\n",
    "#p3 = p1.add(p2)\n",
    "print(len(p1))\n",
    "print(p1)\n",
    "print(p2)\n",
    "print(p3)\n",
    "print(p4)\n",
    "print(p5)\n",
    "print(p1.length())\n",
    "\n",
    "print(p1[0],p1[1])\n"
   ]
  },
  {
   "cell_type": "code",
   "execution_count": null,
   "metadata": {},
   "outputs": [],
   "source": [
    "#복소수 클래스"
   ]
  },
  {
   "cell_type": "code",
   "execution_count": 32,
   "metadata": {},
   "outputs": [
    {
     "name": "stdout",
     "output_type": "stream",
     "text": [
      "2 + 5j\n",
      "3 + 7j\n",
      "------------------\n",
      "5 + 12j\n",
      "-1 - 2j\n"
     ]
    }
   ],
   "source": [
    "class ComplexNumber:\n",
    "    def __init__(self,real,img):\n",
    "        self.real = real\n",
    "        self.img = img\n",
    "    def __str__(self):\n",
    "        if self.img >= 0:\n",
    "            return '{} + {}j'.format(self.real,self.img)\n",
    "        else:\n",
    "            return '{} - {}j'.format(self.real,abs(self.img))\n",
    "        \n",
    "    def __add__(self, cn):\n",
    "        new_real = self.real + cn.real\n",
    "        new_img = self.img + cn.img\n",
    "        return ComplexNumber(new_real,new_img)\n",
    "    def __sub__(self,cn):\n",
    "        return ComplexNumber(self.real-cn.real, self.img-cn.img)\n",
    "    \n",
    "a = ComplexNumber(2,5)\n",
    "b = ComplexNumber(3,7)\n",
    "print(a)\n",
    "print(b)\n",
    "print('------------------')\n",
    "print(a+b)\n",
    "print(a-b)"
   ]
  },
  {
   "cell_type": "code",
   "execution_count": null,
   "metadata": {},
   "outputs": [],
   "source": []
  },
  {
   "cell_type": "code",
   "execution_count": null,
   "metadata": {},
   "outputs": [],
   "source": []
  },
  {
   "cell_type": "code",
   "execution_count": null,
   "metadata": {},
   "outputs": [],
   "source": []
  },
  {
   "cell_type": "code",
   "execution_count": null,
   "metadata": {},
   "outputs": [],
   "source": []
  }
 ],
 "metadata": {
  "kernelspec": {
   "display_name": "Python 3",
   "language": "python",
   "name": "python3"
  },
  "language_info": {
   "codemirror_mode": {
    "name": "ipython",
    "version": 3
   },
   "file_extension": ".py",
   "mimetype": "text/x-python",
   "name": "python",
   "nbconvert_exporter": "python",
   "pygments_lexer": "ipython3",
   "version": "3.7.3"
  }
 },
 "nbformat": 4,
 "nbformat_minor": 2
}
