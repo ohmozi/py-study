{
 "cells": [
  {
   "cell_type": "code",
   "execution_count": 2,
   "metadata": {},
   "outputs": [],
   "source": [
    "import requests"
   ]
  },
  {
   "cell_type": "code",
   "execution_count": 3,
   "metadata": {},
   "outputs": [],
   "source": [
    "servicekey='Vlaoh%2BfNfPJgfZNGOaLA0FW7IVV%2F6QNRLyXSWcPbp4nIjuotGHYI8XgxDMEBgMqARSFgTIfNLPUt20cllzyunQ%3D%3D'"
   ]
  },
  {
   "cell_type": "code",
   "execution_count": 4,
   "metadata": {},
   "outputs": [
    {
     "name": "stdout",
     "output_type": "stream",
     "text": [
      "http://apis.data.go.kr/B551182/msupCmpnMeftInfoService/getMajorCmpnNmCdList?ServiceKey=Vlaoh%2BfNfPJgfZNGOaLA0FW7IVV%2F6QNRLyXSWcPbp4nIjuotGHYI8XgxDMEBgMqARSFgTIfNLPUt20cllzyunQ%3D%3D&numOfRows=10&pageNo=1&gnlNmCd=1&gnlNm=상황균&meftDivNo=421&divNm=항악성\n"
     ]
    }
   ],
   "source": [
    "endpoint='http://apis.data.go.kr/B551182/msupCmpnMeftInfoService/getMajorCmpnNmCdList?ServiceKey={}&numOfRows=10&pageNo=1&gnlNmCd=1&gnlNm=상황균&meftDivNo=421&divNm=항악성'.format(servicekey)\n",
    "print(endpoint)"
   ]
  },
  {
   "cell_type": "code",
   "execution_count": 5,
   "metadata": {},
   "outputs": [
    {
     "name": "stdout",
     "output_type": "stream",
     "text": [
      "200\n",
      "<?xml version=\"1.0\" encoding=\"UTF-8\" standalone=\"yes\"?><response><header><resultCode>00</resultCode><resultMsg>NORMAL SERVICE.</resultMsg></header><body><items><item><divNm>항악성종양제</divNm><fomnTpCdNm>과립제,세립</fomnTpCdNm><gnlNm>상황균사체엑스</gnlNm><gnlNmCd>100101AGN</gnlNmCd><injcPthCdNm>내복</injcPthCdNm><iqtyTxt>1.1</iqtyTxt><meftDivNo>421</meftDivNo><unit>g</unit></item><item><divNm>항악성종양제</divNm><fomnTpCdNm>액제</fomnTpCdNm><gnlNm>상황균사체엑스</gnlNm><gnlNmCd>100101ALQ</gnlNmCd><injcPthCdNm>내복</injcPthCdNm><iqtyTxt>1.1</iqtyTxt><meftDivNo>421</meftDivNo><unit>g</unit></item></items><numOfRows>10</numOfRows><pageNo>1</pageNo><totalCount>2</totalCount></body></response>\n"
     ]
    }
   ],
   "source": [
    "endpoint='http://apis.data.go.kr/B551182/msupCmpnMeftInfoService/getMajorCmpnNmCdList?ServiceKey={}&numOfRows=10&pageNo={}&gnlNmCd=1&gnlNm=상황균&meftDivNo=421&divNm=항악성'.format(servicekey, 1)\n",
    "resp = requests.get(endpoint)\n",
    "print(resp.status_code)\n",
    "print(resp.text)\n",
    "# resp.json()"
   ]
  },
  {
   "cell_type": "markdown",
   "metadata": {},
   "source": [
    "# beautifulsoup"
   ]
  },
  {
   "cell_type": "code",
   "execution_count": 6,
   "metadata": {},
   "outputs": [],
   "source": [
    "from bs4 import BeautifulSoup"
   ]
  },
  {
   "cell_type": "code",
   "execution_count": 7,
   "metadata": {},
   "outputs": [],
   "source": [
    "html = '''\n",
    "<html>\n",
    "    <head>\n",
    "        <title>BeautifulSoup test</title>\n",
    "    </head>\n",
    "    <body>\n",
    "        <div id='upper' class='test' custom='good'>\n",
    "            <h3 title='Good content title'>Contents Title</h3>\n",
    "            <p>Test contents</p>\n",
    "        </div>\n",
    "        <div id='lower' class='test' custom='nice'>\n",
    "            <p>Test1</p>\n",
    "            <p>Test2</p>\n",
    "            <p>Test3</p>\n",
    "        </div>\n",
    "    </body>\n",
    "</html>'''"
   ]
  },
  {
   "cell_type": "markdown",
   "metadata": {},
   "source": [
    "## find 함수"
   ]
  },
  {
   "cell_type": "code",
   "execution_count": 8,
   "metadata": {},
   "outputs": [],
   "source": [
    "soup = BeautifulSoup(html)"
   ]
  },
  {
   "cell_type": "code",
   "execution_count": 9,
   "metadata": {},
   "outputs": [
    {
     "data": {
      "text/plain": [
       "<h3 title=\"Good content title\">Contents Title</h3>"
      ]
     },
     "execution_count": 9,
     "metadata": {},
     "output_type": "execute_result"
    }
   ],
   "source": [
    "soup.find('h3')"
   ]
  },
  {
   "cell_type": "code",
   "execution_count": 10,
   "metadata": {},
   "outputs": [
    {
     "data": {
      "text/plain": [
       "<p>Test contents</p>"
      ]
     },
     "execution_count": 10,
     "metadata": {},
     "output_type": "execute_result"
    }
   ],
   "source": [
    "soup.find('p')"
   ]
  },
  {
   "cell_type": "code",
   "execution_count": 11,
   "metadata": {},
   "outputs": [
    {
     "data": {
      "text/plain": [
       "<div class=\"test\" custom=\"good\" id=\"upper\">\n",
       "<h3 title=\"Good content title\">Contents Title</h3>\n",
       "<p>Test contents</p>\n",
       "</div>"
      ]
     },
     "execution_count": 11,
     "metadata": {},
     "output_type": "execute_result"
    }
   ],
   "source": [
    "soup.find('div')"
   ]
  },
  {
   "cell_type": "code",
   "execution_count": 12,
   "metadata": {},
   "outputs": [
    {
     "data": {
      "text/plain": [
       "<div class=\"test\" custom=\"nice\" id=\"lower\">\n",
       "<p>Test1</p>\n",
       "<p>Test2</p>\n",
       "<p>Test3</p>\n",
       "</div>"
      ]
     },
     "execution_count": 12,
     "metadata": {},
     "output_type": "execute_result"
    }
   ],
   "source": [
    "soup.find('div',custom='nice')"
   ]
  },
  {
   "cell_type": "code",
   "execution_count": 13,
   "metadata": {},
   "outputs": [
    {
     "data": {
      "text/plain": [
       "<div class=\"test\" custom=\"nice\" id=\"lower\">\n",
       "<p>Test1</p>\n",
       "<p>Test2</p>\n",
       "<p>Test3</p>\n",
       "</div>"
      ]
     },
     "execution_count": 13,
     "metadata": {},
     "output_type": "execute_result"
    }
   ],
   "source": [
    "soup.find('div',id='lower')"
   ]
  },
  {
   "cell_type": "code",
   "execution_count": null,
   "metadata": {},
   "outputs": [],
   "source": []
  },
  {
   "cell_type": "code",
   "execution_count": null,
   "metadata": {},
   "outputs": [],
   "source": []
  },
  {
   "cell_type": "code",
   "execution_count": null,
   "metadata": {},
   "outputs": [],
   "source": []
  },
  {
   "cell_type": "code",
   "execution_count": null,
   "metadata": {},
   "outputs": [],
   "source": []
  },
  {
   "cell_type": "code",
   "execution_count": null,
   "metadata": {},
   "outputs": [],
   "source": []
  },
  {
   "cell_type": "code",
   "execution_count": null,
   "metadata": {},
   "outputs": [],
   "source": []
  },
  {
   "cell_type": "code",
   "execution_count": null,
   "metadata": {},
   "outputs": [],
   "source": []
  },
  {
   "cell_type": "code",
   "execution_count": null,
   "metadata": {},
   "outputs": [],
   "source": []
  },
  {
   "cell_type": "code",
   "execution_count": null,
   "metadata": {},
   "outputs": [],
   "source": []
  },
  {
   "cell_type": "code",
   "execution_count": null,
   "metadata": {},
   "outputs": [],
   "source": []
  },
  {
   "cell_type": "code",
   "execution_count": null,
   "metadata": {},
   "outputs": [],
   "source": []
  },
  {
   "cell_type": "code",
   "execution_count": null,
   "metadata": {},
   "outputs": [],
   "source": []
  },
  {
   "cell_type": "code",
   "execution_count": null,
   "metadata": {},
   "outputs": [],
   "source": []
  },
  {
   "cell_type": "code",
   "execution_count": null,
   "metadata": {},
   "outputs": [],
   "source": []
  },
  {
   "cell_type": "code",
   "execution_count": null,
   "metadata": {},
   "outputs": [],
   "source": []
  },
  {
   "cell_type": "code",
   "execution_count": null,
   "metadata": {},
   "outputs": [],
   "source": []
  }
 ],
 "metadata": {
  "kernelspec": {
   "display_name": "Python 3",
   "language": "python",
   "name": "python3"
  },
  "language_info": {
   "codemirror_mode": {
    "name": "ipython",
    "version": 3
   },
   "file_extension": ".py",
   "mimetype": "text/x-python",
   "name": "python",
   "nbconvert_exporter": "python",
   "pygments_lexer": "ipython3",
   "version": "3.7.3"
  }
 },
 "nbformat": 4,
 "nbformat_minor": 2
}
