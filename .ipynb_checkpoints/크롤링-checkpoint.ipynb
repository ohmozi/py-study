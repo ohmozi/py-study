{
 "cells": [
  {
   "cell_type": "code",
   "execution_count": 2,
   "metadata": {},
   "outputs": [],
   "source": [
    "import requests"
   ]
  },
  {
   "cell_type": "code",
   "execution_count": 3,
   "metadata": {},
   "outputs": [],
   "source": [
    "servicekey='Vlaoh%2BfNfPJgfZNGOaLA0FW7IVV%2F6QNRLyXSWcPbp4nIjuotGHYI8XgxDMEBgMqARSFgTIfNLPUt20cllzyunQ%3D%3D'"
   ]
  },
  {
   "cell_type": "code",
   "execution_count": 4,
   "metadata": {},
   "outputs": [
    {
     "name": "stdout",
     "output_type": "stream",
     "text": [
      "http://apis.data.go.kr/B551182/msupCmpnMeftInfoService/getMajorCmpnNmCdList?ServiceKey=Vlaoh%2BfNfPJgfZNGOaLA0FW7IVV%2F6QNRLyXSWcPbp4nIjuotGHYI8XgxDMEBgMqARSFgTIfNLPUt20cllzyunQ%3D%3D&numOfRows=10&pageNo=1&gnlNmCd=1&gnlNm=상황균&meftDivNo=421&divNm=항악성\n"
     ]
    }
   ],
   "source": [
    "endpoint='http://apis.data.go.kr/B551182/msupCmpnMeftInfoService/getMajorCmpnNmCdList?ServiceKey={}&numOfRows=10&pageNo=1&gnlNmCd=1&gnlNm=상황균&meftDivNo=421&divNm=항악성'.format(servicekey)\n",
    "print(endpoint)"
   ]
  },
  {
   "cell_type": "code",
   "execution_count": 5,
   "metadata": {},
   "outputs": [
    {
     "name": "stdout",
     "output_type": "stream",
     "text": [
      "200\n",
      "<?xml version=\"1.0\" encoding=\"UTF-8\" standalone=\"yes\"?><response><header><resultCode>00</resultCode><resultMsg>NORMAL SERVICE.</resultMsg></header><body><items><item><divNm>항악성종양제</divNm><fomnTpCdNm>과립제,세립</fomnTpCdNm><gnlNm>상황균사체엑스</gnlNm><gnlNmCd>100101AGN</gnlNmCd><injcPthCdNm>내복</injcPthCdNm><iqtyTxt>1.1</iqtyTxt><meftDivNo>421</meftDivNo><unit>g</unit></item><item><divNm>항악성종양제</divNm><fomnTpCdNm>액제</fomnTpCdNm><gnlNm>상황균사체엑스</gnlNm><gnlNmCd>100101ALQ</gnlNmCd><injcPthCdNm>내복</injcPthCdNm><iqtyTxt>1.1</iqtyTxt><meftDivNo>421</meftDivNo><unit>g</unit></item></items><numOfRows>10</numOfRows><pageNo>1</pageNo><totalCount>2</totalCount></body></response>\n"
     ]
    }
   ],
   "source": [
    "endpoint='http://apis.data.go.kr/B551182/msupCmpnMeftInfoService/getMajorCmpnNmCdList?ServiceKey={}&numOfRows=10&pageNo={}&gnlNmCd=1&gnlNm=상황균&meftDivNo=421&divNm=항악성'.format(servicekey, 1)\n",
    "resp = requests.get(endpoint)\n",
    "print(resp.status_code)\n",
    "print(resp.text)\n",
    "# resp.json()"
   ]
  },
  {
   "cell_type": "markdown",
   "metadata": {},
   "source": [
    "# beautifulsoup"
   ]
  },
  {
   "cell_type": "code",
   "execution_count": 6,
   "metadata": {},
   "outputs": [],
   "source": [
    "from bs4 import BeautifulSoup"
   ]
  },
  {
   "cell_type": "code",
   "execution_count": 7,
   "metadata": {},
   "outputs": [],
   "source": [
    "html = '''\n",
    "<html>\n",
    "    <head>\n",
    "        <title>BeautifulSoup test</title>\n",
    "    </head>\n",
    "    <body>\n",
    "        <div id='upper' class='test' custom='good'>\n",
    "            <h3 title='Good content title'>Contents Title</h3>\n",
    "            <p>Test contents</p>\n",
    "        </div>\n",
    "        <div id='lower' class='test' custom='nice'>\n",
    "            <p>Test1</p>\n",
    "            <p>Test2</p>\n",
    "            <p>Test3</p>\n",
    "        </div>\n",
    "    </body>\n",
    "</html>'''"
   ]
  },
  {
   "cell_type": "markdown",
   "metadata": {},
   "source": [
    "## find 함수"
   ]
  },
  {
   "cell_type": "code",
   "execution_count": 8,
   "metadata": {},
   "outputs": [],
   "source": [
    "soup = BeautifulSoup(html)"
   ]
  },
  {
   "cell_type": "code",
   "execution_count": 9,
   "metadata": {},
   "outputs": [
    {
     "data": {
      "text/plain": [
       "<h3 title=\"Good content title\">Contents Title</h3>"
      ]
     },
     "execution_count": 9,
     "metadata": {},
     "output_type": "execute_result"
    }
   ],
   "source": [
    "soup.find('h3')"
   ]
  },
  {
   "cell_type": "code",
   "execution_count": 10,
   "metadata": {},
   "outputs": [
    {
     "data": {
      "text/plain": [
       "<p>Test contents</p>"
      ]
     },
     "execution_count": 10,
     "metadata": {},
     "output_type": "execute_result"
    }
   ],
   "source": [
    "soup.find('p')"
   ]
  },
  {
   "cell_type": "code",
   "execution_count": 11,
   "metadata": {},
   "outputs": [
    {
     "data": {
      "text/plain": [
       "<div class=\"test\" custom=\"good\" id=\"upper\">\n",
       "<h3 title=\"Good content title\">Contents Title</h3>\n",
       "<p>Test contents</p>\n",
       "</div>"
      ]
     },
     "execution_count": 11,
     "metadata": {},
     "output_type": "execute_result"
    }
   ],
   "source": [
    "soup.find('div')"
   ]
  },
  {
   "cell_type": "code",
   "execution_count": 12,
   "metadata": {},
   "outputs": [
    {
     "data": {
      "text/plain": [
       "<div class=\"test\" custom=\"nice\" id=\"lower\">\n",
       "<p>Test1</p>\n",
       "<p>Test2</p>\n",
       "<p>Test3</p>\n",
       "</div>"
      ]
     },
     "execution_count": 12,
     "metadata": {},
     "output_type": "execute_result"
    }
   ],
   "source": [
    "soup.find('div',custom='nice')"
   ]
  },
  {
   "cell_type": "code",
   "execution_count": 13,
   "metadata": {},
   "outputs": [
    {
     "data": {
      "text/plain": [
       "<div class=\"test\" custom=\"nice\" id=\"lower\">\n",
       "<p>Test1</p>\n",
       "<p>Test2</p>\n",
       "<p>Test3</p>\n",
       "</div>"
      ]
     },
     "execution_count": 13,
     "metadata": {},
     "output_type": "execute_result"
    }
   ],
   "source": [
    "soup.find('div',id='lower')"
   ]
  },
  {
   "cell_type": "code",
   "execution_count": 16,
   "metadata": {},
   "outputs": [
    {
     "data": {
      "text/plain": [
       "<div class=\"test\" custom=\"good\" id=\"upper\">\n",
       "<h3 title=\"Good content title\">Contents Title</h3>\n",
       "<p>Test contents</p>\n",
       "</div>"
      ]
     },
     "execution_count": 16,
     "metadata": {},
     "output_type": "execute_result"
    }
   ],
   "source": [
    "# attrs변수를 이용하여 여러 파라미터를 간단하게 넘겨준다\n",
    "attrs={'id':'upper', 'class':'test'}\n",
    "soup.find('div',attrs=attrs)"
   ]
  },
  {
   "cell_type": "markdown",
   "metadata": {},
   "source": [
    "## find_all 함수\n"
   ]
  },
  {
   "cell_type": "code",
   "execution_count": 17,
   "metadata": {},
   "outputs": [
    {
     "data": {
      "text/plain": [
       "[<div class=\"test\" custom=\"good\" id=\"upper\">\n",
       " <h3 title=\"Good content title\">Contents Title</h3>\n",
       " <p>Test contents</p>\n",
       " </div>, <div class=\"test\" custom=\"nice\" id=\"lower\">\n",
       " <p>Test1</p>\n",
       " <p>Test2</p>\n",
       " <p>Test3</p>\n",
       " </div>]"
      ]
     },
     "execution_count": 17,
     "metadata": {},
     "output_type": "execute_result"
    }
   ],
   "source": [
    "soup.find_all('div')"
   ]
  },
  {
   "cell_type": "code",
   "execution_count": 18,
   "metadata": {},
   "outputs": [
    {
     "data": {
      "text/plain": [
       "[<div class=\"test\" custom=\"good\" id=\"upper\">\n",
       " <h3 title=\"Good content title\">Contents Title</h3>\n",
       " <p>Test contents</p>\n",
       " </div>, <div class=\"test\" custom=\"nice\" id=\"lower\">\n",
       " <p>Test1</p>\n",
       " <p>Test2</p>\n",
       " <p>Test3</p>\n",
       " </div>]"
      ]
     },
     "execution_count": 18,
     "metadata": {},
     "output_type": "execute_result"
    }
   ],
   "source": [
    "soup.find_all('div',class_='test')"
   ]
  },
  {
   "cell_type": "markdown",
   "metadata": {},
   "source": [
    "## get_test함수"
   ]
  },
  {
   "cell_type": "code",
   "execution_count": 20,
   "metadata": {},
   "outputs": [
    {
     "data": {
      "text/plain": [
       "<h3 title=\"Good content title\">Contents Title</h3>"
      ]
     },
     "execution_count": 20,
     "metadata": {},
     "output_type": "execute_result"
    }
   ],
   "source": [
    "soup.find('h3')"
   ]
  },
  {
   "cell_type": "code",
   "execution_count": 22,
   "metadata": {},
   "outputs": [
    {
     "name": "stdout",
     "output_type": "stream",
     "text": [
      "<h3 title=\"Good content title\">Contents Title</h3>\n"
     ]
    },
    {
     "data": {
      "text/plain": [
       "'Contents Title'"
      ]
     },
     "execution_count": 22,
     "metadata": {},
     "output_type": "execute_result"
    }
   ],
   "source": [
    "tag = soup.find('h3')\n",
    "print(tag)\n",
    "tag.get_text()"
   ]
  },
  {
   "cell_type": "code",
   "execution_count": 24,
   "metadata": {},
   "outputs": [
    {
     "name": "stdout",
     "output_type": "stream",
     "text": [
      "<p>Test contents</p>\n"
     ]
    },
    {
     "data": {
      "text/plain": [
       "'Test contents'"
      ]
     },
     "execution_count": 24,
     "metadata": {},
     "output_type": "execute_result"
    }
   ],
   "source": [
    "tag = soup.find('p')\n",
    "print(tag)\n",
    "tag.get_text()"
   ]
  },
  {
   "cell_type": "markdown",
   "metadata": {},
   "source": [
    "## attribute값 추출하기"
   ]
  },
  {
   "cell_type": "code",
   "execution_count": 27,
   "metadata": {},
   "outputs": [
    {
     "name": "stdout",
     "output_type": "stream",
     "text": [
      "<h3 title=\"Good content title\">Contents Title</h3>\n"
     ]
    },
    {
     "data": {
      "text/plain": [
       "'Good content title'"
      ]
     },
     "execution_count": 27,
     "metadata": {},
     "output_type": "execute_result"
    }
   ],
   "source": [
    "tag = soup.find('h3')\n",
    "print(tag)\n",
    "tag['title']"
   ]
  },
  {
   "cell_type": "markdown",
   "metadata": {},
   "source": [
    "# 뉴스에서 태그읽어오기"
   ]
  },
  {
   "cell_type": "code",
   "execution_count": 28,
   "metadata": {},
   "outputs": [],
   "source": [
    "import requests\n",
    "from bs4 import BeautifulSoup"
   ]
  },
  {
   "cell_type": "markdown",
   "metadata": {},
   "source": [
    "### id, class 속성으로 tag 찾기"
   ]
  },
  {
   "cell_type": "code",
   "execution_count": 30,
   "metadata": {},
   "outputs": [
    {
     "data": {
      "text/plain": [
       "'<!DOCTYPE HTML> \\r\\n<html lang=\"ko\"> \\r\\n<head>\\r\\n<meta charset=\"euc-kr\">\\r\\n<meta http-equiv=\"X-UA-Compatible\" content=\"IE=edge\">\\r\\n<meta name=\"referrer\" contents=\"always\">\\r\\n<meta name=\"viewport\" content=\"width=1106\" />\\r\\n<title>스마트팩토리·클라우드·IoT가 위험하다 : 네이버 뉴스</title>\\r\\n\\n\\n\\t\\n\\t\\n\\t\\t\\n\\t\\n\\n\\n\\t\\n\\t\\n\\t\\n\\t\\t\\n\\t\\t\\n\\t\\t\\n\\t\\n\\n<meta property=\"me2:post_tag\"\\t\\tcontent=\"디지털타임스 : 네이버뉴스\"/>\\n<meta property=\"me2:category1\"\\t\\tcontent=\"디지털타임스\"/>\\n<meta property=\"me2:category2\"\\t\\tcontent=\"IT/과학\"/>\\n<meta property=\"me2:image\"\\t\\t\\tcontent=\"https://imgnews.pstatic.net/image/029/2019/12/09/0002573146_001_20191209145702194.jpg\"/>\\n\\n<meta property=\"og:title\"\\t\\t\\tcontent=\"스마트팩토리·클라우드·IoT가 위험하다\"/>\\n<meta property=\"og:type\"\\t\\t\\tcontent=\"article\"/>\\n<meta property=\"og:url\"\\t\\t\\t\\tcontent=\"https://news.naver.com/main/read.nhn?mode=LSD&mid=sec&oid=029&aid=0002573146&sid1=001\"/>\\n<meta property=\"og:image\"\\t\\t\\tcontent=\"https://imgnews.pstatic.net/image/029/2019/12/09/0002573146_001_20191209145702194.jpg\"/>\\n<meta property=\"og:description\"\\t\\tcontent=\"SK인포섹 이큐스트, ‘2020년 사이버 위협 5대 전망’ 발표 랜섬웨어 공격형태 다양화…다크웹 활용 2차 공격도 우려 #제조기업 A사는 클라우드에 뒀던 일부 서버가 해킹 공격을 받아 낭패를 겪고 있다. 이로 인해\"/>\\n<meta property=\"og:article:author\"\\tcontent=\"디지털타임스 | 네이버\"/>\\n\\n<meta name=\"twitter:card\"\\t\\t\\tcontent=\"summary_large_image\">\\n<meta name=\"twitter:title\"\\t\\t\\tcontent=\"스마트팩토리·클라우드·IoT가 위험하다\">\\n<meta name=\"twitter:site\"\\t\\t\\tcontent=\"네이버 뉴스\">\\n<meta name=\"twitter:creator\"\\t\\tcontent=\"디지털타임스\">\\n<meta name=\"twitter:image\"\\t\\t\\tcontent=\"https://imgnews.pstatic.net/image/029/2019/12/09/0002573146_001_20191209145702194.jpg\">\\n<meta name=\"twitter:description\"\\tcontent=\"SK인포섹 이큐스트, ‘2020년 사이버 위협 5대 전망’ 발표 랜섬웨어 공격형태 다양화…다크웹 활용 2차 공격도 우려 #제조기업 A사는 클라우드에 뒀던 일부 서버가 해킹 공격을 받아 낭패를 겪고 있다. 이로 인해\">\\n\\n\\n\\n\\t\\n\\t\\n\\t\\t<meta name=\"napp-site-analysis\" content=\"gdid=880000AD_000000000000000002573146,service=news,collection=news\">\\n\\t\\n\\r\\n<link rel=\"shortcut icon\" type=\"image/x-icon\" href=\"https://ssl.pstatic.net/static.news/image/news/2014/favicon/favicon.ico\" />\\r\\n\\r\\n\\r\\n\\r\\n\\t\\r\\n\\t\\r\\n\\t\\r\\n\\r\\n\\n\\t\\n\\t\\n\\t\\t<link rel=\"stylesheet\" type=\"text/css\" href=\"https://ssl.pstatic.net/static.news/pnews/resources/20191205_153428/css/common.css\"/>\\n\\t\\t<link rel=\"stylesheet\" type=\"text/css\" href=\"https://ssl.pstatic.net/static.news/pnews/resources/20191205_153428/css/news.css\"/>\\n\\t\\t\\n\\t\\t\\n\\t\\n\\t\\n\\n\\r\\n\\r\\n\\r\\n\\r\\n\\r\\n<script type=\"text/javascript\" src=\"https://ssl.pstatic.net/static.news/pnews/resources/20191205_153428/js/news.jindo.js\" charset=\"euc-kr\"></script>\\r\\n\\r\\n\\r\\n\\n\\n<script type=\"text/javascript\" src=\"https://ssl.pstatic.net/static.news/pnews/resources/20191205_153428/js/news.jquery.js\" charset=\"utf-8\"></script>\\n\\n\\n\\n\\n\\n\\t\\n\\t\\n\\t\\n\\t\\n\\t\\n\\t\\n\\t\\n\\t\\t\\n\\t\\t\\n\\t\\n\\t\\n\\t\\n\\t\\n\\t\\n\\t\\n\\t\\n\\t\\n\\t\\n\\t\\n\\t\\n\\t\\n\\t\\n\\t\\n\\t\\n\\t\\n\\t\\n\\t\\t\\n\\t\\n\\t\\n\\n\\n\\n\\n\\t\\n\\t\\t\\n\\t\\t\\n\\t\\t\\t\\n\\t\\t\\n\\t\\n\\n\\n\\n<script type=\"text/javascript\">\\ndocument.domain=\\'naver.com\\';\\nvar _MAIN_NEWS_MENU_ID=\\'shm\\';\\nvar _MAIN_NEWS_SECTION_ID=\\'103\\';\\nvar ccsrv=\\'cc.naver.com\\';\\nvar g_ssc=\\'news.art\\';\\nwindow.nsc = g_ssc; \\nvar gnb_service=\\'news\\';\\nvar gnb_logout=encodeURIComponent(location.href);\\nvar gnb_template=\\'gnb_utf8\\';\\nvar gnb_brightness = 1;\\nvar gnb_one_naver = 1;\\nvar gnb_searchbox=\\'on\\';\\nvar gnb_shortnick=\\'on\\';\\n\\nvar gnb_timestamp = \"Tue Dec 10 14:26:08 KST 2019\";\\n</script>\\n\\n\\n\\n\\n<script type=\"text/javascript\" src=\"https://ssl.pstatic.net/static.news/pnews/resources/20191205_153428/js/news.service.js\" charset=\"euc-kr\"></script>\\n\\n<script type=\"text/javascript\" src=\"https://ssl.pstatic.net/static.news/pnews/resources/20191205_153428/js/nil.news.js\" charset=\"utf-8\"></script>\\n\\n\\n\\n\\n\\r\\n<meta http-equiv=\"X-UA-Compatible\" content=\"IE=9; IE=8; IE=7\" />\\r\\n</head>\\r\\n<body >\\r\\n<div id=\"wrap\">\\r\\n\\t\\r\\n\\t<div id=\"da_base\"></div>\\r\\n\\t<div id=\"da_stake\"></div>\\r\\n\\t\\r\\n\\r\\n\\r\\n<div id=\"header\" class=\"header\">\\r\\n\\t\\r\\n\\t<div id=\"u_skip\">\\r\\n\\t\\t<a href=\"#lnb\" tabindex=\"1\"><span>메인 메뉴로 바로가기</span></a>\\r\\n\\t\\t<a href=\"#main_content\" tabindex=\"2\"><span>본문으로 바로가기</span></a>\\r\\n\\t</div>\\r\\n\\t\\r\\n\\r\\n\\t<div class=\"snb_area\">\\r\\n\\t\\t<div class=\"snb_inner\">\\r\\n\\t\\t\\t<div class=\"gnb_wrap\">\\r\\n   <!-- GNB 마크업 -->\\r\\n   <div id=\"gnb\"></div>\\r\\n   <!-- //GNB 마크업 -->\\r\\n</div>\\r\\n\\t\\t\\t\\r\\n\\r\\n\\r\\n<div id=\"snb_wrap\">\\r\\n    <h1>\\r\\n        <a href=\"https://www.naver.com/\" class=\"h_logo nclicks(STA.naver)\"><span class=\"blind\">NAVER</span></a>\\r\\n        <a href=\"/\" class=\"h_news nclicks(STA.news)\"><span class=\"blind\">뉴스</span></a>\\r\\n    </h1>\\r\\n    <ul class=\"snb_related_service\">\\r\\n        <li><span class=\"snb_bdr\"></span><a href=\"https://entertain.naver.com/home\" class=\"nclicks(STA.enter)\"><img src=\"https://imgnews.pstatic.net/image/news/2017/10/snb_h_entertain.png\" width=\"52\" height=\"19\" alt=\"TV연예\"></a></li>\\n<li><span class=\"snb_bdr\"></span><a href=\"https://sports.news.naver.com\" class=\"nclicks(STA.sports)\"><img src=\"https://imgnews.pstatic.net/image/news/2017/10/snb_h_sports.png\" width=\"48\" height=\"19\" alt=\"스포츠\"></a></li>\\n<li><span class=\"snb_bdr\"></span><a href=\"https://newsstand.naver.com\" class=\"nclicks(STA.newsstand)\"><img src=\"https://imgnews.pstatic.net/image/news/2017/10/snb_h_newsstand.png\" width=\"77\" height=\"19\" alt=\"뉴스스탠드\"></a></li>\\n<li><span class=\"snb_bdr\"></span><a href=\"https://weather.naver.com\" class=\"nclicks(STA.weather)\"><img src=\"https://imgnews.pstatic.net/image/news/2017/10/snb_h_weather.png\" width=\"31\" height=\"19\" alt=\"날씨\"></a></li>\\n\\n\\r\\n        \\r\\n    </ul>\\r\\n</div>\\r\\n\\t\\t</div>\\r\\n\\t</div>\\r\\n\\t<div class=\"lnb_area\">\\r\\n\\t\\t<div class=\"lnb_inner\">\\r\\n\\t\\t\\t\\r\\n\\r\\n\\r\\n\\r\\n\\r\\n\\r\\n\\r\\n<div id=\"lnb\" class=\"lnb_menu\">\\r\\n\\t<ul>\\r\\n\\t\\t<li><a href=\"/main/home.nhn\" class=\"nclicks(LNB.home)\"><span class=\"tx\">뉴스홈</span> </a></li>\\r\\n\\t\\t<li><a href=\"/main/list.nhn?mode=LSD&mid=sec&sid1=001\" class=\"nclicks(LNB.flash)\"><span class=\"tx\">속보</span></a></li>\\r\\n\\t\\t<li><a href=\"/main/main.nhn?mode=LSD&mid=shm&sid1=100\" class=\"nclicks(LNB.pol)\"><span class=\"tx\">정치</span> </a></li>\\r\\n\\t\\t<li><a href=\"/main/main.nhn?mode=LSD&mid=shm&sid1=101\" class=\"nclicks(LNB.eco)\"><span class=\"tx\">경제</span> </a></li>\\r\\n\\t\\t<li><a href=\"/main/main.nhn?mode=LSD&mid=shm&sid1=102\" class=\"nclicks(LNB.soc)\"><span class=\"tx\">사회</span> </a></li>\\r\\n\\t\\t<li><a href=\"/main/main.nhn?mode=LSD&mid=shm&sid1=103\" class=\"nclicks(LNB.lif)\"><span class=\"tx\">생활/문화</span> </a></li>\\r\\n\\t\\t<li><a href=\"/main/main.nhn?mode=LSD&mid=shm&sid1=104\" class=\"nclicks(LNB.wor)\"><span class=\"tx\">세계</span> </a></li>\\r\\n\\t\\t<li class=\"on\"><a href=\"/main/main.nhn?mode=LSD&mid=shm&sid1=105\" class=\"nclicks(LNB.sci)\"><span class=\"tx\">IT/과학</span> <span class=\"blind\">선택됨</span></a></li>\\r\\n\\t\\t<li><a href=\"/main/opinion/home.nhn\" class=\"nclicks(LNB.opi)\"><span class=\"tx\">오피니언</span> </a></li>\\r\\n\\t\\t<li><a href=\"/main/photo/index.nhn?mid=pho\" class=\"nclicks(LNB.pho)\"><span class=\"tx\">포토</span> </a></li>\\r\\n\\t\\t<li><a href=\"/main/tv/index.nhn?mid=tvh\" class=\"nclicks(LNB.tv)\"><span class=\"tx\">TV</span> </a></li>\\r\\n\\t\\t<li><a href=\"/main/ranking/popularDay.nhn?mid=etc&sid1=111\" class=\"nclicks(LNB.ranking)\"><span class=\"tx\">랭킹뉴스</span> </a></li>\\r\\n\\t</ul>\\r\\n\\t<form name=\"lnb_searchForm\" id=\"lnb.searchForm\" method=\"get\" action=\"https://search.naver.com/search.naver\" target=\"_blank\" accept-charset=\"UTF-8\">\\r\\n\\t\\t<fieldset>\\r\\n\\t\\t\\t<legend>뉴스 검색</legend>\\r\\n\\t\\t\\t<input type=\"text\" title=\"뉴스 검색\" name=\"query\" accesskey=\"s\" class=\"text_index\" style=\"ime-mode:active;\"/>\\r\\n\\t\\t\\t<input type=\"hidden\" name=\"where\" value=\"news\">\\r\\n\\t\\t\\t<input type=\"hidden\" name=\"ie\" value=\"utf8\">\\r\\n\\t\\t\\t<input type=\"hidden\" name=\"sm\" value=\"nws_hty\">\\r\\n\\t\\t\\t<button type=\"submit\" class=\"btn_search_lnb nclicks(LNB.search)\"><span class=\"tx\"><span class=\"blind\">검색</span></span></button>\\r\\n\\t\\t</fieldset>\\r\\n\\t</form>\\r\\n</div>\\r\\n\\t\\t</div>\\r\\n\\t</div>\\r\\n\\r\\n\\t\\r\\n\\r\\n\\r\\n\\r\\n    <div class=\"lnb\">\\r\\n        \\r\\n        \\r\\n        \\r\\n        \\r\\n        <span class=\"lnb_date\"><strong>12</strong>.<strong>10</strong><span class=\"day\">(화)</span></span>\\r\\n\\r\\n        \\r\\n\\r\\n        \\n <div class=\"lnb_today\">\\n\\t\\n\\t<h3>헤드라인 뉴스</h3>\\n\\t<div id=\"lnb.mainnews\">\\n\\t\\t<ul>\\n\\t\\t\\n\\t\\t\\t<li>\\n\\t\\t\\t\\n\\t\\t\\t<a href=\"https://news.naver.com/main/read.nhn?mode=LSD&mid=shm&sid1=101&oid=001&aid=0011266588\" class=\"nclicks(nct.maintxt,,1)\" title = \"&quot;가족이자 큰 스승&quot;&hellip;김우중 빈소에 속속 총집결 대우맨들\">&quot;가족이자 큰 스승&quot;&hellip;김우중 빈소에 속속 총집결 대우맨들</a>\\n\\t\\t\\t</li>\\n\\t\\t\\n\\t\\t\\t<li>\\n\\t\\t\\t\\n\\t\\t\\t<a href=\"https://news.naver.com/main/read.nhn?mode=LSD&mid=shm&sid1=102&oid=001&aid=0011266172\" class=\"nclicks(nct.maintxt,,2)\" title = \"다섯 영웅을 보내다&hellip;&quot;격납고에서 하늘을 바라볼 때 반겨주세요&quot;\">다섯 영웅을 보내다&hellip;&quot;격납고에서 하늘을 바라볼 때 반겨…</a>\\n\\t\\t\\t</li>\\n\\t\\t\\n\\t\\t\\t<li>\\n\\t\\t\\t\\n\\t\\t\\t<a href=\"https://news.naver.com/main/read.nhn?mode=LSD&mid=shm&sid1=100&oid=001&aid=0011266207\" class=\"nclicks(nct.maintxt,,3)\" title = \"與 &quot;오늘이 마지막 기회&quot;&hellip;예산&middot;패스트트랙法 일괄처리 수순\">與 &quot;오늘이 마지막 기회&quot;&hellip;예산&middot;패스트트랙法 일괄처리 수…</a>\\n\\t\\t\\t</li>\\n\\t\\t\\n\\t\\t\\t<li>\\n\\t\\t\\t\\n\\t\\t\\t<a href=\"https://news.naver.com/main/read.nhn?mode=LSD&mid=shm&sid1=102&oid=001&aid=0011266284\" class=\"nclicks(nct.maintxt,,4)\" title = \"정경심 표창장위조 공소장 변경 불허&hellip;法 &quot;추가기소와 차이 커&quot;(종합)\">정경심 표창장위조 공소장 변경 불허&hellip;法 &quot;추가기소와 차…</a>\\n\\t\\t\\t</li>\\n\\t\\t\\n\\t\\t\\t<li>\\n\\t\\t\\t\\n\\t\\t\\t<a href=\"https://news.naver.com/main/read.nhn?mode=LSD&mid=shm&sid1=101&oid=028&aid=0002477721\" class=\"nclicks(nct.maintxt,,5)\" title = \"국토부, 타다금지법? &ldquo;제도 불확실성 없애려는 것&hellip;법 개정 중단하면 대안 있나&rdquo;\">국토부, 타다금지법? &ldquo;제도 불확실성 없애려는 것&hellip;법 개…</a>\\n\\t\\t\\t</li>\\n\\t\\t\\n\\t\\t\\t<li>\\n\\t\\t\\t\\n\\t\\t\\t<a href=\"https://news.naver.com/main/read.nhn?mode=LSD&mid=shm&sid1=100&oid=003&aid=0009599797\" class=\"nclicks(nct.maintxt,,6)\" title = \"&#39;민식이법&#39; 국회 본회의 통과&hellip;&quot;엄마 아빠가 많이 사랑해&quot;(종합)\">&#39;민식이법&#39; 국회 본회의 통과&hellip;&quot;엄마 아빠가 많이 사랑해&quot;…</a>\\n\\t\\t\\t</li>\\n\\t\\t\\n\\t\\t\\t<li>\\n\\t\\t\\t\\n\\t\\t\\t<a href=\"https://news.naver.com/main/read.nhn?mode=LSD&mid=shm&sid1=100&oid=003&aid=0009599488\" class=\"nclicks(nct.maintxt,,7)\" title = \"美, 北미사일 안보리서 논의&hellip;&#39;말 대 말&#39;&rarr;&#39;행동 대 행동&#39;으로\">美, 北미사일 안보리서 논의&hellip;&#39;말 대 말&#39;&rarr;&#39;행동 대 행동&#39;…</a>\\n\\t\\t\\t</li>\\n\\t\\t\\n\\t\\t</ul>\\n\\t</div>\\n\\t\\n </div>\\r\\n         <ul class=\"lnb_side\" tabindex=\"0\">\\n<li>\\n<a href=\"https://news.naver.com/main/factcheck/main.nhn\" class=\"nclicks(nct.right1)\"\\ntitle=\"팩트체크\"\\n>팩트체크\\n</a>\\n</li>\\n<li>\\n<a href=\"https://media.naver.com/channel/settings.nhn  \" class=\"nclicks(nct.right2)\"\\ntitle=\"언론사 구독 \"\\ntarget=\"_blank\">언론사 구독\\n</a>\\n</li>\\n<li>\\n<a href=\"https://m.news.naver.com/hotissue/main.nhn?sid1=110&cid=1083360\" class=\"nclicks(nct.right3)\"\\ntitle=\"구독 이벤트\"\\ntarget=\"_blank\">구독 이벤트\\n</a>\\n</li>\\n<li>\\n<a href=\"https://news.naver.com/main/officeList.nhn\" class=\"nclicks(nct.right4)\"\\ntitle=\"언론사 뉴스\"\\n>언론사 뉴스\\n</a>\\n</li>\\n<li class=\"end\">\\n<a href=\"https://newslibrary.naver.com/search/searchByDate.nhn\" class=\"nclicks(nct.right5)\"\\ntitle=\"라이브러리\"\\ntarget=\"_blank\">라이브러리\\n</a>\\n</li>\\n</ul>\\n\\n\\r\\n    </div>\\r\\n\\r\\n</div>\\r\\n\\t<hr>\\r\\n\\t<hr>\\r\\n\\t\\r\\n\\t<table cellpadding=\"0\" cellspacing=\"0\" class=\"container\" role=\"presentation\">\\r\\n\\t   <colgroup>\\r\\n\\t\\t   <col class=\"col_content\">\\r\\n\\t\\t   <col class=\"col_aside\">\\r\\n        </colgroup>\\r\\n\\t\\t<tr>\\r\\n\\t\\t\\t<td class=\"content\">\\r\\n\\t\\t\\t\\t<div id=\"main_content\" class=\"content\">\\r\\n\\t\\t\\t\\t\\t<script type=\"text/javascript\">\\r\\n    if (nil) {\\r\\n        nil.init(\\'naver_news\\', \\'029\\');\\r\\n        \\r\\n        nil.add({\\r\\n            \\'uri\\': \\'http://news.naver.com/main/read.nhn?oid=029&aid=0002573146\\',\\r\\n            \\'dimension_1\\': \\'IT\\'\\r\\n            , \\'dimension_3\\': \\'18590\\'\\r\\n            , \\'dimension_4\\': \\'photo\\'\\r\\n            \\r\\n        });\\r\\n        //cv 측정\\r\\n        nil.send(\\'cv\\', \\'post_view\\');\\r\\n\\r\\n        if (window.attachEvent) {\\r\\n            window.attachEvent(\"onunload\", function () {\\r\\n                nil.send(\\'leave\\');\\r\\n            });\\r\\n        } else if (window.addEventListener) {\\r\\n            window.addEventListener(\"unload\", function () {\\r\\n                nil.send(\\'leave\\');\\r\\n            }, false);\\r\\n        } else {\\r\\n            var fnOnUnload = window.onunload;\\r\\n            window.onunload = function () {\\r\\n                nil.send(\\'leave\\');\\r\\n                fnOnUnload();\\r\\n            };\\r\\n        }\\r\\n    }\\r\\n</script>\\r\\n\\r\\n<script type=\"text/javascript\">\\r\\n    if (typeof window.ReadingObserver !== \\'undefined\\') {\\r\\n        ReadingObserver.start(\\'articleBody\\', {\\r\\n            sContentBottomId: \\'spiLayer\\',\\r\\n            oid: \\'029\\',\\r\\n            aid: \\'0002573146\\',\\r\\n            sid: \\'105\\',\\r\\n            articleType: \\'1\\',\\r\\n            hitRefererType: \\'UNKNOWN\\',\\r\\n            gdid: \\'880000AD_000000000000000002573146\\'\\r\\n        });\\r\\n    }\\r\\n</script>\\r\\n\\r\\n\\r\\n\\r\\n\\r\\n<!-- test -->\\r\\n\\r\\n\\r\\n\\r\\n\\r\\n<!-- 기사 헤더 -->\\r\\n\\r\\n\\r\\n\\r\\n\\r\\n\\r\\n\\r\\n\\r\\n\\r\\n<div class=\"article_header\">\\r\\n\\t<div class=\"press_logo\">\\r\\n\\t\\t\\r\\n\\t\\t\\r\\n\\t\\t\\t\\r\\n\\t\\t\\t<a href=\"http://www.dt.co.kr/\" target=\"_blank\" class=\"nclicks(atp_press)\"><img src=\\'https://mimgnews.pstatic.net/image/upload/office_logo/029/2018/07/18/logo_029_38_20180718140418.jpg\\' height=\\'35\\' alt=\\'디지털타임스\\' title=\\'디지털타임스\\' class=\\'\\' ></a>\\r\\n\\t\\t\\r\\n\\t</div>\\r\\n\\t\\n<div class=\"head_channel\" style=\"display: none;\">\\n    <button type=\"button\" class=\"head_channel_button nclicks(atp_pick)\">\\n        <i class=\"head_channel_pick\">PICK</i>\\n        <i class=\"head_channel_info\">안내</i>\\n    </button>\\n    <p class=\"head_channel_layer\" style=\"display: none;\">\\n        <span class=\"head_channel_layer_text\">해당 언론사가 주요기사로<br>직접 선정한 기사입니다.</span>\\n        <a href=\"https://news.naver.com/main/static/channelPromotion.html\" target=\"_blank\" class=\"head_channel_layer_link\">언론사 편집판 바로가기</a>\\n        <button type=\"button\" class=\"head_channel_layer_close\">닫기</button>\\n    </p>\\n</div>\\n<script type=\"text/javascript\">\\n    jindo.$Fn(function () {\\n        var params = getLocationQueryParams();\\n        var url = \"/main/ajax/channel/isPickedArticle.nhn?oid=\" + params.oid + \"&aid=\" + params.aid;\\n        var oAjax = jindo.$Ajax(url, {\\n            method: \"get\",\\n            onload: function (res) {\\n                var isPicked;\\n                try {\\n                    isPicked = res.json();\\n                } catch (e) {\\n                    return;\\n                }\\n\\n                if (!isPicked) {\\n                    return;\\n                }\\n\\n                initChannelPickBanner();\\n            }\\n        });\\n\\n        oAjax.request();\\n\\n        function initChannelPickBanner() {\\n            var welHeadTop = jindo.$ElementList(\".article_header\").getFirst();\\n            var welLogo = jindo.$Element(welHeadTop.query(\".head_channel\"));\\n            var welLayer = jindo.$Element(welLogo.query(\".head_channel_layer\"));\\n            var welChannelPickBannerBtn = jindo.$Element(welLogo.query(\".head_channel_button\"));\\n            var layerAutoCloseManager = LayerAutoCloseManager.get_instance();\\n\\n            var layerForAutoCloseMananger = {\\n                close: function () {\\n                    welLayer.hide();\\n                },\\n                isAutoCloseExceptionEl: function (el) {\\n                    // toggle button일 경우 예외\\n                    return (welChannelPickBannerBtn.$value() === el) || welChannelPickBannerBtn.isParentOf(el);\\n                }\\n            };\\n\\n            jindo.$Fn(function (evt) {\\n                welLayer.toggle();\\n\\n                // open 이라면 적용\\n                if (welLayer.visible()) {\\n                    layerAutoCloseManager.setCurrentVisibleLayer(layerForAutoCloseMananger);\\n                }\\n            }).attach(welChannelPickBannerBtn, \"click\");\\n\\n            jindo.$Fn(function (evt) {\\n                var wel = jindo.$Element(evt.currentElement);\\n                evt.stop();\\n                window.open(wel.attr(\"href\"), \"\", \"width=460, height=496\");\\n            }).attach(jindo.$Element(welLayer.query(\".head_channel_layer_link\")), \"click\");\\n\\n            welLogo.show();\\n        }\\n\\n        function getLocationQueryParams() {\\n            var params = {};\\n            var kv = [];\\n            var queryString = location.search.substr(1);\\n            var paramStrList;\\n            if (queryString) {\\n                paramStrList = queryString.split(\"&\");\\n                for (var i = 0, len = paramStrList.length; i < len; i++) {\\n                    kv = paramStrList[i].split(\"=\");\\n                    params[kv[0]] = kv[1];\\n                }\\n            }\\n\\n            return params;\\n        }\\n    }).attach(window, \"load\");\\n</script>\\r\\n\\t<div class=\"article_info\">\\r\\n\\t\\t<h3 id=\"articleTitle\">스마트팩토리·클라우드·IoT가 위험하다</h3>\\r\\n\\t\\t<div class=\"sponsor\">\\r\\n\\t\\t\\t<!-- 기사 헤더 > 정보 -->\\r\\n\\r\\n\\r\\n\\r\\n\\r\\n기사입력 <span class=\"t11\">2019.12.09. 오후 2:57</span>\\r\\n\\r\\n\\r\\n\\r\\n\\t\\r\\n\\t\\r\\n\\r\\n\\r\\n<!-- // 기사 헤더 > 정보 -->\\r\\n\\t\\t\\t\\t\\r\\n\\t\\t\\t\\t\\t<a href=\"http://www.dt.co.kr/contents.html?article_no=2019120902109931650001&ref=naver\" target=\"_blank\" class=\"btn_artialoriginal nclicks(are.ori,\\'029\\', \\'nilGParam\\', \\'029_af9898900b5991f0\\')\">기사원문</a>\\r\\n\\t\\t\\t\\t\\r\\n\\t\\t\\t\\t<a href=\"/main/scrap/folderList.nhn?scrapItem.officeId=029&scrapItem.articleId=0002573146\" class=\"btn_scrap nclicks(atp_scrap)\" title=\"스크랩\" target=\"_blank\">스크랩</a>\\r\\n\\t\\t\\t\\t<!-- 영문뉴스 듣기 -->\\r\\n\\r\\n\\t<div class=\"tts_svc\">\\r\\n\\t\\t<!-- [D] 국문기사 경우 : tts 아이콘 클릭했을때 .tts_voice 에 on 클래스를 추가해주세요. / on 일때 대체텍스트 \\'듣는중..\\'으로 변경 -->\\r\\n\\t\\t<!-- [D] 영문기사 경우 : 버튼 클릭시 .tts_popup 팝업레이어 display:block 처리 -->\\r\\n\\t\\t<button type=\"button\" class=\"tts_voice nclicks(tts_play)\" title=\"텍스트 음성 변환 서비스\">\\r\\n\\t\\t\\t<span class=\"tts_voice_ico\"></span>\\r\\n\\t\\t\\t<span class=\"tts_voice_txt\">본문듣기</span>\\r\\n\\t\\t</button>\\r\\n\\t\\t<i class=\"tts_bar\"></i>\\r\\n        <button type=\"button\" class=\"tts_setting nclicks(tts_set)\" title=\"텍스트 음성 변환 설정\">\\r\\n            <span class=\"tts_setting_txt\">설정</span>\\r\\n        </button>\\r\\n\\t\\t<div class=\"tts_popup tts_rgt\" style=\"display: none;\">\\r\\n\\t        <div class=\"tts_spd_select _tts_gender_select\">\\r\\n\\t            <span class=\"blind\">성별 선택하기</span>\\r\\n\\t            <!-- [D] 선택 : <span class=\"spd_btn--on\">선택된 속도</span> 추가 -->\\r\\n\\t            <a href=\"#\" id=\"gender_sel_f\" class=\"_gender_btn nclicks(tts_female)\" data-value=\"f\"><span class=\"spd_btn\"></span>여성</a>\\r\\n\\t            <a href=\"#\" id=\"gender_sel_m\" class=\"_gender_btn nclicks(tts_male)\" data-value=\"m\"><span class=\"spd_btn spd_btn--on\">선택된 성별</span>남성</a>\\r\\n\\t        </div>\\r\\n\\t        <i class=\"tts_spd_bar\"></i>\\r\\n\\t        <div class=\"tts_spd_select _tts_spd_select\">\\r\\n\\t\\t      <span class=\"blind\">속도 선택하기</span>\\r\\n              <!-- [D] 선택 : <span class=\"spd_btn--on\">선택된 속도</span> 추가 -->\\r\\n              <a href=\"#\" id=\"speed_sel3\" class=\"_spdbar_btn nclicks(tts_speed)\" data-value=\"3\"><span class=\"spd_btn\"></span>느림</a>\\r\\n              <a href=\"#\" id=\"speed_sel2\" class=\"_spdbar_btn nclicks(tts_speed)\" data-value=\"2\"><span class=\"spd_btn spd_btn--on\">선택된 속도</span>보통</a>\\r\\n              <a href=\"#\" id=\"speed_sel0\" class=\"_spdbar_btn nclicks(tts_speed)\" data-value=\"0\"><span class=\"spd_btn\"></span>빠름</a>\\r\\n            </div>\\r\\n            <div class=\"tts_save\">\\r\\n              <p class=\"tts_save__text\">설정을 저장하시겠습니까?</p>\\r\\n              <a href=\"#\" class=\"tts_save__btn _spd_save_btn nclicks(tts_save)\">확인</a>\\r\\n              <a href=\"#\" class=\"tts_save__btn _spd_cancel_btn nclicks(tts_cancel)\">취소</a>\\r\\n            </div>\\r\\n        </div>\\r\\n\\t</div>\\r\\n\\t<div id=\"tts_player_div\" style=\"display:none;\"></div>\\r\\n\\r\\n\\t<script type=\"text/javascript\">\\r\\n\\tvar ttsPlayer = new nhn.NewsTTSPlayer({\\r\\n\\t\\tsOfficeId\\t:\\'029\\',\\r\\n\\t\\tsArticleId\\t:\\'0002573146\\',\\r\\n\\t\\tsNationText : \\'ko\\'\\r\\n\\t});\\r\\n\\t</script>\\r\\n\\r\\n\\t\\t\\t\\t<div class=\"article_btns\">\\r\\n\\t\\t\\t\\t\\t\\r\\n\\t\\t\\t\\t\\t<div class=\"article_btns_left\">\\r\\n\\t\\t\\t\\t\\t\\t<div class=\"_reactionModule u_likeit\" data-sid=\"NEWS\" data-cid=\"ne_029_0002573146\" style=\"visibility: hidden\" >\\r\\n\\t\\t\\t\\t\\t\\t\\t<a class=\"u_likeit_button _face nclicks(RTL.face)\" data-label=\"news\" href=\"#\" aria-haspopup=\"true\" aria-pressed=\"false\">\\r\\n\\t\\t\\t\\t\\t\\t\\t\\t<span class=\"u_likeit_icons _icons\">\\r\\n\\t\\t\\t\\t\\t\\t\\t\\t\\t<span class=\"u_likeit_icon __reaction__like\"><span class=\"u_likeit_blind\">좋아요</span></span>\\r\\n\\t\\t\\t\\t\\t\\t\\t\\t</span>\\r\\n\\t\\t\\t\\t\\t\\t\\t\\t<span class=\"u_likeit_blind\">좋아요 평가하기</span>\\r\\n\\t\\t\\t\\t\\t\\t\\t\\t<span class=\"u_likeit_text _count\">공감</span>\\r\\n\\t\\t\\t\\t\\t\\t\\t</a>\\r\\n\\t\\t\\t\\t\\t\\t\\t<ul class=\"u_likeit_layer _faceLayer\" role=\"menu\">\\r\\n\\t\\t\\t\\t\\t\\t\\t\\t<li class=\"u_likeit_list good\" role=\"menuitem\">\\r\\n\\t\\t\\t\\t\\t\\t\\t\\t\\t<a class=\"u_likeit_list_button _button\" data-type=\"like\"  data-log=\"RTL.like|RTL.unlike\" href=\"#\" role=\"button\" aria-selected=\"false\">\\r\\n\\t\\t\\t\\t\\t\\t\\t\\t\\t\\t<span class=\"u_likeit_list_name _label\">좋아요</span>\\r\\n\\t\\t\\t\\t\\t\\t\\t\\t\\t\\t<span class=\"u_likeit_list_count _count\">0</span>\\r\\n\\t\\t\\t\\t\\t\\t\\t\\t\\t</a>\\r\\n\\t\\t\\t\\t\\t\\t\\t\\t</li>\\r\\n\\t\\t\\t\\t\\t\\t\\t\\t<li class=\"u_likeit_list warm\" role=\"menuitem\">\\r\\n\\t\\t\\t\\t\\t\\t\\t\\t\\t<a class=\"u_likeit_list_button _button\" data-type=\"warm\" data-log=\"RTL.warm|RTL.unwarm\" href=\"#\" role=\"button\" aria-selected=\"false\">\\r\\n\\t\\t\\t\\t\\t\\t\\t\\t\\t\\t<span class=\"u_likeit_list_name _label\">훈훈해요</span>\\r\\n\\t\\t\\t\\t\\t\\t\\t\\t\\t\\t<span class=\"u_likeit_list_count _count\">0</span>\\r\\n\\t\\t\\t\\t\\t\\t\\t\\t\\t</a>\\r\\n\\t\\t\\t\\t\\t\\t\\t\\t</li>\\r\\n\\t\\t\\t\\t\\t\\t\\t\\t<li class=\"u_likeit_list sad\" role=\"menuitem\">\\r\\n\\t\\t\\t\\t\\t\\t\\t\\t\\t<a class=\"u_likeit_list_button _button\" data-type=\"sad\" data-log=\"RTL.sad|RTL.unsad\" href=\"#\" role=\"button\" aria-selected=\"false\">\\r\\n\\t\\t\\t\\t\\t\\t\\t\\t\\t\\t<span class=\"u_likeit_list_name _label\">슬퍼요</span>\\r\\n\\t\\t\\t\\t\\t\\t\\t\\t\\t\\t<span class=\"u_likeit_list_count _count\">0</span>\\r\\n\\t\\t\\t\\t\\t\\t\\t\\t\\t</a>\\r\\n\\t\\t\\t\\t\\t\\t\\t\\t</li>\\r\\n\\t\\t\\t\\t\\t\\t\\t\\t<li class=\"u_likeit_list angry\" role=\"menuitem\">\\r\\n\\t\\t\\t\\t\\t\\t\\t\\t\\t<a class=\"u_likeit_list_button _button\" data-type=\"angry\" data-log=\"RTL.angry|RTL.unangry\" href=\"#\" role=\"button\" aria-selected=\"false\">\\r\\n\\t\\t\\t\\t\\t\\t\\t\\t\\t\\t<span class=\"u_likeit_list_name _label\">화나요</span>\\r\\n\\t\\t\\t\\t\\t\\t\\t\\t\\t\\t<span class=\"u_likeit_list_count _count\">0</span>\\r\\n\\t\\t\\t\\t\\t\\t\\t\\t\\t</a>\\r\\n\\t\\t\\t\\t\\t\\t\\t\\t</li>\\r\\n\\t\\t\\t\\t\\t\\t\\t\\t<li class=\"u_likeit_list want\" role=\"menuitem\">\\r\\n\\t\\t\\t\\t\\t\\t\\t\\t\\t<a class=\"u_likeit_list_button _button\" data-type=\"want\" data-log=\"RTL.want|RTL.unwant\" href=\"#\" role=\"button\" aria-selected=\"false\">\\r\\n\\t\\t\\t\\t\\t\\t\\t\\t\\t\\t<span class=\"u_likeit_list_name _label\">후속기사 원해요</span>\\r\\n\\t\\t\\t\\t\\t\\t\\t\\t\\t\\t<span class=\"u_likeit_list_count _count\">0</span>\\r\\n\\t\\t\\t\\t\\t\\t\\t\\t\\t</a>\\r\\n\\t\\t\\t\\t\\t\\t\\t\\t</li>\\r\\n\\t\\t\\t\\t\\t\\t\\t</ul>\\r\\n\\t\\t\\t\\t\\t\\t</div>\\r\\n\\t\\t\\t\\t\\t\\t<a href=\"#\" class=\"pi_btn_count nclicks(atp_reply)\" id=\"articleTitleCommentCount\">\\r\\n\\t\\t\\t\\t\\t\\t\\t<span class=\"blind pi_btn_count_blind\">댓글</span><span class=\"lo_txt\"></span>\\r\\n\\t\\t\\t\\t\\t\\t</a>\\r\\n\\t\\t\\t\\t\\t</div>\\r\\n\\t\\t\\t\\t\\t\\r\\n\\t\\t\\t\\t\\t<div class=\"article_btns_right\">\\r\\n\\t\\t\\t\\t\\t\\t\\r\\n\\t\\t\\t\\t\\t\\t\\r\\n\\t\\t\\t\\t\\t\\t\\t<div class=\"media_end_head_autosummary _auto_summary_wrapper\">\\r\\n\\t\\t\\t\\t\\t\\t\\t\\t<a href=\"javascript:;\" class=\"media_end_head_autosummary_button _toggle_btn nclicks(sum_summary)\">요약봇<span class=\"media_end_head_autosummary_icon_beta\"><span class=\"blind\">beta</span></span></a>\\r\\n\\t\\t\\t\\t\\t\\t\\t\\t<div class=\"media_end_head_autosummary_layer _auto_summary_contents\">\\r\\n\\t\\t\\t\\t\\t\\t\\t\\t\\t<div class=\"media_end_head_autosummary_layer_head\">\\r\\n\\t\\t\\t\\t\\t\\t\\t\\t\\t\\t<strong class=\"media_end_head_autosummary_layer_head_tit\">요약봇<span class=\"media_end_head_autosummary_icon_beta\"><span class=\"blind\">beta</span></span><a href=\"https://help.naver.com/support/alias/news/news_20.naver?\" class=\"media_end_head_autosummary_help nclicks(sum_help)\" target=\"_blank\">도움말</a></strong>\\r\\n\\t\\t\\t\\t\\t\\t\\t\\t\\t\\t<span class=\"media_end_head_autosummary_layer_head_txt\">자동 추출 기술로 요약된 내용입니다. 요약 기술의 특성상 본문의 주요 내용이 제외될 수 있어, 전체 맥락을 이해하기 위해서는<br>기사 본문 전체보기를 권장합니다.</span>\\r\\n\\t\\t\\t\\t\\t\\t\\t\\t\\t</div>\\r\\n\\t\\t\\t\\t\\t\\t\\t\\t\\t<div class=\"media_end_head_autosummary_layer_body\">\\r\\n\\t\\t\\t\\t\\t\\t\\t\\t\\t\\t<div class=\"_contents_body\"></div>\\r\\n\\t\\t\\t\\t\\t\\t\\t\\t\\t\\t<div class=\"_autosummary_feedback\" style=\"display:none;\">\\r\\n\\t\\t\\t\\t\\t\\t\\t\\t\\t\\t\\t<div class=\"media_end_head_autosummary_feedback _done_message\">\\r\\n\\t\\t\\t\\t\\t\\t\\t\\t\\t\\t\\t\\t<strong>자동 요약 결과가 어땠나요?</strong>\\r\\n\\t\\t\\t\\t\\t\\t\\t\\t\\t\\t\\t\\t<span class=\"media_end_head_autosummary_feedback_completion\">소중한 의견이 반영되었습니다.</span>\\r\\n\\t\\t\\t\\t\\t\\t\\t\\t\\t\\t\\t</div>\\r\\n\\t\\t\\t\\t\\t\\t\\t\\t\\t\\t\\t<div class=\"media_end_head_autosummary_feedback _feedback_ui\">\\r\\n\\t\\t\\t\\t\\t\\t\\t\\t\\t\\t\\t\\t<strong>자동 요약 결과가 어땠나요?</strong>\\r\\n\\t\\t\\t\\t\\t\\t\\t\\t\\t\\t\\t\\t<div class=\"media_end_head_autosummary_feedback_btn\">\\r\\n\\t\\t\\t\\t\\t\\t\\t\\t\\t\\t\\t\\t\\t<div class=\"_reactionModule u_likeit\" data-sid=\"NEWS_SUMMARY\" data-cid=\"029_0002573146\">\\r\\n\\t\\t\\t\\t\\t\\t\\t\\t\\t\\t\\t\\t\\t\\t<ul class=\"u_likeit_layer _faceLayer\" role=\"menu\">\\r\\n\\t\\t\\t\\t\\t\\t\\t\\t\\t\\t\\t\\t\\t\\t\\t<li class=\"u_likeit_list like\" role=\"menuitem\">\\r\\n\\t\\t\\t\\t\\t\\t\\t\\t\\t\\t\\t\\t\\t\\t\\t\\t<a class=\"u_likeit_list_button _button nclicks(sum_satis)\" href=\"javascript:;\" data-type=\"like\" role=\"button\" aria-selected=\"false\">\\r\\n\\t\\t\\t\\t\\t\\t\\t\\t\\t\\t\\t\\t\\t\\t\\t\\t\\t<span class=\"u_likeit_list_name _label\">만족</span>\\r\\n\\t\\t\\t\\t\\t\\t\\t\\t\\t\\t\\t\\t\\t\\t\\t\\t</a>\\r\\n\\t\\t\\t\\t\\t\\t\\t\\t\\t\\t\\t\\t\\t\\t\\t</li>\\r\\n\\t\\t\\t\\t\\t\\t\\t\\t\\t\\t\\t\\t\\t\\t\\t<li class=\"u_likeit_list normal\" role=\"menuitem\">\\r\\n\\t\\t\\t\\t\\t\\t\\t\\t\\t\\t\\t\\t\\t\\t\\t\\t<a class=\"u_likeit_list_button _button nclicks(sum_average)\" href=\"javascript:;\" data-type=\"normal\" role=\"button\" aria-selected=\"false\">\\r\\n\\t\\t\\t\\t\\t\\t\\t\\t\\t\\t\\t\\t\\t\\t\\t\\t\\t<span class=\"u_likeit_list_name _label\">보통</span>\\r\\n\\t\\t\\t\\t\\t\\t\\t\\t\\t\\t\\t\\t\\t\\t\\t\\t</a>\\r\\n\\t\\t\\t\\t\\t\\t\\t\\t\\t\\t\\t\\t\\t\\t\\t</li>\\r\\n\\t\\t\\t\\t\\t\\t\\t\\t\\t\\t\\t\\t\\t\\t\\t<li class=\"u_likeit_list toobad\" role=\"menuitem\">\\r\\n\\t\\t\\t\\t\\t\\t\\t\\t\\t\\t\\t\\t\\t\\t\\t\\t<a class=\"u_likeit_list_button _button nclicks(sum_dissatis)\" href=\"javascript:;\" data-type=\"toobad\" role=\"button\" aria-selected=\"false\">\\r\\n\\t\\t\\t\\t\\t\\t\\t\\t\\t\\t\\t\\t\\t\\t\\t\\t\\t<span class=\"u_likeit_list_name _label\">불만족</span>\\r\\n\\t\\t\\t\\t\\t\\t\\t\\t\\t\\t\\t\\t\\t\\t\\t\\t</a>\\r\\n\\t\\t\\t\\t\\t\\t\\t\\t\\t\\t\\t\\t\\t\\t\\t</li>\\r\\n\\t\\t\\t\\t\\t\\t\\t\\t\\t\\t\\t\\t\\t\\t</ul>\\r\\n\\t\\t\\t\\t\\t\\t\\t\\t\\t\\t\\t\\t\\t</div>\\r\\n\\t\\t\\t\\t\\t\\t\\t\\t\\t\\t\\t\\t</div>\\r\\n\\t\\t\\t\\t\\t\\t\\t\\t\\t\\t\\t</div>\\r\\n\\t\\t\\t\\t\\t\\t\\t\\t\\t\\t</div>\\r\\n\\t\\t\\t\\t\\t\\t\\t\\t\\t</div>\\r\\n\\t\\t\\t\\t\\t\\t\\t\\t\\t<span class=\"media_end_head_autosummary_blur\"></span>\\r\\n\\t\\t\\t\\t\\t\\t\\t\\t\\t<a href=\"javascript:;\" class=\"media_end_head_autosummary_layer_close _close_button nclicks(sum_close)\"><span class=\"blind\">닫기</span></a>\\r\\n\\t\\t\\t\\t\\t\\t\\t\\t</div>\\r\\n\\t\\t\\t\\t\\t\\t\\t</div>\\r\\n\\t\\t\\t\\t\\t\\t\\r\\n\\t\\t\\t\\t\\t\\t\\r\\n\\t\\t\\t\\t\\t\\t\\r\\n\\t\\t\\t\\t\\t\\t\\t<div class=\"media_end_head_fontsize _font_setting_menu_wrapper\">\\r\\n\\t\\t\\t\\t\\t\\t\\t\\t<a href=\"javascript:;\" class=\"media_end_head_fontsize_set _toggle_btn nclicks(fnt_set)\"><span class=\"blind\">글자 크기 변경하기</span></a>\\r\\n\\t\\t\\t\\t\\t\\t\\t\\t<div class=\"media_end_head_fontsize_setlayer\">\\r\\n\\t\\t\\t\\t\\t\\t\\t\\t\\t<div class=\"media_end_head_fontsize_setlayer_section _font_size_option\">\\r\\n\\t\\t\\t\\t\\t\\t\\t\\t\\t\\t<strong class=\"media_end_head_fontsize_setlayer_section_tit\">크기</strong>\\r\\n\\t\\t\\t\\t\\t\\t\\t\\t\\t\\t<ul class=\"media_end_head_fontsize_setlayer_select\">\\r\\n\\t\\t\\t\\t\\t\\t\\t\\t\\t\\t\\t<li class=\"media_end_head_fontsize_option1 _opt\" data-value=\"size1\">\\r\\n\\t\\t\\t\\t\\t\\t\\t\\t\\t\\t\\t\\t<a href=\"javascript:;\" class=\"media_end_head_fontsize_option_text nclicks(fnt_size)\">가<em class=\"blind\">1단계</em></a>\\r\\n\\t\\t\\t\\t\\t\\t\\t\\t\\t\\t\\t</li>\\r\\n\\t\\t\\t\\t\\t\\t\\t\\t\\t\\t\\t<li class=\"media_end_head_fontsize_option2 _opt\" data-value=\"size2\">\\r\\n\\t\\t\\t\\t\\t\\t\\t\\t\\t\\t\\t\\t<a href=\"javascript:;\" class=\"media_end_head_fontsize_option_text nclicks(fnt_size)\">가<em class=\"blind\">2단계</em></a>\\r\\n\\t\\t\\t\\t\\t\\t\\t\\t\\t\\t\\t</li>\\r\\n\\t\\t\\t\\t\\t\\t\\t\\t\\t\\t\\t<li class=\"media_end_head_fontsize_option3 _opt\" data-value=\"size3\">\\r\\n\\t\\t\\t\\t\\t\\t\\t\\t\\t\\t\\t\\t<a href=\"javascript:;\" class=\"media_end_head_fontsize_option_text nclicks(fnt_size)\">가<em class=\"blind\">3단계</em></a>\\r\\n\\t\\t\\t\\t\\t\\t\\t\\t\\t\\t\\t</li>\\r\\n\\t\\t\\t\\t\\t\\t\\t\\t\\t\\t\\t<li class=\"media_end_head_fontsize_option4 _opt\" data-value=\"size4\">\\r\\n\\t\\t\\t\\t\\t\\t\\t\\t\\t\\t\\t\\t<a href=\"javascript:;\" class=\"media_end_head_fontsize_option_text nclicks(fnt_size)\">가<em class=\"blind\">4단계</em></a>\\r\\n\\t\\t\\t\\t\\t\\t\\t\\t\\t\\t\\t</li>\\r\\n\\t\\t\\t\\t\\t\\t\\t\\t\\t\\t\\t<li class=\"media_end_head_fontsize_option5 _opt\" data-value=\"size5\">\\r\\n\\t\\t\\t\\t\\t\\t\\t\\t\\t\\t\\t\\t<a href=\"javascript:;\" class=\"media_end_head_fontsize_option_text nclicks(fnt_size)\">가<em class=\"blind\">5단계</em></a>\\r\\n\\t\\t\\t\\t\\t\\t\\t\\t\\t\\t\\t</li>\\r\\n\\t\\t\\t\\t\\t\\t\\t\\t\\t\\t</ul>\\r\\n\\t\\t\\t\\t\\t\\t\\t\\t\\t</div>\\r\\n\\t\\t\\t\\t\\t\\t\\t\\t\\t<div class=\"media_end_head_fontsize_setlayer_section _font_family_option\" style=\"display:none;\">\\r\\n\\t\\t\\t\\t\\t\\t\\t\\t\\t\\t<strong class=\"media_end_head_fontsize_setlayer_section_tit\">글꼴</strong>\\r\\n\\t\\t\\t\\t\\t\\t\\t\\t\\t\\t<ul class=\"media_end_head_fontsize_setlayer_select\">\\r\\n\\t\\t\\t\\t\\t\\t\\t\\t\\t\\t\\t<li class=\"media_end_head_fontstyle_option _opt\" data-value=\"font1\"><a href=\"javascript:;\" class=\"media_end_head_fontstyle_option_text nclicks(fnt_style)\">굴림</a></li>\\r\\n\\t\\t\\t\\t\\t\\t\\t\\t\\t\\t\\t<li class=\"media_end_head_fontstyle_option _opt\" data-value=\"font2\"><a href=\"javascript:;\" class=\"media_end_head_fontstyle_option_text nclicks(fnt_style)\">돋움</a></li>\\r\\n\\t\\t\\t\\t\\t\\t\\t\\t\\t\\t\\t<li class=\"media_end_head_fontstyle_option _opt\" data-value=\"font4\"><a href=\"javascript:;\" class=\"media_end_head_fontstyle_option_text nclicks(fnt_style)\">맑은고딕</a></li>\\r\\n\\t\\t\\t\\t\\t\\t\\t\\t\\t\\t\\t<li class=\"media_end_head_fontstyle_option _opt\" data-value=\"font5\" data-nanum-font=\"true\"><a href=\"javascript:;\" class=\"media_end_head_fontstyle_option_text nclicks(fnt_style)\">나눔고딕</a></li>\\r\\n\\t\\t\\t\\t\\t\\t\\t\\t\\t\\t</ul>\\r\\n\\t\\t\\t\\t\\t\\t\\t\\t\\t</div>\\r\\n\\t\\t\\t\\t\\t\\t\\t\\t\\t<a href=\"javascript:;\" class=\"media_end_head_fontsize_close _close_btn nclicks(fnt_close)\"><span class=\"blind\">닫기</span></a>\\r\\n\\t\\t\\t\\t\\t\\t\\t\\t\\t<div class=\"media_end_head_fontsize_linklayer _font_family_install_guide\">\\r\\n\\t\\t\\t\\t\\t\\t\\t\\t\\t\\t<p class=\"media_end_head_fontsize_linklayer_txt\"><strong>나눔고딕</strong> 폰트가 설치되어있지 않습니다.<br><em>나눔 폰트</em>를 설치하러 가시겠습니까?</p>\\r\\n\\t\\t\\t\\t\\t\\t\\t\\t\\t\\t<div class=\"media_end_head_fontsize_linklayer_btns\">\\r\\n\\t\\t\\t\\t\\t\\t\\t\\t\\t\\t\\t<a href=\"http://hangeul.naver.com/2017/nanum\" class=\"media_end_head_fontsize_linklayer_btn _yes_btn\" target=\"_blank\">예</a>\\r\\n\\t\\t\\t\\t\\t\\t\\t\\t\\t\\t\\t<a href=\"javascript:;\" class=\"media_end_head_fontsize_linklayer_btn _no_btn\">아니오</a>\\r\\n\\t\\t\\t\\t\\t\\t\\t\\t\\t\\t</div>\\r\\n\\t\\t\\t\\t\\t\\t\\t\\t\\t\\t<a href=\"javascript:;\" class=\"media_end_head_fontsize_linklayer_close _close_btn\"><span class=\"blind\">닫기</span></a>\\r\\n\\t\\t\\t\\t\\t\\t\\t\\t\\t</div>\\r\\n\\t\\t\\t\\t\\t\\t\\t\\t</div>\\r\\n\\t\\t\\t\\t\\t\\t\\t</div>\\r\\n\\t\\t\\t\\t\\t\\t\\r\\n\\t\\t\\t\\t\\t\\t\\t<a href=\"/main/tool/print.nhn?oid=029&aid=0002573146\" class=\"media_end_head_print nclicks(atp_print)\" target=\"_blank\"><span class=\"bline\">인쇄하기</span></a>\\r\\n\\t\\t\\t\\t\\t\\t\\t<div class=\"sns_share\">\\r\\n\\t\\t\\t\\t\\t\\t\\t\\t<a href=\"#\" title=\"보내기\" class=\"naver-splugin nclicks(atp_share)\" data-style=\"unity\"\\r\\n\\t\\t\\t\\t\\t\\t\\t\\t   data-url=\"http://news.naver.com/main/read.nhn?mode=LSD&mid=sec&sid1=001&oid=029&aid=0002573146\"\\r\\n\\t\\t\\t\\t\\t\\t\\t\\t   data-title=\"스마트팩토리·클라우드·IoT가 위험하다\"\\r\\n\\t\\t\\t\\t\\t\\t\\t\\t   data-likeServiceId=\"NEWS\"\\r\\n\\t\\t\\t\\t\\t\\t\\t\\t   data-likeContentsId=\"ne_029_0002573146\"\\r\\n\\t\\t\\t\\t\\t\\t\\t\\t   data-mail-url=\"http://news.naver.com/main/read.nhn?mode=LSD&mid=sec&sid1=001&oid=029&aid=0002573146&amp;lfrom=mail\"\\r\\n\\t\\t\\t\\t\\t\\t\\t\\t   data-blog-url=\"http://news.naver.com/main/read.nhn?mode=LSD&mid=sec&sid1=001&oid=029&aid=0002573146&amp;lfrom=blog\"\\r\\n\\t\\t\\t\\t\\t\\t\\t\\t   data-blog-source-type=\"3\"\\r\\n\\t\\t\\t\\t\\t\\t\\t\\t   data-blog-blog-id=\"naver\"\\r\\n\\t\\t\\t\\t\\t\\t\\t\\t   data-cafe-url=\"http://news.naver.com/main/read.nhn?mode=LSD&mid=sec&sid1=001&oid=029&aid=0002573146&amp;lfrom=cafe\"\\r\\n\\t\\t\\t\\t\\t\\t\\t\\t   data-cafe-source-type=\"3\"\\r\\n\\t\\t\\t\\t\\t\\t\\t\\t   data-memo-url=\"http://news.naver.com/main/read.nhn?mode=LSD&mid=sec&sid1=001&oid=029&aid=0002573146&amp;lfrom=memo\"\\r\\n\\t\\t\\t\\t\\t\\t\\t\\t   data-calendar-url=\"http://news.naver.com/main/read.nhn?mode=LSD&mid=sec&sid1=001&oid=029&aid=0002573146&amp;lfrom=calendar\"\\r\\n\\t\\t\\t\\t\\t\\t\\t\\t   data-band-url=\"http://news.naver.com/main/read.nhn?mode=LSD&mid=sec&sid1=001&oid=029&aid=0002573146&amp;lfrom=band\"\\r\\n\\t\\t\\t\\t\\t\\t\\t\\t   data-facebook-url=\"http://news.naver.com/main/read.nhn?mode=LSD&mid=sec&sid1=001&oid=029&aid=0002573146&amp;lfrom=facebook\"\\r\\n\\t\\t\\t\\t\\t\\t\\t\\t   data-twitter-url=\"http://news.naver.com/main/read.nhn?mode=LSD&mid=sec&sid1=001&oid=029&aid=0002573146&amp;lfrom=twitter\"\\r\\n\\t\\t\\t\\t\\t\\t\\t\\t   data-me-display=\"off\">\\r\\n\\t\\t\\t\\t\\t\\t\\t\\t<span class=\"naver-splugin-c sns_share_ico\"></span>\\r\\n\\t\\t\\t\\t\\t\\t\\t\\t<span class=\"blind\">보내기</span>\\r\\n\\t\\t\\t\\t\\t\\t\\t\\t</a>\\r\\n\\t\\t\\t\\t\\t\\t\\t</div>\\r\\n\\t\\t\\t\\t\\t</div>\\r\\n\\t\\t\\t</div>\\r\\n\\t\\t</div>\\r\\n\\t</div>\\r\\n</div>\\r\\n<!-- // 기사 헤더 --><div class=\"article_body size3  _font_setting_target\" id=\"articleBody\">\\n\\t\\n\\t<div id=\"articleBodyContents\" class=\"_article_body_contents\">\\n\\t<!-- 본문 내용 -->\\n\\t<!-- TV플레이어 -->\\n\\n<!-- // TV플레이어 -->\\n<script type=\"text/javascript\">\\n// flash 오류를 우회하기 위한 함수 추가\\nfunction _flash_removeCallback() {}\\n</script>\\n\\t\\n\\t<B>SK인포섹 이큐스트, ‘2020년 사이버 위협 5대 전망’ 발표<br><br>랜섬웨어 공격형태 다양화…다크웹 활용 2차 공격도 우려</B><br><br><span class=\"end_photo_org\"><img src=\"https://imgnews.pstatic.net/image/029/2019/12/09/0002573146_001_20191209145702194.jpg?type=w647\" alt=\"\" /><em class=\"img_desc\">SK인포섹 이큐스트가 예측한 2020년 사이버 위협 5대 전망    </em></span>#제조기업 A사는 클라우드에 뒀던 일부 서버가 해킹 공격을 받아 낭패를 겪고 있다. 이로 인해 제조공정시스템이 랜섬웨어에 감염돼 작동을 멈추고, 해커가 금전 협박을 하고 있다. 다크웹에는 공장 임직원들의 개인정보가 버젓이 올라가 있다. <br><br>가상의 이야기지만 언제든지 일어날 수 있는 상황이다. SK인포섹의 보안전문가 그룹(이큐스트·EQST)이 올해 해킹사고 사례와 연구결과를 토대로 내년에 스마트 산업시설을 노리는 사이버 공격이 거세질 것이란 전망을 내놨다. <br><br>이큐스트는 9일 발표한 내년 사이버 위협 5대 전망을 통해 내년에 스마트 산업시설을 노리는 사이버 공격과 다양한 방식을 결합한 대규모 랜섬웨어 공격이 기승을 부릴 것으로 내다봤다. 또 IoT(사물인터넷) 기기 공격으로 인한 기업 리스크 확산과 클라우드 대상 APT 표적 공격, 다크웹 해킹 정보를 활용한 2차 공격이 심각한 수준에 달할 것으로 예측했다. 스마트팩토리, 클라우드, 사물인터넷 등 혁신의 핵심 수단이 해킹과 위협의 주된 경로가 될 것이란 경고다. <br><br>특히 스마트 산업시설이 해킹 취약지대로 꼽힌다. 스마트팩토리는 인공지능, 빅데이터, IoT센서 등 최신 기술이 접목될수록 공정 구조가 복잡해지면서 보안 취약점을 드러낸다. 기존 제조시설에서 폐쇄망으로 사용하는 산업제어시스템(ICS) 장비, 운영체계(OS), 프로토콜의 보안 허점도 여전히 존재한다. 때문에 스마트팩토리를 통해 연결성이 강화되면 해킹 위협에 더 노출된다는 설명이다.  <br><br>이 때문에 보안업계는 제조공장 내 운영기술(OT) 분야 보안시장 성장세에 주목하고 있다. 해외 보안회사들을 중심으로 OT 보안사업 진출이 잇따랐다. SK인포섹은 2017년부터 융합보안 사업을 시작하며 스마트팩토리 관련 보안컨설팅과 솔루션 구축 사업을 하고 있다.  <br><br>올해 많은 제조기업과 정부기관에 피해를 입혔던 랜섬웨어 공격은 보다 지능화·대형화될 전망이다. 교묘하게 침투하고 피해를 키우기 위해 이메일, AD(액티브 디렉토리)서버, 관리서버 등 기업 시스템이 악용될 전망이다.<br><br>이재우 SK인포섹 EQST그룹장은 \"스마트팩토리와 랜섬웨어, AD서버는 최신 공격 트렌드를 설명할 때 꼭 들어가는 해킹 타깃이자 수단\"이라면서 \"올해 유럽 제조회사가 랜섬웨어로 수백억원 피해를 입는 등 스마트팩토리는 앞으로 해커들의 가장 큰 먹잇감이 될 가능성이 높다\"고 말했다.  <br><br>기업용 클라우드와 IoT를 노리는 공격도 거세진다. 올해까지 클라우드 전환에 필요한 컨테이너 기술의 보안 취약점을 이용한 공격이 많았다면, 클라우드를 직접 노리는 공격도 등장할 전망이다. 기업 정보가 담긴 IP카메라를 해킹하거나, IoT 장비를 노리는 디도스 공격도 늘어날 것으로 보고 있다. <br><br>다크웹에서 거래되는 개인정보나 해킹 툴을 이용한 공격도 유의해야 한다. 올해 다크웹에서 거래한 개인정보를 활용해 2차 피해를 입히는 크리덴셜 스터핑, 스피어 피싱, 스미싱 사례가 발생했다. 이처럼 다크웹이 해킹 거래장터로 계속 활용될 가능성이 높다는 전망이다. <br><br>이재우 그룹장은 \"스마트팩토리, 클라우드, IoT 같은 ICT 환경은 보안 취약요소를 진단하는 것부터 보안 대응책을 고려해야 한다\"면서 \"새로운 ICT환경에 대한 보안진단 가이드를 만들어 공개할 계획\"이라고 말했다.    안경애기자 naturean@dt.co.kr <br><br>디지털타임스 핫 섹션 : <a href=\\'http://www.dt.co.kr/starnews.html?gcd=3301\\' target=\\'_blank\\'><B>[</B><B style=\\'color:blue;\\'> ☆ 스 타 포 토 </B><B>]</B></a> / <a href=\\'http://www.dt.co.kr/starnews.html?gcd=3302\\'  target=\\'_blank\\'><B>[ <font style=\\'color:red;\\'>♨ HOT!!</font> <font style=\\'color:blue;\\'>포 토</font> ]</B></a><br><a href=\\'http://media.naver.com/channel/promotion.nhn?oid=029\\'  target=\\'_blank\\'>네이버 채널에서 \\'디지털타임스\\'를 구독해주세요.</a>\\n\\t<!-- // 본문 내용 -->\\n\\t</div>\\n\\t<!-- [D] .guide_categorization_title 내 링크가 클릭되면 .guide_categorization_ct display:block; 해주세요 -->\\r\\n\\r\\n\\r\\n\\t\\r\\n\\r\\n\\r\\n\\r\\n\\t\\r\\n\\t\\r\\n\\t\\t\\r\\n\\t\\r\\n\\r\\n\\r\\n<div class=\"guide_categorization\">\\r\\n\\t<a href=\"#\" class=\"guide_categorization_link _categorization_title\">이 기사는 언론사에서 <em class=\"guide_categorization_item\">IT</em> 섹션으로 분류했습니다.</a>\\r\\n\\t<div class=\"guide_categorization_ct\" id=\"guideCategorizationDiv\" style=\"display:none;\">\\r\\n\\t\\t<em class=\"guide_categorization_ct_title\"><i class=\"guide_categorization_icon\"></i>기사 섹션 분류 안내</em>\\r\\n\\t\\t<p class=\"guide_categorization_ct_p\">기사의 섹션 정보는 해당 언론사의 분류를 따르고 있습니다. 언론사는 개별 기사를 2개 이상 섹션으로 중복 분류할 수 있습니다.</p>\\r\\n\\t\\t<a href=\"#\" class=\"guide_categorization_ct_close\"><span>닫기</span></a>\\r\\n\\t</div>\\r\\n</div>\\r\\n\\n\\t\\n\\n<!-- 관련기사 -->\\n\\n<!-- // 관련기사 -->\\n\\n\\t<!-- 소셜플러그인 -->\\r\\n\\r\\n\\t\\r\\n\\r\\n\\r\\n\\r\\n\\r\\n\\r\\n\\t\\r\\n\\t\\r\\n\\t\\r\\n\\r\\n\\r\\n\\r\\n\\r\\n\\r\\n\\t\\r\\n\\t\\r\\n\\r\\n\\r\\n\\r\\n\\r\\n\\r\\n\\r\\n\\r\\n\\r\\n\\r\\n\\r\\n\\r\\n\\r\\n\\r\\n\\r\\n\\r\\n\\t\\r\\n\\r\\n\\r\\n\\r\\n\\r\\n\\r\\n\\r\\n\\r\\n\\t\\r\\n\\t\\r\\n\\r\\n\\t\\r\\n\\r\\n\\t<div class=\"end_btn\" id=\"spiLayer\">\\r\\n\\t\\r\\n\\t<!-- 좋아요  u_likeit_module -->\\r\\n\\t<div class=\"_reactionModule u_likeit\" data-sid=\"NEWS\" data-cid=\"ne_029_0002573146\" style=\"visibility: hidden\">\\n    <ul class=\"u_likeit_layer _faceLayer\" role=\"menu\">\\n        <li class=\"u_likeit_list good\" role=\"menuitem\">\\n            <a class=\"u_likeit_list_button _button nclicks(abt_presslink)\" data-type=\"like\"  data-log=\"RTC.like|RTC.unlike\" href=\"#\" role=\"button\" aria-selected=\"false\">\\n                <span class=\"u_likeit_list_name _label\">좋아요</span>\\n                <span class=\"u_likeit_list_count _count\">0</span>\\n            </a>\\n        </li>\\n        <li class=\"u_likeit_list warm\" role=\"menuitem\">\\n            <a class=\"u_likeit_list_button _button\" data-type=\"warm\"  data-log=\"RTC.warm|RTC.unwarm\" href=\"#\" role=\"button\" aria-selected=\"false\">\\n                <span class=\"u_likeit_list_name _label\">훈훈해요</span>\\n                <span class=\"u_likeit_list_count _count\">0</span>\\n            </a>\\n        </li>\\n        <li class=\"u_likeit_list sad\" role=\"menuitem\">\\n            <a class=\"u_likeit_list_button _button\" data-type=\"sad\" data-log=\"RTC.sad|RTC.unsad\" href=\"#\" role=\"button\" aria-selected=\"false\">\\n                <span class=\"u_likeit_list_name _label\">슬퍼요</span>\\n                <span class=\"u_likeit_list_count _count\">0</span>\\n            </a>\\n        </li>\\n        <li class=\"u_likeit_list angry\" role=\"menuitem\">\\n            <a class=\"u_likeit_list_button _button\" data-type=\"angry\" data-log=\"RTC.angry|RTC.unangry\" href=\"#\" role=\"button\" aria-selected=\"false\">\\n                <span class=\"u_likeit_list_name _label\">화나요</span>\\n                <span class=\"u_likeit_list_count _count\">0</span>\\n            </a>\\n        </li>\\n        <li class=\"u_likeit_list want\" role=\"menuitem\">\\n            <a class=\"u_likeit_list_button _button\" data-type=\"want\" data-log=\"RTC.want|RTC.unwant\" href=\"#\" role=\"button\" aria-selected=\"false\">\\n                <span class=\"u_likeit_list_name _label\">후속기사 원해요</span>\\n                <span class=\"u_likeit_list_count _count\">0</span>\\n            </a>\\n        </li>\\n    </ul>\\n</div>\\r\\n\\t<!-- //좋아요 -->\\r\\n\\t\\r\\n\\r\\n\\t\\r\\n    <!-- 이 기사 추천 -->\\r\\n    <div class=\"tomain as_addinfo\">\\r\\n        <div class=\"u_likeit_list_module _reactionModule\" id=\"toMainContainer\" data-sid=\"NEWS_MAIN\" data-cid=\"ne_029_0002573146\">\\r\\n            <a href=\"#\" class=\"u_likeit_list_btn _button\" data-type=\"like\" data-log=\"RTC.recommend|RTC.unrecommend\" data-isHiddenZeroCount=true>\\r\\n                <span class=\"u_ico\"></span>\\r\\n                <em class=\"u_txt _label\">이 기사를 추천합니다</em>\\r\\n                <em class=\"u_cnt _count\"></em>\\r\\n            </a>\\r\\n        </div>\\r\\n        <div class=\"to_infobutton\" id=\"to_infobutton\">\\r\\n            <button class=\"to_infobutton_b nclicks(RTC.tomaininfo)\" type=\"button\" onClick=\"javaScript:doDisplayTomainInfo()\"><span class=\"blind\">안내</span></button>\\r\\n        </div>\\r\\n\\t\\t<div class=\"tomain_info\" id=\"tomain_info_new\" style=\"display: none;\">\\r\\n\\t\\t</div>\\r\\n    </div>\\r\\n    <!-- //이 기사 추천 -->\\r\\n\\t\\r\\n\\r\\n\\t<!-- [D] 공유 아이콘 -->\\r\\n\\t<div class=\"sns_share nclicks(abt_share)\">\\r\\n\\t\\t<a href=\"#\" id=\"spiButton\" title=\"보내기\" class=\"naver-splugin\"\\r\\n\\t\\t\\tdata-style=\"unity\"\\r\\n\\t\\t\\tdata-url=\"http://news.naver.com/main/read.nhn?mode=LSD&mid=sec&sid1=001&oid=029&aid=0002573146\"\\r\\n\\t\\t\\tdata-title=\"스마트팩토리·클라우드·IoT가 위험하다\"\\r\\n\\t\\t    data-likeServiceId=\"NEWS\"\\r\\n\\t\\t    data-likeContentsId=\"ne_029_0002573146\"\\r\\n\\t\\t\\tdata-mail-url=\"http://news.naver.com/main/read.nhn?mode=LSD&mid=sec&sid1=001&oid=029&aid=0002573146&amp;lfrom=mail\"\\r\\n\\t\\t\\tdata-blog-url=\"http://news.naver.com/main/read.nhn?mode=LSD&mid=sec&sid1=001&oid=029&aid=0002573146&amp;lfrom=blog\"\\r\\n\\t\\t\\tdata-blog-source-type=\"3\"\\r\\n\\t\\t\\tdata-blog-blog-id=\"naver\"\\r\\n\\t\\t\\tdata-cafe-url=\"http://news.naver.com/main/read.nhn?mode=LSD&mid=sec&sid1=001&oid=029&aid=0002573146&amp;lfrom=cafe\"\\r\\n\\t\\t\\tdata-cafe-source-type=\"3\"\\r\\n\\t\\t\\tdata-memo-url=\"http://news.naver.com/main/read.nhn?mode=LSD&mid=sec&sid1=001&oid=029&aid=0002573146&amp;lfrom=memo\"\\r\\n\\t\\t\\tdata-calendar-url=\"http://news.naver.com/main/read.nhn?mode=LSD&mid=sec&sid1=001&oid=029&aid=0002573146&amp;lfrom=calendar\"\\r\\n\\t\\t\\tdata-band-url=\"http://news.naver.com/main/read.nhn?mode=LSD&mid=sec&sid1=001&oid=029&aid=0002573146&amp;lfrom=band\"\\r\\n\\t\\t\\tdata-facebook-url=\"http://news.naver.com/main/read.nhn?mode=LSD&mid=sec&sid1=001&oid=029&aid=0002573146&amp;lfrom=facebook\"\\r\\n\\t\\t\\tdata-twitter-url=\"http://news.naver.com/main/read.nhn?mode=LSD&mid=sec&sid1=001&oid=029&aid=0002573146&amp;lfrom=twitter\"\\r\\n\\t\\t\\tdata-me-display=\"off\">\\r\\n\\t\\t\\t<span class=\"naver-splugin-c sns_share_ico\"></span>\\r\\n\\t\\t\\t<span class=\"blind\">보내기</span>\\r\\n\\t\\t</a>\\r\\n\\t</div>\\r\\n\\t\\r\\n\\t<div class=\"tomain_info\" id=\"tomain_info\" style=\"display: none;\">\\r\\n\\t</div>\\r\\n\\r\\n\\t<script id=\"TOMAIN_DISPLAYED_BY_USER_RECOMMEND_TPL\" type=\"text/template\">\\r\\n\\t\\t<p class=\"tomain_info_phrase\">\\r\\n\\t\\t\\t<span class=\"tomain_info_body\">\\r\\n\\t\\t\\t\\t<span class=\"tomain_info_text\">이 기사는 </span><strong class=\"tomain_info_point\">사용자 추천</strong><span class=\"tomain_info_text\">으로 모바일 메인 뉴스판에 노출된 이력이 있습니다.</span>\\r\\n\\t\\t\\t</span>\\r\\n\\t\\t</p>\\r\\n\\t</script>\\r\\n\\t<script id=\"TOMAIN_DISPLAYED_BY_NEWS_EDIT_TPL\" type=\"text/template\">\\r\\n\\t\\t<p class=\"tomain_info_phrase\">\\r\\n\\t\\t\\t<span class=\"tomain_info_body\">\\r\\n\\t\\t\\t\\t<span class=\"tomain_info_text\">이 기사는 </span><strong class=\"tomain_info_point\">모바일 메인 뉴스판</strong><span class=\"tomain_info_text\">에 노출된 이력이 있습니다.</span>\\r\\n\\t\\t\\t</span>\\r\\n\\t\\t</p>\\r\\n\\t</script>\\r\\n\\t<script id=\"TOMAIN_NOT_DISPLAYED_YET_TPL\" type=\"text/template\">\\r\\n\\t\\t<p class=\"tomain_info_layer\">\\r\\n\\t\\t\\t<strong class=\"tomain_info_head\">모두에게 보여주고 싶은 기사라면<i>?</i><span class=\"tomain_info_betaicon\">beta</span></strong>\\r\\n\\t\\t\\t<span class=\"tomain_info_body\">\\r\\n\\t\\t\\t\\t<strong class=\"tomain_info_point\">이 기사를 추천합니다 </strong><span class=\"tomain_info_text\">버튼을 눌러주세요. 집계 기간 동안 추천을 많이 받은 기사는 네이버 자동 기사배열 영역에 추천 요소로 활용됩니다.</span>\\r\\n\\t\\t\\t</span>\\r\\n\\t\\t\\t<a href=\"#\" class=\"tomain_info_close\">레이어 닫기</a>\\r\\n\\t\\t</p>\\r\\n\\t</script>\\r\\n\\t\\r\\n\\r\\n\\t<script type=\"text/javascript\">\\r\\n \\t\\t(function(){\\r\\n\\t\\t\\tvar currentDate = new Date(), yyyy = currentDate.getFullYear(), mm = currentDate.getMonth() + 1, dd = currentDate.getDate();\\r\\n\\t\\t\\tvar currentDateParam = \"\" + yyyy + (mm < 10 ? \\'0\\' + mm : mm) + (dd < 10 ? \\'0\\' + dd : dd);\\r\\n\\t\\t\\tvar id = \"naver-splugin-sdk\";\\r\\n\\t\\t\\tvar s = document.createElement(\"script\"); s.id = id; s.type = \"text/javascript\", s.charset = \"utf-8\", s.async = false;\\r\\n\\t\\t\\ts.src = (\"https://ssl.pstatic.net/spi/js/release/ko_KR/splugin.js?\" + currentDateParam);\\r\\n\\t\\t\\tvar d = document.getElementsByTagName(\\'head\\')[0]; d.appendChild(s, d);\\r\\n\\t\\t})();\\r\\n \\t\\t(function(oData) {\\r\\n\\t\\t    var t = new Date(), yyyy = t.getFullYear(), mm = t.getMonth() + 1, dd = t.getDate();\\r\\n\\t\\t    var currentDate = \"\" + yyyy + (mm < 10 ? \\'0\\' + mm : mm) + (dd < 10 ? \\'0\\' + dd : dd);\\r\\n\\t\\t    var s = document.createElement(\"script\");\\r\\n\\t\\t    s.type = \"text/javascript\";\\r\\n\\t\\t    s.charset = \"utf-8\";\\r\\n\\t\\t    s.src = \"https://news.like.naver.com/js/reaction/dist/reaction.min.js?\"+ currentDate; // (new Date()).toDateString().replace(/\\\\s/g,\"\");\\r\\n\\t\\t    (document.head || document.getElementsByTagName(\"head\")[0]).appendChild(s);\\r\\n\\t\\t})();\\r\\n\\t\\twindow.onload = function() {\\r\\n\\t\\t    if(jindo.$Element(\"spiLayer\").query(\"._reactionModule\") !== null) {\\r\\n\\t\\t\\t\\tvar toMainInfoLayerManager = {\\r\\n\\r\\n\\t\\t\\t\\t\\toCookieStorage : null,\\r\\n\\t\\t\\t\\t\\tsCookieKey : null,\\r\\n\\t\\t\\t\\t\\tsTemplateType : null,\\r\\n\\t\\t\\t\\t\\toTemplateType2TemplateMapping : null,\\r\\n\\r\\n\\t\\t\\t\\t\\twelTomainInfoLayer : null,\\r\\n\\r\\n\\t\\t\\t\\t\\tinit : function () {\\r\\n\\t\\t\\t\\t\\t\\tthis.setCache();\\r\\n\\t\\t\\t\\t\\t\\tthis.setEvent();\\r\\n\\r\\n\\t\\t\\t\\t\\t\\tif (this.sTemplateType != \\'N\\') {\\r\\n\\t\\t\\t\\t\\t\\t\\tthis.renderLayer();\\r\\n\\t\\t\\t\\t\\t\\t}\\r\\n\\t\\t\\t\\t\\t},\\r\\n\\r\\n\\t\\t\\t\\t\\tsetCache : function () {\\r\\n\\t\\t\\t\\t\\t\\tthis.oCookieStorage = jindo.$Cookie(true);\\r\\n\\t\\t\\t\\t\\t\\tthis.sCookieKey = \\'pcTomainDontShow\\';\\r\\n\\t\\t\\t\\t\\t\\tthis.sTemplateType = \\'N\\';\\r\\n\\t\\t\\t\\t\\t\\tthis.oTemplateType2TemplateMapping = {\\r\\n\\t\\t\\t\\t\\t\\t\\t\\'R\\' : \\'TOMAIN_DISPLAYED_BY_USER_RECOMMEND_TPL\\',\\r\\n\\t\\t\\t\\t\\t\\t\\t\\'E\\' : \\'TOMAIN_DISPLAYED_BY_NEWS_EDIT_TPL\\',\\r\\n\\t\\t\\t\\t\\t\\t\\t\\'N\\' : \\'TOMAIN_NOT_DISPLAYED_YET_TPL\\'\\r\\n\\t\\t\\t\\t\\t\\t};\\r\\n\\t\\t\\t\\t\\t\\tthis.welTomainInfoLayer = jindo.$Element(\\'tomain_info\\');\\r\\n\\t\\t\\t\\t\\t},\\r\\n\\r\\n\\t\\t\\t\\t\\tsetEvent : function () {\\r\\n\\t\\t\\t\\t\\t\\tthis.welTomainInfoLayer.delegate(\\'click\\', \\'.tomain_info_close\\', jindo.$Fn(this.onCloseClick, this).bind());\\r\\n\\t\\t\\t\\t\\t},\\r\\n\\r\\n\\t\\t\\t\\t\\trenderLayer : function () {\\r\\n\\t\\t\\t\\t\\t\\tvar sTemplate = this.oTemplateType2TemplateMapping[this.sTemplateType];\\r\\n\\t\\t\\t\\t\\t\\tthis.welTomainInfoLayer.html(jindo.$Template(sTemplate).process({}));\\r\\n\\t\\t\\t\\t\\t\\tthis.welTomainInfoLayer.show();\\r\\n\\t\\t\\t\\t\\t},\\r\\n\\r\\n\\t\\t\\t\\t\\tonCloseClick : function (e) {\\r\\n\\t\\t\\t\\t\\t\\te.stopDefault();\\r\\n\\t\\t\\t\\t\\t\\tthis.welTomainInfoLayer.hide();\\r\\n\\t\\t\\t\\t\\t\\tthis.oCookieStorage.set(this.sCookieKey, \\'Y\\', 365);\\r\\n\\t\\t\\t\\t\\t}\\r\\n\\r\\n\\t\\t\\t\\t};\\r\\n\\r\\n\\t\\t\\t\\tvar toMainManager = {\\r\\n\\r\\n\\t\\t\\t\\t\\twelContainer : null,\\r\\n\\t\\t\\t\\t\\twelCount : null,\\r\\n\\t\\t\\t\\t\\twelButton : null,\\r\\n\\r\\n\\t\\t\\t\\t\\tinit : function () {\\r\\n\\t\\t\\t\\t\\t\\tthis.welContainer = jindo.$Element(\\'toMainContainer\\');\\r\\n\\t\\t\\t\\t\\t\\tthis.welCount = jindo.$Element(this.welContainer.query(\\'._count\\'));\\r\\n\\t\\t\\t\\t\\t\\tthis.welButton = jindo.$Element(this.welContainer.query(\\'a\\'));\\r\\n\\t\\t\\t\\t\\t},\\r\\n\\r\\n\\t\\t\\t\\t\\t// 추천 수가 0인 경우, 디자인이 달라서 is_first 클래스 추가\\r\\n\\t\\t\\t\\t\\taddIsFirstClassIfZeroCount : function () {\\r\\n\\t\\t\\t\\t\\t\\tif (this.welCount.text() == \\'0\\') {\\r\\n\\t\\t\\t\\t\\t\\t\\tthis.welButton.removeClass(\\'off\\').addClass(\\'is_first\\');\\r\\n\\t\\t\\t\\t\\t\\t}\\r\\n\\t\\t\\t\\t\\t},\\r\\n\\r\\n\\t\\t\\t\\t\\tremoveIsFirstClass : function () {\\r\\n\\t\\t\\t\\t\\t\\tthis.welButton.removeClass(\\'is_first\\');\\r\\n\\t\\t\\t\\t\\t},\\r\\n\\r\\n\\t\\t\\t\\t\\tonRecommend : function () {\\r\\n\\t\\t\\t\\t\\t\\tthis.removeIsFirstClass();\\r\\n\\t\\t\\t\\t\\t},\\r\\n\\r\\n\\t\\t\\t\\t\\tonCancel : function () {\\r\\n\\t\\t\\t\\t\\t\\tthis.addIsFirstClassIfZeroCount();\\r\\n\\t\\t\\t\\t\\t},\\r\\n\\r\\n\\t\\t\\t\\t\\tonRecommendReady : function (element) {\\r\\n\\t\\t\\t\\t\\t\\tthis.addIsFirstClassIfZeroCount();\\r\\n\\t\\t\\t\\t\\t}\\r\\n\\t\\t\\t\\t};\\r\\n\\r\\n\\t\\t\\t\\ttoMainInfoLayerManager.init();\\r\\n\\t\\t\\t\\ttoMainManager.init();\\r\\n\\r\\n\\t\\t\\t\\treaction.init({\\r\\n\\t\\t\\t\\t\\ttype: \"multi\",\\r\\n\\t\\t\\t\\t\\tdomain : \"https://news.like.naver.com\",\\r\\n\\t\\t\\t\\t\\tdependentLibrary : \"jquery\",\\r\\n\\t\\t\\t\\t\\tcssId: \"news\",\\r\\n\\t\\t\\t\\t\\tisMobile: false,\\r\\n\\t\\t\\t\\t\\tisHiddenLabel : false,\\r\\n\\t\\t\\t\\t\\tisHiddenCount : false,\\r\\n\\t\\t\\t\\t\\tisHiddenZeroCount : false,\\r\\n\\t\\t\\t\\t\\tisUsedLabelAsZeroCount : false,\\r\\n\\t\\t\\t\\t\\tisDebugMode : false,\\r\\n\\t\\t\\t\\t\\tisHiddenLayerAfterSelection : true,\\r\\n\\t\\t\\t\\t\\tcallback : {\\r\\n\\t\\t\\t\\t\\t\\tclicked : function(param) {\\r\\n\\t\\t\\t\\t\\t\\t\\t// displayId 가 \\'NEWS_MAIN\\' 이면 \\'메인으로추천\\', \\'NEWS\\'면 \\'좋아요\\'\\r\\n\\t\\t\\t\\t\\t\\t\\tif (param && param.content && param.content.displayId && param.content.displayId == \\'NEWS_MAIN\\') {\\r\\n\\t\\t\\t\\t\\t\\t\\t\\tif(param.content.isReacted) {\\r\\n\\t\\t\\t\\t\\t\\t\\t\\t\\ttoMainManager.onRecommend();\\r\\n\\t\\t\\t\\t\\t\\t\\t\\t\\treturn;\\r\\n\\t\\t\\t\\t\\t\\t\\t\\t}\\r\\n\\t\\t\\t\\t\\t\\t\\t\\ttoMainManager.onCancel();\\r\\n\\t\\t\\t\\t\\t\\t\\t}\\r\\n\\t\\t\\t\\t\\t\\t},\\r\\n\\t\\t\\t\\t\\t\\tupdated : function(param) {\\r\\n\\t\\t\\t\\t\\t\\t\\tif (param) {\\r\\n\\t\\t\\t\\t\\t\\t\\t\\tjindo.$A(param.contents).filter(function (content) {\\r\\n\\t\\t\\t\\t\\t\\t\\t\\t\\tif (content.serviceId == \\'NEWS_MAIN\\') {\\r\\n\\t\\t\\t\\t\\t\\t\\t\\t\\t\\treturn true;\\r\\n\\t\\t\\t\\t\\t\\t\\t\\t\\t}\\r\\n\\t\\t\\t\\t\\t\\t\\t\\t\\treturn false;\\r\\n\\t\\t\\t\\t\\t\\t\\t\\t}).forEach(function (content) {\\r\\n\\t\\t\\t\\t\\t\\t\\t\\t\\ttoMainManager.onRecommendReady();\\r\\n\\t\\t\\t\\t\\t\\t\\t\\t});\\r\\n\\t\\t\\t\\t\\t\\t\\t}\\r\\n                            var autoSummaryFeedbackData = jindo.$A(param.contents)\\r\\n                                    .filter(function (contentsData) {\\r\\n                                        return contentsData.serviceId === \\'NEWS_SUMMARY\\';\\r\\n                                    })\\r\\n                                    .$value()[0] || {};\\r\\n\\r\\n                            // export\\r\\n\\t\\t\\t\\t\\t\\t\\tif(autoSummaryFeedbackData.reactions){\\r\\n\\t\\t\\t\\t\\t\\t\\t\\twindow.autoSummary = new AutoSummary()\\r\\n\\t\\t\\t\\t\\t\\t\\t\\t\\t.init({\\r\\n\\t\\t\\t\\t\\t\\t\\t\\t\\t\\tapiUrl: \\'https://tts.news.naver.com/article/029/0002573146/summary\\',\\r\\n\\t\\t\\t\\t\\t\\t\\t\\t\\t\\tfeedbackDataList: autoSummaryFeedbackData.reactions\\r\\n\\t\\t\\t\\t\\t\\t\\t\\t\\t});\\r\\n\\t\\t\\t\\t\\t\\t\\t}\\r\\n\\t\\t\\t\\t\\t\\t},\\r\\n                        click: function (param) {\\r\\n                            var triggeredWrapper = jindo.$Element(param.target)\\r\\n                                .parent(function (wel) {\\r\\n                                    return wel.hasClass(\\'_reactionModule\\');\\r\\n                                })[0];\\r\\n                            var isAutoSummaryFeedback = (triggeredWrapper) ?\\r\\n                                triggeredWrapper.attr(\\'data-sid\\') === \\'NEWS_SUMMARY\\' :\\r\\n                                false;\\r\\n\\r\\n                            if (isAutoSummaryFeedback) {\\r\\n                                return window.autoSummary.confirmApplyFeedback();\\r\\n                            }\\r\\n                        }\\r\\n\\t\\t\\t\\t\\t}\\r\\n\\t\\t\\t\\t});\\r\\n\\t\\t\\t}\\r\\n\\r\\n\\t\\t    // for social plugin\\r\\n\\t\\t\\twindow.__splugin = SocialPlugIn_Core({\\r\\n\\t\\t\\t\\t// nEvent Key\\r\\n\\t\\t\\t\\t\"evKey\"       : \"news\",\\r\\n\\t\\t\\t\\t// 서비스명\\r\\n\\t\\t\\t\\t\"serviceName\" : \"뉴스\",\\r\\n\\t\\t\\t\\t\"sourceName\" : \"디지털타임스\",\\r\\n\\t\\t\\t\\t// 버튼 클릭후 호출되는 콜백함수\\r\\n\\t\\t\\t\\t\"onClick\"     : function(button) {},\\r\\n\\t\\t\\t\\t// 공유하기 레이어 노출 후 호출되는 콜백함수\\r\\n\\t\\t\\t\\t\"onShow\"      : function() {},\\r\\n\\t\\t\\t\\t// 공유하기 레이어 닫기 후 호출되는 콜백함수\\r\\n\\t\\t\\t\\t\"onHide\"      : function() {}\\r\\n\\t\\t\\t});\\r\\n\\t\\t}\\r\\n\\t\\t\\r\\n\\t\\tfunction onSubscribe(elTarget) {\\r\\n\\t\\t\\treturn htParameter;\\r\\n\\t\\t}\\r\\n\\r\\n\\t\\t// 이기추 레이어 표시\\r\\n\\t\\tfunction doDisplayTomainInfo() {\\r\\n\\t\\t\\tvar welTomainInfoLayer = jindo.$Element(\\'tomain_info_new\\');\\r\\n\\t\\t\\tif (welTomainInfoLayer.css(\"display\") == \"none\") {\\r\\n\\t\\t\\t\\twelTomainInfoLayer.delegate(\\'click\\', \\'.tomain_info_close\\', jindo.$Fn(onCloseClick, this).bind());\\r\\n\\t\\t\\t\\twelTomainInfoLayer.html(jindo.$Template(\\'TOMAIN_NOT_DISPLAYED_YET_TPL\\').process({}));\\r\\n\\t\\t\\t\\twelTomainInfoLayer.show();\\r\\n\\t\\t\\t} else {\\r\\n\\t\\t\\t\\twelTomainInfoLayer.hide();\\r\\n\\t\\t\\t}\\r\\n\\t\\t}\\r\\n\\r\\n\\t\\t// 이기추 레이어 닫기\\r\\n\\t\\tfunction onCloseClick(e) {\\r\\n\\t\\t\\te.stopDefault();\\r\\n\\t\\t\\tvar welTomainInfoLayer = jindo.$Element(\\'tomain_info_new\\');\\r\\n\\t\\t\\twelTomainInfoLayer.hide();\\r\\n\\t\\t}\\r\\n\\t</script>\\r\\n</div>\\r\\n\\r\\n\\r\\n\\r\\n<!-- // 소셜플러그인 -->\\r\\n\\r\\n\\r\\n<script type=\"text/javascript\">\\r\\n/* (function() {\\r\\n\\tinit_socialplugin();\\r\\n})(); */\\r\\n</script>\\n\\t\\n<script type=\"text/javascript\">\\n    jindo.$Fn(function() {\\n        jindo.$Fn(function(){\\n            var oid = \\'029\\';\\n            var aid = \\'0002573146\\';\\n            new jindo.$Ajax(\\'/main/ajax/series/list.nhn?oid=\\' + oid + \\'&aid=\\' + aid, {\\n                type : \\'xhr\\',\\n                method : \\'get\\',\\n                timeout : 10,\\n                async : true,\\n                onload : function(res) {\\n                    var oJson = res.json();\\n                    if (oJson.message != null && oJson.message.result != null) {\\n                        var result = oJson.message.result;\\n                        var contents = \\'<div class=\"serialization_news\"><h3 class=\"serialization_news_title\"><span class=\"serialization_news_ico\">연재</span>\\'\\n                            + \\'<a href=\"\\'+result.linkUrl+\\'\" class=\"serialization_news_more nclicks(ser.more)\" id=\"seriesTitle\" >\\'\\n                            + result.title + \\'</a><span class=\"blind\">더보기</span></h3>\\'\\n                            + \\'<ul class=\"serialization_news_list\">\\';\\n\\n                        jindo.$A(result.seriesItemList).forEach(function(value) {\\n                            if (value) {\\n                                if (aid == value.articleId) {\\n                                    contents += \\'<li><div class=\"serialization_news_item\"><span class=\"serialization_news_time\">\\'+ value.articleDate +\\'</span><a href=\"\\'+value.url+\\'\" class=\"serialization_news_link is_selected nclicks(ser.art)\">\\' + value.title + \\'</a></div></li>\\';\\n                                } else {\\n                                    contents += \\'<li><div class=\"serialization_news_item\"><span class=\"serialization_news_time\">\\'+ value.articleDate +\\'</span><a href=\"\\'+value.url+\\'\" class=\"serialization_news_link nclicks(ser.art)\">\\' + value.title + \\'</a></div></li>\\';\\n                                }\\n                            }\\n                        });\\n\\n                        contents += \\'</ul></div>\\';\\n\\n                        jindo.$Element(\\'spiLayer\\').afterHTML(contents);\\n\\n                        var elLinkNews = jindo.$$(\\'.link_news\\');\\n                        if (elLinkNews.length > 0) {\\n                            jindo.$Element(\\'link_news_more\\').first().text(result.title);\\n                            jindo.$Element(\\'link_news_more\\').visible(true, \\'block\\');\\n                            jindo.$Element(\\'link_news_more\\').attr(\\'href\\', result.linkUrl);\\n                        }\\n                    }\\n                }\\n            }).request();\\n        }).delay(0.8);\\n    }).attach(window, \"load\");\\n</script>\\n\\t<!-- 언론사 관련기사 -->\\n    <div class=\"link_news\">\\n        \\n        <h3>디지털타임스 관련뉴스<span>해당 언론사에서 선정하며 <em>언론사 페이지(아웃링크)</em>로 이동해 볼 수 있습니다.</span></h3>\\n        <ul>\\n            \\n                <li><a href=\"http://www.dt.co.kr/contents.html?article_no=2019120902109919807025&ref=naver\" class=\"nclicks(are.link,\\'029\\', \\'nilGParam\\', \\'029_3da505eed3711312\\')\" target=\"_blank\">강용석 \"오늘(9일) 김건모 고소..강간죄 성립\"</a></li>\\n            \\n                <li><a href=\"http://www.dt.co.kr/contents.html?article_no=2019120902109919807016&ref=naver\" class=\"nclicks(are.link,\\'029\\', \\'nilGParam\\', \\'029_cad81350729014b0\\')\" target=\"_blank\">손흥민 원더골에 전 세계 언론 \\'깜짝\\'…\"충격적인 독주골\"</a></li>\\n            \\n                <li><a href=\"http://www.dt.co.kr/contents.html?article_no=2019120902109919807017&ref=naver\" class=\"nclicks(are.link,\\'029\\', \\'nilGParam\\', \\'029_5fbcc611f4dac98f\\')\" target=\"_blank\">윌리엄·벤틀리 귤기부 \"그간 사랑에 보답\" 훈훈</a></li>\\n            \\n                <li><a href=\"http://www.dt.co.kr/contents.html?article_no=2019120902109919807018&ref=naver\" class=\"nclicks(are.link,\\'029\\', \\'nilGParam\\', \\'029_f4a178d277257e6e\\')\" target=\"_blank\">안정환 배꼽인사, 신태용 감독 등장에 90도 \\'폴더 폰 인사\\'</a></li>\\n            \\n                <li><a href=\"http://www.dt.co.kr/contents.html?article_no=2019120902109919807019&ref=naver\" class=\"nclicks(are.link,\\'029\\', \\'nilGParam\\', \\'029_89862b93f970334d\\')\" target=\"_blank\">손흥민 소감 \"원더골, 원래는 알리에게 패스하려 했다\"</a></li>\\n            \\n        </ul>\\n        <a href=\"#\" class=\"link_news_more nclicks(ser.sum)\" id=\"link_news_more\" style=\"display:none\"><em></em> 기사 모아보기</a>\\n        \\n    </div>\\n<!-- // 언론사 관련기사 -->\\n</div>\\n\\n\\n<script type=\"text/javascript\">\\n    new FontSettingMenu();\\n</script><!-- 언론중재법 -->\\r\\n\\r\\n\\t\\r\\n\\t\\r\\n\\t\\r\\n\\r\\n<!-- // 언론중재법 --><!-- 기능 버튼 영역 -->\\r\\n<div class=\"article_footer\">\\r\\n\\t<ul>\\r\\n\\t\\t<li>\\r\\n\\t\\t\\t<a href=\"http://www.dt.co.kr/\" target=\"_blank\" class=\"nclicks(abt_presslink)\">\\r\\n\\t\\t\\t디지털타임스 기사제공\\r\\n\\t\\t\\t</a>\\r\\n\\t\\t</li>\\r\\n\\t\\t\\t\\t\\r\\n\\t\\t\\r\\n\\t\\t\\t\\r\\n\\t\\t\\t\\t<li title=\"신문에 게재된 기사만 보실 수 있습니다.\">\\r\\n\\t\\t\\t\\t\\t<a href=\"/main/list.nhn?mode=LPOD&mid=sec&sid1=001&sid2=143&oid=029&listType=paper\" class=\"go nclicks(abt_presspaper)\">\\r\\n\\t\\t\\t\\t\\t\\t<i class=\"picon\">신문</i>\\r\\n\\t\\t\\t\\t\\t\\t디지털타임스  신문게재기사만\\r\\n\\t\\t\\t\\t\\t</a>\\r\\n\\t\\t\\t\\t</li>\\r\\n\\t\\t\\t\\r\\n\\t\\t\\t\\r\\n\\t\\t\\r\\n\\t</ul>\\r\\n</div>\\r\\n\\r\\n<ul class=\"content_menu content_menu_bottom\">\\r\\n\\t<li class=\"first\"><a href=\"/main/tool/print.nhn?oid=029&aid=0002573146\" class=\"print nclicks(abt_print)\" alt=\"인쇄\" title=\"인쇄\" target=\"_blank\">인쇄</a></li>\\r\\n\\t<li class=\"scrap\"><a href=\"/main/scrap/folderList.nhn?scrapItem.officeId=029&scrapItem.articleId=0002573146\" class=\"scrap nclicks(abt_scrap)\" alt=\"스크랩\" title=\"스크랩\" target=\"_blank\">스크랩</a></li>\\r\\n</ul>\\r\\n<!-- // 기능 버튼 영역 -->\\n\\n\\n<!-- SNU 팩트체크 활성화 -->\\n\\n<!-- // SNU 팩트체크 활성화 -->\\n\\n<script type=\"text/javascript\">\\n\\tfunction doDisplay(){\\n\\t\\tvar element = document.getElementById(\\'articleFactcheckInfo\\');\\n\\t\\tif (element.classList.contains(\\'is_hidden\\')) {\\n\\t\\t\\telement.classList.remove(\\'is_hidden\\');\\n\\t\\t} else {\\n\\t\\t\\telement.classList.add(\\'is_hidden\\');\\n\\t\\t}\\n\\t}\\n</script>\\n\\r\\n<!-- (신)관련기사 -->\\r\\n\\r\\n\\r\\n<!-- //(신)관련기사 -->\\r\\n\\r\\n<!-- 스포츠 관련기사 -->\\r\\n\\n\\r\\n<!-- //스포츠 관련기사 -->\\r\\n<!-- 본문 하단 광고 -->\\r\\n<div class=\"end_ad\"><iframe id=\"da_727145\" src=\"https://veta.naver.com/fxshow?su=SU10083&sid1=105&sid2=230&oid=029\" width=\"727\" height=\"0\" marginheight=\"0\" marginwidth=\"0\" border=\"0\" frameborder=\"0\" scrolling=\"no\" align=\"center\" title=\"기사엔드하단광고\" data-veta-preview=\"p_news_end\"style=\"background-color: rgba(255,0,0,0.2)\"></iframe></div>\\r\\n<!-- // 본문 하단 광고 -->\\r\\n\\n\\n\\n\\n\\n\\n    <div id=\"cbox_module\"></div>\\n    \\n\\n\\n\\n\\n\\n\\n\\n\\n\\n    \\n        <script type=\"text/javascript\">\\n            \\n            try {\\n                var isLogForComment = false;\\n                if (jindo.$Cookie().get(\\'NID_SES\\') != null && jindo.$Cookie().get(\\'NID_SES\\') != \\'\\'){\\n                    isLogForComment = true;\\n                }\\n                var locationSearch =location.search;\\n\\n                \\n                var commentOptions = JSON.parse(JSON.stringify({\"sLanguage\":\"ko\",\"nPageSize\":5.0,\"sSort\":\"favorite\",\"sTemplateId\":\"view_it\",\"aFormation\":[\"count\",\"graph\",\"write\",\"notice\",\"list\",\"view\"],\"sDomain\":\"https://ssl.pstatic.net/static.cbox\",\"htErrorHandler\":{\"5010\":\"댓글/답글은 60초 내에 한 개만 등록하실 수 있습니다.\",\"3006\":\"고객님께서는 운영원칙에서 제한하고 있는 글을 작성하셨기 때문에 무기한 글쓰기를 포함한 일부? 활동이 제한되었습니다.\",\"3005\":\"고객님의 IP는 운영원칙에서 제한하고 있는 글을 작성하셨기 때문에 글쓰기를 포함한 일부? 활동이 제한되었습니다.\",\"3004\":\"고객님께서는 운영원칙에서 제한하고 있는 글을 다수 작성하셨기 때문에 글쓰기를 포함한 일부? 활동이 일정 기간 제한되었습니다.\",\"5003\":\"정상적으로 반영되지 않았습니다. 화면 새로고침 후 다시 시도해 주세요.\",\"3003\":\"고객님께서는 운영원칙에서 제한하고 있는 글을 작성하셨기 때문에 글쓰기를 포함한 일부 활동이 일정 기간 제한되었습니다. 동일 내용 댓글의 반복작성이 확인된 경우 제한기간은 1일이며, 반복이 계속되면 기간이 연장될 수 있습니다.\",\"5026\":\"공감/비공감은 최근 24시간내 50회까지 가능합니다.\",\"4004\":\"해당되는 댓글이 없습니다.\",\"5027\":\"공감/비공감은 10초 내에 한 번만 클릭하실 수 있습니다.\",\"5006\":\"자신의 글에 공감 할 수 없습니다.\",\"5029\":\"기사당 허용된 댓글 수 3개를 초과하였습니다. 기사에 작성한 댓글을 삭제 후 다시 작성하실 수 있습니다.\",\"5008\":\"자신의 글에 비공감 할 수 없습니다.\"},\"sCountry\":\"KR\",\"sDateFormat\":\"Y.m.d. H:i\",\"sCommentNo\":\"\",\"bManager\":false,\"sHelp\":\"down\",\"bSortCookie\":true,\"sAuthType\":\"both\",\"htMessage\":{\"template\":{\"duplicate_caution_link_title\":\"운영규정 자세히 알아보기\",\"write_long_placeholder\":\"저작권 등 다른 사람의 권리를 침해하거나 명예를 훼손하는 게시물은 이용약관 및 관련 법률에 의해 제재를 받을 수 있습니다. 건전한 토론문화와 양질의 댓글 문화를 위해, 타인에게 불쾌감을 주는 욕설 또는 특정 계층/민족, 종교 등을 비하하는 단어들은 표시가 제한됩니다.\",\"list_empty\":\"댓글이 없습니다.<br>첫번째 댓글을 남겨주세요.\",\"view_all\":\"댓글 더보기\",\"sort_favorite\":\"순공감순\",\"duplicate_caution_link_address_pc\":\"https://news.naver.com/main/principle.nhn\",\"reply_close\":\"답글 접기\",\"help_contents\":[\"작성자가 삭제한 댓글(작성자 삭제), 운영자가 삭제한 댓글(규정 미준수) 그리고 삭제되지 않은 현재 남은 댓글의 수와 이력을 투명하게 제공합니다.\",\"순공감순은 공감수에서 비공감수를 뺀 수치가 많은 댓글입니다. 비정상적인 방법으로 공감수가 증가하는 경우 제외될 수 있습니다.<br/>정치기사의 댓글은 최신순만 제공됩니다.\"],\"duplicate_caution_title\":\"동일 내용 댓글의 반복 등록이<br>확인되었습니다.\",\"write_placeholder\":\"댓글을 입력해주세요\",\"duplicate_caution_link_address_mobile\":\"https://m.news.naver.com/ombudsman/index.nhn?mode=rule&open=comment\",\"help_titles\":[\"댓글이력공개안내\",\"댓글노출정책\"],\"user\":{\"header\":{\"help\":{\"title\":\"뉴스댓글 도움말\",\"content\":\"댓글목록을 공개한 사용자의 댓글모음이 제공됩니다. 나의 댓글 모음에서 다른 사람에게 공개 또는 비공개 설정을 할 수 있습니다. 제공되는 목록에 삭제댓글/답글은 포함하지 않습니다.\"}}},\"duplicate_caution_cont\":\"반복 등록이 계속될 경우 운영규정에 따라 <br>서비스 이용이 정지될 수 있습니다.\",\"social_login_message\":\"계정을 선택하시면 <span class=\\\\\"u_cbox_msg_point\\\\\">로그인&middot;계정인증</span>을 통해<br> 댓글을 남기실 수 있습니다.<br>뉴스서비스에서는 소셜 계정 사용이 불가하며<br>댓글모음만 확인하실 수 있습니다.\"},\"alert\":{\"min_length\":\"내용을 최소 {0}자 이상 입력해주세요.\",\"login_require\":\"입력창 상단의 서비스별 아이콘을 선택하여 로그인해 주세요.\",\"max_length\":\"{0}자까지 입력할 수 있습니다.\"},\"stats\":{\"fold\":\"접기\",\"view\":\"통계\",\"user_env_title\":\"어디에서 댓글을 썼을까요?\",\"title\":\"누가 댓글을 썼을까요?\"}},\"sApiDomain\":\"https://apis.naver.com/commentBox/cbox5\",\"bIncludeAllComments\":true,\"sTicket\":\"news\",\"sCssId\":\"news_w\",\"sPageType\":\"more\",\"sObjectId\":\"news029,0002573146\",\"sCountType\":\"comment\",\"bShowReply\":\"\",\"bUseAgo\":false,\"bMobile\":false,\"nReplyPageSize\":20.0,\"bByCountry\":false,\"sLikeItId\":\"ne_029_0002573146\"}), function (key, value) {\\n                    if (value && (typeof value === \\'string\\') && value.indexOf(\"function\") === 0) {\\n                        var jsFunc = new Function(\\'return \\' + value)();\\n                        return jsFunc;\\n                    }\\n\\n                    return value;\\n                });\\n\\n                \\n                var sNoticeMessage = \"\";\\n                \\n\\n                \\n                var serviceOptions = {\\n                    \"bLogin\" : isLogForComment,\\n                    \"sCssId\" : \\'news\\',\\n                    \"nPageSize\" : 10,\\n                    \"sCharset\": \\'euc-kr\\',\\n                    \"bIncludeAllComments\" : CommentUtils.parseParameter(locationSearch, \"includeAllCount\", true),\\n                    \"sCommentNo\" : CommentUtils.parseParameter(locationSearch, \"commentNo\", \\'\\'),\\n                    \"bShowReply\" : CommentUtils.parseParameter(locationSearch, \"showReply\", \\'\\'),\\n                    \"vViewAllHandler\" :CommentUtils.processViewAllCommentsWithOption,\\n                    \"htEventHandler\" : {\\n                        \"loadList\" : CommentUtils.resetCount,\\n                        \"loadCreate\" : CommentUtils.resetCount,\\n                        \"afterList\" :  CommentUtils.coord({\"checkHighLight\" : null, \"loadOptionNotice\" : sNoticeMessage}),\\n                        \"afterRemove\" : CommentUtils.resetCount,\\n                    },\\n                    \"vCommentLinkHandler\" : CommentUtils.processCommentLanding,\\n                    \"fCommentItemHandler\" : CommentUtils.itemConverter\\n                }\\n                \\n            } catch(e) {\\n                //TODO : nelo전송\\n            }\\n\\n            \\n            try {\\n                commentOptions = CommentUtils.copyOptions(commentOptions, serviceOptions);\\n                jindo.$Fn(function() {\\n                    (function (htOption) {\\n                        window.__htCboxOption = htOption;\\n                        var retryCount = 1;\\n                        var onErrorRetry = function () {\\n                            if (retryCount == 3) {\\n                                JEagleEyeClient.sendError(\"cbox.core.js retry 3 fail\");\\n                                return;\\n                            }\\n\\n                            createScript(htOption);\\n                            retryCount += 1;\\n                        };\\n\\n                        var createScript = function (htOption) {\\n                            var s = document.createElement(\\'script\\');\\n                            s.type = \\'text/javascript\\';\\n                            s.charset = \\'utf-8\\';\\n                            s.onerror = onErrorRetry;\\n                            s.src = htOption.sDomain + \\'/js/cbox.core.js?v=\\' + Math.floor(new Date().getTime() / 1200000);\\n                            (document.head || document.getElementsByTagName(\"head\")[0]).appendChild(s);\\n                        };\\n\\n                        createScript(htOption);\\n                    })(commentOptions);\\n                }).attach(window, \"load\");\\n            } catch(e) {\\n                //TODO : nelo전송\\n            }\\n        </script>\\n    \\n    \\n\\n\\n\\n<!-- Dic Tooltip -->\\n<script type=\"text/javascript\">\\njindo.$Fn(function(){\\n    jindo.LazyLoading.load(\\n        \"https://ssl.pstatic.net/dicimg/tip/tip_pc.js?\" + jindo.$Date().format(\"Ymd\"),\\n        function(){\\n            if(typeof tip === \"undefined\"){\\n                loadVod();\\n                return;\\n            }\\n\\n            tip.init(\\'#articleBodyContents\\', {\\n                prCode : \"news\",\\n                lang: {\\n                    \"en\": {\\n                        minWordLength: 2,\\n                        target:\"ko\",\\n                        nsc:\"dic.tt.nek\"\\n                    }\\n                },\\n                layerTarget : 0,\\n                mousePointer: true,\\n                eventBeforePlaySound : function(oEvent) {\\n                    if (typeof ttsPlayer != \"undefined\") {\\n                        ttsPlayer.pause();\\n                    }\\n\\n                },\\n                eventAfterPlaySound: function(oEvent) {\\n                    if (typeof ttsPlayer != \"undefined\") {\\n                        ttsPlayer.resume();\\n                    }\\n                }\\n            });\\n\\n            loadVod();\\n\\n            // 동영상 iframe 로딩\\n            function loadVod(){\\n                news.read.VodIframeLazyLoader.init();\\n            }\\n        }\\n    );\\n}).attach(window, \"load\");\\n</script>\\r\\n<!-- 이전/다음 기사목록 보기 -->\\r\\n\\r\\n\\r\\n\\r\\n\\r\\n\\r\\n\\r\\n\\r\\n\\t\\r\\n\\r\\n<div class=\"article_list\">\\r\\n\\r\\n<h4>\\r\\n\\r\\n\\t\\r\\n\\t\\t\\r\\n\\t\\t\\t\\r\\n\\t\\t\\t\\r\\n\\t\\t\\t\\r\\n\\t\\t\\t\\r\\n\\t\\t\\t\\t\\r\\n\\t\\t\\t\\t\\t\\r\\n\\t\\t\\t\\t\\t\\r\\n\\t\\t\\t\\t\\t\\t\\r\\n\\t\\t\\t\\t\\t\\t\\t\\r\\n\\t\\t\\t\\t\\t\\t\\t\\r\\n\\t\\t\\t\\t\\t\\t\\t\\t\\r\\n\\t\\t\\t\\t\\t\\t\\t\\t\\t\\r\\n\\t\\t\\t\\t\\t\\t\\t\\t\\t\\r\\n\\t\\t\\t\\t\\t\\t\\t\\t\\t\\r\\n\\t\\t\\t\\t\\t\\t\\t\\t\\t\\tIT/과학 속보 <span class=\"fs11\"><a href=\"/main/list.nhn?mode=LSD&mid=sec&sid1=105\" class=\"c6 nclicks(abt_seclist)\">\\r\\n\\t\\t\\t\\t\\t\\t\\t\\t\\t\\r\\n\\t\\t\\t\\t\\t\\t\\t\\t\\r\\n\\t\\t\\t\\t\\t\\t\\t\\r\\n\\t\\t\\t\\t\\t\\t\\r\\n\\t\\t\\t\\t\\t\\r\\n\\t\\t\\t\\t\\r\\n\\t\\t\\t\\r\\n\\t\\t\\r\\n\\t\\r\\n\\t\\r\\n\\t\\r\\n\\t\\r\\n\\r\\n\\r\\n기사목록 전체보기</a></span></h4>\\r\\n\\r\\n\\r\\n\\r\\n\\r\\n\\t\\r\\n\\t\\t\\r\\n\\t\\t\\t\\r\\n\\t\\t\\t\\r\\n\\t\\t\\t\\t\\r\\n\\t\\t\\t\\t\\t<ul class=\"type04\">\\r\\n\\t\\t\\t\\t\\t\\t\\t\\t\\t\\r\\n\\t\\t\\t\\t\\t\\r\\n\\t\\t\\t\\t\\t\\r\\n\\t\\t\\t\\t\\t\\r\\n\\t\\t\\t\\t\\t\\t\\r\\n\\t\\t\\t\\t\\t\\t<li class=\"list1\">\\r\\n\\t\\t\\t\\t\\t\\t\\r\\n\\t\\t\\t\\t\\t\\t\\t<a class=\"nclicks(abt_secart)\" href=\"/main/read.nhn?mode=LSD&mid=sec&sid1=105&oid=030&aid=0002856195\">\\r\\n\\t\\t\\t\\t\\t\\t\\t에어비앤비·리프트 투자사, 韓 SW 업체 엔쓰리엔 택했다</a><i class=\"icon_photo\">포토</i>\\r\\n\\t\\t\\t\\t\\t\\t</li>\\r\\n\\t\\t\\t\\t\\t\\r\\n\\t\\t\\t\\t\\t\\t\\r\\n\\t\\t\\t\\t\\t\\t<li class=\"list2\">\\r\\n\\t\\t\\t\\t\\t\\t\\r\\n\\t\\t\\t\\t\\t\\t\\t<a class=\"nclicks(abt_secart)\" href=\"/main/read.nhn?mode=LSD&mid=sec&sid1=105&oid=018&aid=0004533564\">\\r\\n\\t\\t\\t\\t\\t\\t\\t과기부 심사위 합숙..LG유플-CJ헬로 지분인수 13일 마무리</a><i class=\"icon_photo\">포토</i>\\r\\n\\t\\t\\t\\t\\t\\t</li>\\r\\n\\t\\t\\t\\t\\t\\r\\n\\t\\t\\t\\t\\t\\r\\n\\t\\t\\t\\t\\t<li class=\"list3\">\\r\\n\\t\\t\\t\\t\\t\\t\\r\\n\\t\\t\\t\\t\\t\\r\\n\\t\\t\\t\\t\\t\\t<a class=\"nclicks(abt_secart)\" href=\"/main/read.nhn?mode=LSD&mid=sec&sid1=105&oid=029&aid=0002573146\">\\r\\n\\t\\t\\t\\t\\t\\t\\t<strong>스마트팩토리·클라우드·IoT가 위험하다</strong></a><i class=\"icon_photo\">포토</i>\\r\\n\\t\\t\\t\\t\\t</li>\\r\\n\\t\\t\\t\\t\\t\\r\\n\\t\\t\\t\\t\\t\\r\\n\\t\\t\\t\\t\\t\\t\\r\\n\\t\\t\\t\\t\\t\\t\\t\\r\\n\\t\\t\\t\\t\\t\\t<li class=\"list4\">\\r\\n\\t\\t\\t\\t\\t\\t\\t<a class=\"nclicks(abt_secart)\" href=\"/main/read.nhn?mode=LSD&mid=sec&sid1=105&oid=003&aid=0009597960\">\\r\\n\\t\\t\\t\\t\\t\\t\\t안랩 사령탑 6년 만에 교체…강석균 부사장 내정</a> <i class=\"icon_photo\">포토</i>\\r\\n\\t\\t\\t\\t\\t\\t</li>\\r\\n\\t\\t\\t\\t\\t\\r\\n\\t\\t\\t\\t\\t\\t\\r\\n\\t\\t\\t\\t\\t\\t\\t\\r\\n\\t\\t\\t\\t\\t\\t<li class=\"list5\">\\r\\n\\t\\t\\t\\t\\t\\t\\t<a class=\"nclicks(abt_secart)\" href=\"/main/read.nhn?mode=LSD&mid=sec&sid1=105&oid=009&aid=0004478772\">\\r\\n\\t\\t\\t\\t\\t\\t\\t‘엘소드’ 첫 글로벌 대회 넥슨 대표 우승…12월 업데이트도 공개</a> <i class=\"icon_photo\">포토</i>\\r\\n\\t\\t\\t\\t\\t\\t</li>\\r\\n\\t\\t\\t\\t\\t\\t\\t\\t\\t\\r\\n\\t\\t\\t\\t\\t</ul>\\r\\n\\t\\t\\t\\t\\r\\n\\t\\t\\t\\r\\n\\t\\t\\r\\n\\t\\r\\n\\r\\n\\r\\n</div>\\r\\n\\r\\n\\r\\n<!-- // 이전/다음 기사목록 보기 -->\\r\\n<script type=\"text/javascript\">\\r\\n\\tjindo.$Fn(function(){\\r\\n\\t\\tvar _guideBaseElement = jindo.$Element(jindo.$$.getSingle(\".guide_categorization\"));\\r\\n\\t\\tvar _guideCategorizationDiv = jindo.$Element(\"guideCategorizationDiv\");\\r\\n\\r\\n\\t\\tif (_guideBaseElement && _guideCategorizationDiv) {\\r\\n\\t\\t\\tjindo.$Fn(function(e) {\\r\\n\\t\\t\\t\\te.stopDefault();\\r\\n\\t\\t\\t\\t_guideCategorizationDiv.toggle();\\r\\n\\t\\t\\t}, this).attach(_guideBaseElement.query(\"a._categorization_title\"),\\'click\\');\\r\\n\\r\\n\\t\\t\\tjindo.$Fn(function(e) {\\r\\n\\t\\t\\t\\te.stopDefault();\\r\\n\\t\\t\\t\\t_guideCategorizationDiv.toggle();\\r\\n\\t\\t\\t}, this).attach(_guideBaseElement.query(\".guide_categorization_ct a.guide_categorization_ct_close\"), \\'click\\');\\r\\n\\t\\t}\\r\\n\\t}).attach(window, \"load\");\\r\\n</script>\\n<script type=\"text/javascript\">\\n    jindo.$Fn(function() {\\n        jindo.$Fn(function(){\\n            handOff.Article.init(\\n                jindo.$$.getSingle(\\'._article_body_contents\\'),\\n                {\\n                    category: \\'news_article\\',\\n                    contentId: \\'029_0002573146\\',\\n                    apiDomain: \\'https://sidekick.fever.naver.com\\'\\n                }\\n            );\\n        }).delay(0.8);\\n    }).attach(window, \"load\");\\n</script>\\r\\n\\t\\t\\t\\t</div>\\r\\n\\t\\t\\t</td>\\r\\n\\t\\t\\t<td class=\"aside\">\\r\\n\\t\\t\\t\\t<div class=\"aside\">\\r\\n\\t\\t\\t\\t\\t\\r\\n\\r\\n\\r\\n\\r\\n\\r\\n\\r\\n\\r\\n    \\r\\n    \\r\\n    \\r\\n    \\r\\n        \\r\\n    \\r\\n\\r\\n\\r\\n\\r\\n\\r\\n    \\r\\n    \\r\\n\\r\\n\\r\\n    \\r\\n    \\r\\n    \\r\\n    \\r\\n        \\r\\n        \\r\\n            \\r\\n            \\r\\n                <div class=\"section section_wide\"> \\n <h4><a href=\"/main/ranking/popularDay.nhn\" class=\"nclicks(rig.ranking)\">가장 많이 본 뉴스</a></h4> \\n <div class=\"category\"> \\n  <span class=\"category_ranking\" id=\"category_ranking\"> <a href=\"#\" onclick=\"return false;\" class=\"nclicks(rig.ranking)\" aria-selected=\"false\" id=\"right.ranking_tab_100\">정치</a> <a href=\"#\" onclick=\"return false;\" class=\"nclicks(rig.ranking)\" aria-selected=\"false\" id=\"right.ranking_tab_101\">경제</a> <a href=\"#\" onclick=\"return false;\" class=\"nclicks(rig.ranking)\" aria-selected=\"false\" id=\"right.ranking_tab_102\">사회</a> <a href=\"#\" onclick=\"return false;\" class=\"nclicks(rig.ranking)\" aria-selected=\"false\" id=\"right.ranking_tab_103\">생활/문화</a> <a href=\"#\" onclick=\"return false;\" class=\"nclicks(rig.ranking)\" aria-selected=\"false\" id=\"right.ranking_tab_104\">세계</a> <a href=\"#\" onclick=\"return false;\" class=\"nclicks(rig.ranking)\" aria-selected=\"false\" id=\"right.ranking_tab_105\">IT/과학</a> </span> \\n </div> \\n <div id=\"right.ranking_contents\"></div> \\n <div id=\"ranking_100\" style=\"display:none\"> \\n  <h5 class=\"blind\">정치</h5> \\n  <ul class=\"section_list_ranking\"> \\n   <li><span class=\"rank num1\"><em>1</em></span> <a href=\"/main/ranking/read.nhn?mid=etc&amp;sid1=111&amp;rankingType=popular_day&amp;oid=001&amp;aid=0011266422&amp;date=20191210&amp;type=1&amp;rankingSeq=1&amp;rankingSectionId=100\" class=\"nclicks(rig.rankpol)\" title=\"어린 유족앞에 무릎꿇은 文대통령…헬기추락 순직대원 가족 위로\">어린 유족앞에 무릎꿇은 文대통령…헬기추락 순직대원 가족 위로</a> </li> \\n   <li><span class=\"rank num2\"><em>2</em></span> <a href=\"/main/ranking/read.nhn?mid=etc&amp;sid1=111&amp;rankingType=popular_day&amp;oid=001&amp;aid=0011266429&amp;date=20191210&amp;type=1&amp;rankingSeq=2&amp;rankingSectionId=100\" class=\"nclicks(rig.rankpol)\" title=\"故김민식군 부모 눈물 속 \\'민식이법\\' 통과…&quot;다치는 아이 없길&quot;\">故김민식군 부모 눈물 속 \\'민식이법\\' 통과…&quot;다치는 아이 없길&quot;</a> </li> \\n   <li><span class=\"rank num3\"><em>3</em></span> <a href=\"/main/ranking/read.nhn?mid=etc&amp;sid1=111&amp;rankingType=popular_day&amp;oid=023&amp;aid=0003492472&amp;date=20191210&amp;type=1&amp;rankingSeq=3&amp;rankingSectionId=100\" class=\"nclicks(rig.rankpol)\" title=\"美, 안보리 긴급소집… 北 ICBM 경고 나선다\">美, 안보리 긴급소집… 北 ICBM 경고 나선다</a> </li> \\n   <li><span class=\"rank num4\"><em>4</em></span> <a href=\"/main/ranking/read.nhn?mid=etc&amp;sid1=111&amp;rankingType=popular_day&amp;oid=008&amp;aid=0004322728&amp;date=20191210&amp;type=1&amp;rankingSeq=4&amp;rankingSectionId=100\" class=\"nclicks(rig.rankpol)\" title=\"\\'민식이법\\'&middot;\\'하준이법\\', 국회 본회의 통과(종합)\">\\'민식이법\\'&middot;\\'하준이법\\', 국회 본회의 통과(종합)</a> </li> \\n   <li><span class=\"rank num5\"><em>5</em></span> <a href=\"/main/ranking/read.nhn?mid=etc&amp;sid1=111&amp;rankingType=popular_day&amp;oid=047&amp;aid=0002249394&amp;date=20191210&amp;type=2&amp;rankingSeq=5&amp;rankingSectionId=100\" class=\"nclicks(rig.rankpol)\" title=\"민식이법&middot;하준이법 드디어 처리됐다\">민식이법&middot;하준이법 드디어 처리됐다</a> </li> \\n   <li><span class=\"rank num6\"><em>6</em></span> <a href=\"/main/ranking/read.nhn?mid=etc&amp;sid1=111&amp;rankingType=popular_day&amp;oid=023&amp;aid=0003492461&amp;date=20191210&amp;type=1&amp;rankingSeq=6&amp;rankingSectionId=100\" class=\"nclicks(rig.rankpol)\" title=\"[속보] \\'민식이법\\' 국회 통과...스쿨존 사망사고 최고 무기징역\">[속보] \\'민식이법\\' 국회 통과...스쿨존 사망사고 최고 무기징역</a> </li> \\n   <li><span class=\"rank num7\"><em>7</em></span> <a href=\"/main/ranking/read.nhn?mid=etc&amp;sid1=111&amp;rankingType=popular_day&amp;oid=032&amp;aid=0002979739&amp;date=20191210&amp;type=1&amp;rankingSeq=7&amp;rankingSectionId=100\" class=\"nclicks(rig.rankpol)\" title=\"[속보]\\'민식이법&middot;하준이법\\' 국회 본회의 통과\">[속보]\\'민식이법&middot;하준이법\\' 국회 본회의 통과</a> </li> \\n   <li><span class=\"rank num8\"><em>8</em></span> <a href=\"/main/ranking/read.nhn?mid=etc&amp;sid1=111&amp;rankingType=popular_day&amp;oid=081&amp;aid=0003050006&amp;date=20191210&amp;type=1&amp;rankingSeq=8&amp;rankingSectionId=100\" class=\"nclicks(rig.rankpol)\" title=\"“너의 이름으로 아이들 사망 막을거야” 민식군 부모 눈물바다\">“너의 이름으로 아이들 사망 막을거야” 민식군 부모 눈물바다</a> </li> \\n   <li><span class=\"rank num9\"><em>9</em></span> <a href=\"/main/ranking/read.nhn?mid=etc&amp;sid1=111&amp;rankingType=popular_day&amp;oid=001&amp;aid=0011266355&amp;date=20191210&amp;type=1&amp;rankingSeq=9&amp;rankingSectionId=100\" class=\"nclicks(rig.rankpol)\" title=\"국회 본회의 개의…민식이법&middot;파병동의안 등 16건 처리 후 정회(종합)\">국회 본회의 개의…민식이법&middot;파병동의안 등 16건 처리 후 정회(종합)</a> </li> \\n   <li><span class=\"rank num10\"><em>10</em></span> <a href=\"/main/ranking/read.nhn?mid=etc&amp;sid1=111&amp;rankingType=popular_day&amp;oid=001&amp;aid=0011266234&amp;date=20191210&amp;type=1&amp;rankingSeq=10&amp;rankingSectionId=100\" class=\"nclicks(rig.rankpol)\" title=\"예산합의 불발 \\'일촉즉발\\'…與 &quot;4+1案 상정&quot;, 한국당 &quot;총력저지&quot;\">예산합의 불발 \\'일촉즉발\\'…與 &quot;4+1案 상정&quot;, 한국당 &quot;총력저지&quot;</a> </li> \\n  </ul> \\n  <a href=\"/main/ranking/popularDay.nhn\" class=\"more_link\"><span class=\"blind\">가장 많이 본 뉴스</span>더보기</a> \\n </div> \\n <div id=\"ranking_101\" style=\"display:none\"> \\n  <h5 class=\"blind\">경제</h5> \\n  <ul class=\"section_list_ranking\"> \\n   <li><span class=\"rank num1\"><em>1</em></span> <a href=\"/main/ranking/read.nhn?mid=etc&amp;sid1=111&amp;rankingType=popular_day&amp;oid=001&amp;aid=0011266231&amp;date=20191210&amp;type=1&amp;rankingSeq=1&amp;rankingSectionId=101\" class=\"nclicks(rig.rankeco)\" title=\"마지막 유언 없이 떠난 김우중…평소 소신대로 \\'소박한 장례\\'(종합)\">마지막 유언 없이 떠난 김우중…평소 소신대로 \\'소박한 장례\\'(종합)</a> </li> \\n   <li><span class=\"rank num2\"><em>2</em></span> <a href=\"/main/ranking/read.nhn?mid=etc&amp;sid1=111&amp;rankingType=popular_day&amp;oid=001&amp;aid=0011266588&amp;date=20191210&amp;type=1&amp;rankingSeq=2&amp;rankingSectionId=101\" class=\"nclicks(rig.rankeco)\" title=\"&quot;가족이자 큰 스승&quot;…김우중 빈소에 속속 총집결 대우맨들\">&quot;가족이자 큰 스승&quot;…김우중 빈소에 속속 총집결 대우맨들</a> </li> \\n   <li><span class=\"rank num3\"><em>3</em></span> <a href=\"/main/ranking/read.nhn?mid=etc&amp;sid1=111&amp;rankingType=popular_day&amp;oid=025&amp;aid=0002959189&amp;date=20191210&amp;type=1&amp;rankingSeq=3&amp;rankingSectionId=101\" class=\"nclicks(rig.rankeco)\" title=\"트위터 세상에선…조국이 文을, 불매운동이 정상회담을 이겼다\">트위터 세상에선…조국이 文을, 불매운동이 정상회담을 이겼다</a> </li> \\n   <li><span class=\"rank num4\"><em>4</em></span> <a href=\"/main/ranking/read.nhn?mid=etc&amp;sid1=111&amp;rankingType=popular_day&amp;oid=009&amp;aid=0004479369&amp;date=20191210&amp;type=1&amp;rankingSeq=4&amp;rankingSectionId=101\" class=\"nclicks(rig.rankeco)\" title=\"김우중 유산 대우빌딩의 기구한 운명\">김우중 유산 대우빌딩의 기구한 운명</a> </li> \\n   <li><span class=\"rank num5\"><em>5</em></span> <a href=\"/main/ranking/read.nhn?mid=etc&amp;sid1=111&amp;rankingType=popular_day&amp;oid=003&amp;aid=0009598706&amp;date=20191210&amp;type=1&amp;rankingSeq=5&amp;rankingSectionId=101\" class=\"nclicks(rig.rankeco)\" title=\"&quot;세계는 넓고 할 일은 많다&quot; 김우중 前 대우그룹 회장 별세(종합)\">&quot;세계는 넓고 할 일은 많다&quot; 김우중 前 대우그룹 회장 별세(종합)</a> </li> \\n   <li><span class=\"rank num6\"><em>6</em></span> <a href=\"/main/ranking/read.nhn?mid=etc&amp;sid1=111&amp;rankingType=popular_day&amp;oid=025&amp;aid=0002959203&amp;date=20191210&amp;type=1&amp;rankingSeq=6&amp;rankingSectionId=101\" class=\"nclicks(rig.rankeco)\" title=\"QM6 인기에 특근까지 하는데...르노삼성 노조 또 파업하나\">QM6 인기에 특근까지 하는데...르노삼성 노조 또 파업하나</a> </li> \\n   <li><span class=\"rank num7\"><em>7</em></span> <a href=\"/main/ranking/read.nhn?mid=etc&amp;sid1=111&amp;rankingType=popular_day&amp;oid=374&amp;aid=0000200115&amp;date=20191210&amp;type=2&amp;rankingSeq=7&amp;rankingSectionId=101\" class=\"nclicks(rig.rankeco)\" title=\"직원 5명으로 시작한 김우중…재계2위로 성장한 동력은\">직원 5명으로 시작한 김우중…재계2위로 성장한 동력은</a> </li> \\n   <li><span class=\"rank num8\"><em>8</em></span> <a href=\"/main/ranking/read.nhn?mid=etc&amp;sid1=111&amp;rankingType=popular_day&amp;oid=001&amp;aid=0011266170&amp;date=20191210&amp;type=1&amp;rankingSeq=8&amp;rankingSectionId=101\" class=\"nclicks(rig.rankeco)\" title=\"\\'타다\\' 반발에 역공나선 국토부 &quot;\\'타다\\'는 어떤 대안 있나&quot;\">\\'타다\\' 반발에 역공나선 국토부 &quot;\\'타다\\'는 어떤 대안 있나&quot;</a> </li> \\n   <li><span class=\"rank num9\"><em>9</em></span> <a href=\"/main/ranking/read.nhn?mid=etc&amp;sid1=111&amp;rankingType=popular_day&amp;oid=421&amp;aid=0004349938&amp;date=20191210&amp;type=1&amp;rankingSeq=9&amp;rankingSectionId=101\" class=\"nclicks(rig.rankeco)\" title=\"김우중 전 회장은 영면했지만…DJ시절 대우 해체는 여전히 논란\">김우중 전 회장은 영면했지만…DJ시절 대우 해체는 여전히 논란</a> </li> \\n   <li><span class=\"rank num10\"><em>10</em></span> <a href=\"/main/ranking/read.nhn?mid=etc&amp;sid1=111&amp;rankingType=popular_day&amp;oid=015&amp;aid=0004254893&amp;date=20191210&amp;type=1&amp;rankingSeq=10&amp;rankingSectionId=101\" class=\"nclicks(rig.rankeco)\" title=\"[식후땡 부동산] &quot;부동산 안정됐다&quot;더니…김수현 아파트&middot;김의겸 상가 \\'급등\\'\">[식후땡 부동산] &quot;부동산 안정됐다&quot;더니…김수현 아파트&middot;김의겸 상가 \\'급등\\'</a> </li> \\n  </ul> \\n  <a href=\"/main/ranking/popularDay.nhn\" class=\"more_link\"><span class=\"blind\">가장 많이 본 뉴스</span>더보기</a> \\n </div> \\n <div id=\"ranking_102\" style=\"display:none\"> \\n  <h5 class=\"blind\">사회</h5> \\n  <ul class=\"section_list_ranking\"> \\n   <li><span class=\"rank num1\"><em>1</em></span> <a href=\"/main/ranking/read.nhn?mid=etc&amp;sid1=111&amp;rankingType=popular_day&amp;oid=011&amp;aid=0003664099&amp;date=20191210&amp;type=1&amp;rankingSeq=1&amp;rankingSectionId=102\" class=\"nclicks(rig.ranksoc)\" title=\"&quot;똑같은 정경심 공소장&quot; 檢 반발에&middot;&middot;&middot; 재판부 &quot;계속 말하면 퇴정&quot;\">&quot;똑같은 정경심 공소장&quot; 檢 반발에&middot;&middot;&middot; 재판부 &quot;계속 말하면 퇴정&quot;</a> </li> \\n   <li><span class=\"rank num2\"><em>2</em></span> <a href=\"/main/ranking/read.nhn?mid=etc&amp;sid1=111&amp;rankingType=popular_day&amp;oid=025&amp;aid=0002959212&amp;date=20191210&amp;type=1&amp;rankingSeq=2&amp;rankingSectionId=102\" class=\"nclicks(rig.ranksoc)\" title=\"&quot;정경심 기소 한달 지났다, 보석 검토&quot; 법원, 검찰 늦장 질책\">&quot;정경심 기소 한달 지났다, 보석 검토&quot; 법원, 검찰 늦장 질책</a> </li> \\n   <li><span class=\"rank num3\"><em>3</em></span> <a href=\"/main/ranking/read.nhn?mid=etc&amp;sid1=111&amp;rankingType=popular_day&amp;oid=003&amp;aid=0009599724&amp;date=20191210&amp;type=1&amp;rankingSeq=3&amp;rankingSectionId=102\" class=\"nclicks(rig.ranksoc)\" title=\"\\'표창장 위조\\' 정경심 공소장 변경 불허…&quot;동일성 인정안돼&quot;(종합)\">\\'표창장 위조\\' 정경심 공소장 변경 불허…&quot;동일성 인정안돼&quot;(종합)</a> </li> \\n   <li><span class=\"rank num4\"><em>4</em></span> <a href=\"/main/ranking/read.nhn?mid=etc&amp;sid1=111&amp;rankingType=popular_day&amp;oid=025&amp;aid=0002959207&amp;date=20191210&amp;type=1&amp;rankingSeq=4&amp;rankingSectionId=102\" class=\"nclicks(rig.ranksoc)\" title=\"박정희 &quot;그 사람 밖에 없다&quot;던 김우중…DJ&middot;盧까지 정치마당발\">박정희 &quot;그 사람 밖에 없다&quot;던 김우중…DJ&middot;盧까지 정치마당발</a> </li> \\n   <li><span class=\"rank num5\"><em>5</em></span> <a href=\"/main/ranking/read.nhn?mid=etc&amp;sid1=111&amp;rankingType=popular_day&amp;oid=277&amp;aid=0004586385&amp;date=20191210&amp;type=1&amp;rankingSeq=5&amp;rankingSectionId=102\" class=\"nclicks(rig.ranksoc)\" title=\"가세연 &quot;김건모 성폭행 의혹, 피해자 또 있다&quot;…김건모 측 &quot;사실무근, 법적 대응&quot;\">가세연 &quot;김건모 성폭행 의혹, 피해자 또 있다&quot;…김건모 측 &quot;사실무근, 법적 대응&quot;</a> </li> \\n   <li><span class=\"rank num6\"><em>6</em></span> <a href=\"/main/ranking/read.nhn?mid=etc&amp;sid1=111&amp;rankingType=popular_day&amp;oid=214&amp;aid=0000999504&amp;date=20191210&amp;type=2&amp;rankingSeq=6&amp;rankingSectionId=102\" class=\"nclicks(rig.ranksoc)\" title=\"법원, 정경심 \\'사문서 위조\\' 공소장 변경 불허\">법원, 정경심 \\'사문서 위조\\' 공소장 변경 불허</a> </li> \\n   <li><span class=\"rank num7\"><em>7</em></span> <a href=\"/main/ranking/read.nhn?mid=etc&amp;sid1=111&amp;rankingType=popular_day&amp;oid=025&amp;aid=0002959099&amp;date=20191210&amp;type=1&amp;rankingSeq=7&amp;rankingSectionId=102\" class=\"nclicks(rig.ranksoc)\" title=\"\\'김건모 성폭행\\' 주장女 인터뷰 공개…강용석 &quot;피해자 또 있다&quot;\">\\'김건모 성폭행\\' 주장女 인터뷰 공개…강용석 &quot;피해자 또 있다&quot;</a> </li> \\n   <li><span class=\"rank num8\"><em>8</em></span> <a href=\"/main/ranking/read.nhn?mid=etc&amp;sid1=111&amp;rankingType=popular_day&amp;oid=025&amp;aid=0002959167&amp;date=20191210&amp;type=1&amp;rankingSeq=8&amp;rankingSectionId=102\" class=\"nclicks(rig.ranksoc)\" title=\"남편에 수면제 먹여 질식사? 인천 \\'청테이프 살해\\' 미스터리\">남편에 수면제 먹여 질식사? 인천 \\'청테이프 살해\\' 미스터리</a> </li> \\n   <li><span class=\"rank num9\"><em>9</em></span> <a href=\"/main/ranking/read.nhn?mid=etc&amp;sid1=111&amp;rankingType=popular_day&amp;oid=437&amp;aid=0000226119&amp;date=20191209&amp;type=2&amp;rankingSeq=9&amp;rankingSectionId=102\" class=\"nclicks(rig.ranksoc)\" title=\"&quot;분유값 사기&quot; 발칵 뒤집힌 맘카페…피해자만 400여 명\">&quot;분유값 사기&quot; 발칵 뒤집힌 맘카페…피해자만 400여 명</a> </li> \\n   <li><span class=\"rank num10\"><em>10</em></span> <a href=\"/main/ranking/read.nhn?mid=etc&amp;sid1=111&amp;rankingType=popular_day&amp;oid=023&amp;aid=0003492440&amp;date=20191210&amp;type=1&amp;rankingSeq=10&amp;rankingSectionId=102\" class=\"nclicks(rig.ranksoc)\" title=\"춘천시장 관용차에 1480만원 안마 의자 설치 논란…&quot;허리 안 좋아&quot;\">춘천시장 관용차에 1480만원 안마 의자 설치 논란…&quot;허리 안 좋아&quot;</a> </li> \\n  </ul> \\n  <a href=\"/main/ranking/popularDay.nhn\" class=\"more_link\"><span class=\"blind\">가장 많이 본 뉴스</span>더보기</a> \\n </div> \\n <div id=\"ranking_103\" style=\"display:none\"> \\n  <h5 class=\"blind\">생활/문화</h5> \\n  <ul class=\"section_list_ranking\"> \\n   <li><span class=\"rank num1\"><em>1</em></span> <a href=\"/main/ranking/read.nhn?mid=etc&amp;sid1=111&amp;rankingType=popular_day&amp;oid=011&amp;aid=0003664123&amp;date=20191210&amp;type=0&amp;rankingSeq=1&amp;rankingSectionId=103\" class=\"nclicks(rig.ranklif)\" title=\"서울에 올겨울 첫 초미세먼지주의보 발령(속보)\">서울에 올겨울 첫 초미세먼지주의보 발령(속보)</a> </li> \\n   <li><span class=\"rank num2\"><em>2</em></span> <a href=\"/main/ranking/read.nhn?mid=etc&amp;sid1=111&amp;rankingType=popular_day&amp;oid=052&amp;aid=0001375108&amp;date=20191210&amp;type=1&amp;rankingSeq=2&amp;rankingSectionId=103\" class=\"nclicks(rig.ranklif)\" title=\"강용석 측 &quot;김건모 성폭행 피해자 또 있다...훨씬 충격적&quot; 예고\">강용석 측 &quot;김건모 성폭행 피해자 또 있다...훨씬 충격적&quot; 예고</a> </li> \\n   <li><span class=\"rank num3\"><em>3</em></span> <a href=\"/main/ranking/read.nhn?mid=etc&amp;sid1=111&amp;rankingType=popular_day&amp;oid=015&amp;aid=0004254877&amp;date=20191210&amp;type=1&amp;rankingSeq=3&amp;rankingSectionId=103\" class=\"nclicks(rig.ranklif)\" title=\"&quot;기업 대표, 여배우와 부적절 관계&quot; 2013년 느와르 영화 관심…신세계&middot;감시자들 등\">&quot;기업 대표, 여배우와 부적절 관계&quot; 2013년 느와르 영화 관심…신세계&middot;감시자들 등</a> </li> \\n   <li><span class=\"rank num4\"><em>4</em></span> <a href=\"/main/ranking/read.nhn?mid=etc&amp;sid1=111&amp;rankingType=popular_day&amp;oid=025&amp;aid=0002959215&amp;date=20191210&amp;type=1&amp;rankingSeq=4&amp;rankingSectionId=103\" class=\"nclicks(rig.ranklif)\" title=\"韓 최초 골든글로브 오른 \\'기생충\\'&middot;&middot;&middot;작품상 후보서 빠진 까닭\">韓 최초 골든글로브 오른 \\'기생충\\'&middot;&middot;&middot;작품상 후보서 빠진 까닭</a> </li> \\n   <li><span class=\"rank num5\"><em>5</em></span> <a href=\"/main/ranking/read.nhn?mid=etc&amp;sid1=111&amp;rankingType=popular_day&amp;oid=025&amp;aid=0002959120&amp;date=20191210&amp;type=1&amp;rankingSeq=5&amp;rankingSectionId=103\" class=\"nclicks(rig.ranklif)\" title=\"3시간 만에 3만 마리 득실&middot;&middot;&middot;물로만 헹군 텀블러 ‘세균 천국’\">3시간 만에 3만 마리 득실&middot;&middot;&middot;물로만 헹군 텀블러 ‘세균 천국’</a> </li> \\n   <li><span class=\"rank num6\"><em>6</em></span> <a href=\"/main/ranking/read.nhn?mid=etc&amp;sid1=111&amp;rankingType=popular_day&amp;oid=015&amp;aid=0004254736&amp;date=20191210&amp;type=1&amp;rankingSeq=6&amp;rankingSectionId=103\" class=\"nclicks(rig.ranklif)\" title=\"[이슈+] 생산할 차도 없는데…르노삼성 결국 \\'파업\\' 수순\">[이슈+] 생산할 차도 없는데…르노삼성 결국 \\'파업\\' 수순</a> </li> \\n   <li><span class=\"rank num7\"><em>7</em></span> <a href=\"/main/ranking/read.nhn?mid=etc&amp;sid1=111&amp;rankingType=popular_day&amp;oid=215&amp;aid=0000829959&amp;date=20191209&amp;type=1&amp;rankingSeq=7&amp;rankingSectionId=103\" class=\"nclicks(rig.ranklif)\" title=\"치킨 만족도 1위 \\'페리카나\\'…꼴찌 교촌, 이유는\">치킨 만족도 1위 \\'페리카나\\'…꼴찌 교촌, 이유는</a> </li> \\n   <li><span class=\"rank num8\"><em>8</em></span> <a href=\"/main/ranking/read.nhn?mid=etc&amp;sid1=111&amp;rankingType=popular_day&amp;oid=079&amp;aid=0003300273&amp;date=20191210&amp;type=1&amp;rankingSeq=8&amp;rankingSectionId=103\" class=\"nclicks(rig.ranklif)\" title=\"\\'누르하치 칼\\'과 \\'황룡포\\' 유물로 보는 청 황실\">\\'누르하치 칼\\'과 \\'황룡포\\' 유물로 보는 청 황실</a> </li> \\n   <li><span class=\"rank num9\"><em>9</em></span> <a href=\"/main/ranking/read.nhn?mid=etc&amp;sid1=111&amp;rankingType=popular_day&amp;oid=018&amp;aid=0004534094&amp;date=20191210&amp;type=1&amp;rankingSeq=9&amp;rankingSectionId=103\" class=\"nclicks(rig.ranklif)\" title=\"“포르쉐 받고, 여행까지”…여배우X기업 대표, 불륜 스캔들\">“포르쉐 받고, 여행까지”…여배우X기업 대표, 불륜 스캔들</a> </li> \\n   <li><span class=\"rank num10\"><em>10</em></span> <a href=\"/main/ranking/read.nhn?mid=etc&amp;sid1=111&amp;rankingType=popular_day&amp;oid=016&amp;aid=0001612315&amp;date=20191210&amp;type=1&amp;rankingSeq=10&amp;rankingSectionId=103\" class=\"nclicks(rig.ranklif)\" title=\"책 보거나 컴퓨터 사용할 때만 안경…눈 더 나빠질까\">책 보거나 컴퓨터 사용할 때만 안경…눈 더 나빠질까</a> </li> \\n  </ul> \\n  <a href=\"/main/ranking/popularDay.nhn\" class=\"more_link\"><span class=\"blind\">가장 많이 본 뉴스</span>더보기</a> \\n </div> \\n <div id=\"ranking_104\" style=\"display:none\"> \\n  <h5 class=\"blind\">세계</h5> \\n  <ul class=\"section_list_ranking\"> \\n   <li><span class=\"rank num1\"><em>1</em></span> <a href=\"/main/ranking/read.nhn?mid=etc&amp;sid1=111&amp;rankingType=popular_day&amp;oid=025&amp;aid=0002959201&amp;date=20191210&amp;type=1&amp;rankingSeq=1&amp;rankingSectionId=104\" class=\"nclicks(rig.rankwor)\" title=\"뉴질랜드 화이트섬 화산 분화, 왜 사전에 감지하지 못했나\">뉴질랜드 화이트섬 화산 분화, 왜 사전에 감지하지 못했나</a> </li> \\n   <li><span class=\"rank num2\"><em>2</em></span> <a href=\"/main/ranking/read.nhn?mid=etc&amp;sid1=111&amp;rankingType=popular_day&amp;oid=047&amp;aid=0002249389&amp;date=20191210&amp;type=1&amp;rankingSeq=2&amp;rankingSectionId=104\" class=\"nclicks(rig.rankwor)\" title=\"&quot;미쳤어, 미쳤어&quot;... 손흥민, 그가 눈앞으로 달려왔다\">&quot;미쳤어, 미쳤어&quot;... 손흥민, 그가 눈앞으로 달려왔다</a> </li> \\n   <li><span class=\"rank num3\"><em>3</em></span> <a href=\"/main/ranking/read.nhn?mid=etc&amp;sid1=111&amp;rankingType=popular_day&amp;oid=449&amp;aid=0000182745&amp;date=20191210&amp;type=2&amp;rankingSeq=3&amp;rankingSectionId=104\" class=\"nclicks(rig.rankwor)\" title=\"[글로벌뉴스룸]뉴질랜드 화산 폭발…최소 5명 사망&middot;8명 실종\">[글로벌뉴스룸]뉴질랜드 화산 폭발…최소 5명 사망&middot;8명 실종</a> </li> \\n   <li><span class=\"rank num4\"><em>4</em></span> <a href=\"/main/ranking/read.nhn?mid=etc&amp;sid1=111&amp;rankingType=popular_day&amp;oid=081&amp;aid=0003049992&amp;date=20191210&amp;type=1&amp;rankingSeq=4&amp;rankingSectionId=104\" class=\"nclicks(rig.rankwor)\" title=\"비극이 되어버린 뉴질랜드 화산 허니문…美 신혼부부 중화상\">비극이 되어버린 뉴질랜드 화산 허니문…美 신혼부부 중화상</a> </li> \\n   <li><span class=\"rank num5\"><em>5</em></span> <a href=\"/main/ranking/read.nhn?mid=etc&amp;sid1=111&amp;rankingType=popular_day&amp;oid=025&amp;aid=0002959182&amp;date=20191210&amp;type=1&amp;rankingSeq=5&amp;rankingSectionId=104\" class=\"nclicks(rig.rankwor)\" title=\"10년 정권 빈손 퇴장? 초조한 아베…아소 &quot;임기 3년 늘려 개헌&quot;\">10년 정권 빈손 퇴장? 초조한 아베…아소 &quot;임기 3년 늘려 개헌&quot;</a> </li> \\n   <li><span class=\"rank num6\"><em>6</em></span> <a href=\"/main/ranking/read.nhn?mid=etc&amp;sid1=111&amp;rankingType=popular_day&amp;oid=422&amp;aid=0000404897&amp;date=20191210&amp;type=2&amp;rankingSeq=6&amp;rankingSectionId=104\" class=\"nclicks(rig.rankwor)\" title=\"뉴질랜드 섬 화산 폭발…&quot;섬 내 생존자 없는 듯&quot;\">뉴질랜드 섬 화산 폭발…&quot;섬 내 생존자 없는 듯&quot;</a> </li> \\n   <li><span class=\"rank num7\"><em>7</em></span> <a href=\"/main/ranking/read.nhn?mid=etc&amp;sid1=111&amp;rankingType=popular_day&amp;oid=025&amp;aid=0002959133&amp;date=20191210&amp;type=1&amp;rankingSeq=7&amp;rankingSectionId=104\" class=\"nclicks(rig.rankwor)\" title=\"&quot;미안하지만 내 출세 방해된다&quot; 딸 성폭행 덮은 전 호주 총리\">&quot;미안하지만 내 출세 방해된다&quot; 딸 성폭행 덮은 전 호주 총리</a> </li> \\n   <li><span class=\"rank num8\"><em>8</em></span> <a href=\"/main/ranking/read.nhn?mid=etc&amp;sid1=111&amp;rankingType=popular_day&amp;oid=025&amp;aid=0002959197&amp;date=20191210&amp;type=1&amp;rankingSeq=8&amp;rankingSectionId=104\" class=\"nclicks(rig.rankwor)\" title=\"탄핵&middot;북한에 속끓는 트럼프…딸 이방카마저 스캔들 터졌다\">탄핵&middot;북한에 속끓는 트럼프…딸 이방카마저 스캔들 터졌다</a> </li> \\n   <li><span class=\"rank num9\"><em>9</em></span> <a href=\"/main/ranking/read.nhn?mid=etc&amp;sid1=111&amp;rankingType=popular_day&amp;oid=052&amp;aid=0001375064&amp;date=20191210&amp;type=1&amp;rankingSeq=9&amp;rankingSectionId=104\" class=\"nclicks(rig.rankwor)\" title=\"17년 전 강간 살인 용의자, 30년 형 선고받자 농약 마셔\">17년 전 강간 살인 용의자, 30년 형 선고받자 농약 마셔</a> </li> \\n   <li><span class=\"rank num10\"><em>10</em></span> <a href=\"/main/ranking/read.nhn?mid=etc&amp;sid1=111&amp;rankingType=popular_day&amp;oid=437&amp;aid=0000226145&amp;date=20191210&amp;type=2&amp;rankingSeq=10&amp;rankingSectionId=104\" class=\"nclicks(rig.rankwor)\" title=\"갈라진 북&middot;미, 틈 파고든 중국…\\'대북 제재 해제\\' 역할론\">갈라진 북&middot;미, 틈 파고든 중국…\\'대북 제재 해제\\' 역할론</a> </li> \\n  </ul> \\n  <a href=\"/main/ranking/popularDay.nhn\" class=\"more_link\"><span class=\"blind\">가장 많이 본 뉴스</span>더보기</a> \\n </div> \\n <div id=\"ranking_105\" style=\"display:none\"> \\n  <h5 class=\"blind\">IT/과학</h5> \\n  <ul class=\"section_list_ranking\"> \\n   <li><span class=\"rank num1\"><em>1</em></span> <a href=\"/main/ranking/read.nhn?mid=etc&amp;sid1=111&amp;rankingType=popular_day&amp;oid=028&amp;aid=0002477697&amp;date=20191210&amp;type=1&amp;rankingSeq=1&amp;rankingSectionId=105\" class=\"nclicks(rig.ranksci)\" title=\"34&middot;60&middot;78살...인간은 세 번 늙는다\">34&middot;60&middot;78살...인간은 세 번 늙는다</a> </li> \\n   <li><span class=\"rank num2\"><em>2</em></span> <a href=\"/main/ranking/read.nhn?mid=etc&amp;sid1=111&amp;rankingType=popular_day&amp;oid=293&amp;aid=0000025832&amp;date=20191210&amp;type=1&amp;rankingSeq=2&amp;rankingSectionId=105\" class=\"nclicks(rig.ranksci)\" title=\"잔돈 모아 10만원...\\'카카오뱅크 저금통\\'\">잔돈 모아 10만원...\\'카카오뱅크 저금통\\'</a> </li> \\n   <li><span class=\"rank num3\"><em>3</em></span> <a href=\"/main/ranking/read.nhn?mid=etc&amp;sid1=111&amp;rankingType=popular_day&amp;oid=014&amp;aid=0004340637&amp;date=20191210&amp;type=1&amp;rankingSeq=3&amp;rankingSectionId=105\" class=\"nclicks(rig.ranksci)\" title=\"이산화탄소로 휘발유 만든다\">이산화탄소로 휘발유 만든다</a> </li> \\n   <li><span class=\"rank num4\"><em>4</em></span> <a href=\"/main/ranking/read.nhn?mid=etc&amp;sid1=111&amp;rankingType=popular_day&amp;oid=079&amp;aid=0003300234&amp;date=20191210&amp;type=1&amp;rankingSeq=4&amp;rankingSectionId=105\" class=\"nclicks(rig.ranksci)\" title=\"구글 신입사원들이 프로펠러 달린 모자를 쓰는 이유\">구글 신입사원들이 프로펠러 달린 모자를 쓰는 이유</a> </li> \\n   <li><span class=\"rank num5\"><em>5</em></span> <a href=\"/main/ranking/read.nhn?mid=etc&amp;sid1=111&amp;rankingType=popular_day&amp;oid=001&amp;aid=0011266331&amp;date=20191210&amp;type=1&amp;rankingSeq=5&amp;rankingSectionId=105\" class=\"nclicks(rig.ranksci)\" title=\"&quot;폐암 일으키는 유전자 분해&quot; RNA 나노입자 개발\">&quot;폐암 일으키는 유전자 분해&quot; RNA 나노입자 개발</a> </li> \\n   <li><span class=\"rank num6\"><em>6</em></span> <a href=\"/main/ranking/read.nhn?mid=etc&amp;sid1=111&amp;rankingType=popular_day&amp;oid=001&amp;aid=0011266042&amp;date=20191210&amp;type=1&amp;rankingSeq=6&amp;rankingSectionId=105\" class=\"nclicks(rig.ranksci)\" title=\"폐경 맞은 \\'할머니\\' 범고래 \\'손주\\' 돌보는 중요 역할\">폐경 맞은 \\'할머니\\' 범고래 \\'손주\\' 돌보는 중요 역할</a> </li> \\n   <li><span class=\"rank num7\"><em>7</em></span> <a href=\"/main/ranking/read.nhn?mid=etc&amp;sid1=111&amp;rankingType=popular_day&amp;oid=032&amp;aid=0002979714&amp;date=20191210&amp;type=1&amp;rankingSeq=7&amp;rankingSectionId=105\" class=\"nclicks(rig.ranksci)\" title=\"(16)‘코 성형’ 선구적 의사는 왜 이단자로 몰렸나 [서양고전학자 김동훈의 물질인문학]\">(16)‘코 성형’ 선구적 의사는 왜 이단자로 몰렸나 [서양고전학자 김동훈의 물질인문학]</a> </li> \\n   <li><span class=\"rank num8\"><em>8</em></span> <a href=\"/main/ranking/read.nhn?mid=etc&amp;sid1=111&amp;rankingType=popular_day&amp;oid=277&amp;aid=0004586674&amp;date=20191210&amp;type=1&amp;rankingSeq=8&amp;rankingSectionId=105\" class=\"nclicks(rig.ranksci)\" title=\"타다 달리려면 1200억 필요한데…이재웅 &quot;문 닫을 수도&quot;\">타다 달리려면 1200억 필요한데…이재웅 &quot;문 닫을 수도&quot;</a> </li> \\n   <li><span class=\"rank num9\"><em>9</em></span> <a href=\"/main/ranking/read.nhn?mid=etc&amp;sid1=111&amp;rankingType=popular_day&amp;oid=020&amp;aid=0003257763&amp;date=20191209&amp;type=1&amp;rankingSeq=9&amp;rankingSectionId=105\" class=\"nclicks(rig.ranksci)\" title=\"5G로 바꾸니 사라진 혜택들, 이렇게 많아?\">5G로 바꾸니 사라진 혜택들, 이렇게 많아?</a> </li> \\n   <li><span class=\"rank num10\"><em>10</em></span> <a href=\"/main/ranking/read.nhn?mid=etc&amp;sid1=111&amp;rankingType=popular_day&amp;oid=629&amp;aid=0000006163&amp;date=20191210&amp;type=1&amp;rankingSeq=10&amp;rankingSectionId=105\" class=\"nclicks(rig.ranksci)\" title=\"이재웅 &quot;혁신은 국민이 판단…타다금지법 통과되면 문 닫을 것&quot;\">이재웅 &quot;혁신은 국민이 판단…타다금지법 통과되면 문 닫을 것&quot;</a> </li> \\n  </ul> \\n  <a href=\"/main/ranking/popularDay.nhn\" class=\"more_link\"><span class=\"blind\">가장 많이 본 뉴스</span>더보기</a> \\n </div> \\n</div> \\n<div class=\"da\" id=\"doubleDA\"></div> \\n<script type=\"text/javascript\">\\nvar ranking_selectedSectionId = \\'\\';\\nvar ranking_listAllSection = jindo.$A([\\'100\\', \\'101\\', \\'102\\', \\'103\\', \\'104\\', \\'105\\']);\\nfunction ranking_select_tab(sectionId) {\\njindo.$(\\'right.ranking_tab_\\' + sectionId).innerHTML = \"<strong>\" + ranking_select_section_name(sectionId) + \"</strong>\";\\njindo.$Element(\\'right.ranking_tab_\\' + sectionId).addClass(\\'is_click\\').attr(\\'aria-selected\\', true);\\nif (ranking_selectedSectionId) {\\njindo.$(\\'right.ranking_tab_\\' + ranking_selectedSectionId).innerHTML = ranking_select_section_name(ranking_selectedSectionId);\\njindo.$Element(\\'right.ranking_tab_\\' + ranking_selectedSectionId).removeClass(\\'is_click\\').attr(\\'aria-selected\\', false);\\n}\\nif (ranking_selectedSectionId == sectionId) {\\njindo.$(\\'right.ranking_tab_\\' + sectionId).innerHTML = \"<strong>\" + ranking_select_section_name(sectionId) + \"</strong>\";\\njindo.$Element(\\'right.ranking_tab_\\' + ranking_selectedSectionId).addClass(\\'is_click\\').attr(\\'aria-selected\\', true);\\n}\\nranking_selectedSectionId = sectionId;\\n}\\nfunction ranking_select_section(sectionId) {\\nif (!ranking_listAllSection.has(sectionId)) {\\nsectionId = \\'100\\';\\n}\\njindo.$(\\'right.ranking_contents\\').innerHTML = jindo.$(\\'ranking_\\' + sectionId).innerHTML;\\nranking_select_tab(sectionId);\\n}\\nfunction ranking_select_section_name(sectionId) {\\nvar selectSectionName = \"정치\";\\nswitch (sectionId) {\\ncase \\'100\\' : selectSectionName = \"정치\"; break;\\ncase \\'101\\' : selectSectionName = \"경제\"; break;\\ncase \\'102\\' : selectSectionName = \"사회\"; break;\\ncase \\'103\\' : selectSectionName = \"생활/문화\"; break;\\ncase \\'104\\' : selectSectionName = \"세계\"; break;\\ncase \\'105\\' : selectSectionName = \"IT/과학\"; break;\\ndefault : selectSectionName = \"정치\";\\n}\\nreturn selectSectionName;\\n}\\nfunction ranking_tab_handler(event) {\\nvar sectionId = jindo.$Event(event).element.id.replace(\\'right\\\\.ranking_tab_\\', \\'\\');\\nif (sectionId) {\\nranking_select_section(sectionId);\\n}\\n}\\nranking_listAllSection.forEach(function (v, i, o) {\\njindo.$Fn(ranking_tab_handler, window).attach(jindo.$Element(jindo.$(\\'right.ranking_tab_\\' + v)), \\'mouseover\\');\\n});\\nranking_select_section(\\'105\\');\\n</script> \\n<div class=\"section\" style=\"margin-bottom:20px; white-space:nowrap;\" id=\"right_dailyList\"> \\n <h4>분야별 주요뉴스</h4> \\n <div class=\"classfy sd\" style=\"display:block\"> \\n  <ul class=\"list_txt\"> \\n   <li> <a href=\"https://news.naver.com/main/read.nhn?mode=LSD&amp;mid=shm&amp;sid1=100&amp;oid=005&amp;aid=0001267120\" class=\"nclicks(rig.secteco)\" title=\"추도사 중 목멘 문 대통령… 어린 유족 앞에 무릎꿇고 위로\">추도사 중 목멘 문 대통령… 어린 유족 앞에 무릎꿇고 위로</a> </li> \\n   <li> <a href=\"https://news.naver.com/main/read.nhn?mode=LSD&amp;mid=shm&amp;sid1=100&amp;oid=047&amp;aid=0002249394\" class=\"nclicks(rig.secteco)\" title=\"민식이법&middot;하준이법 드디어 처리됐다\">민식이법&middot;하준이법 드디어 처리됐다</a> </li> \\n   <li> <a href=\"https://news.naver.com/main/read.nhn?mode=LSD&amp;mid=shm&amp;sid1=100&amp;oid=001&amp;aid=0011266429\" class=\"nclicks(rig.secteco)\" title=\"故김민식군 부모 눈물 속 \\'민식이법\\' 통과…&quot;다치는 아이 없길&quot;\">故김민식군 부모 눈물 속 \\'민식이법\\' 통과…&quot;다치는 아이 없길&quot;</a> </li> \\n   <li> <a href=\"https://news.naver.com/main/read.nhn?mode=LSD&amp;mid=shm&amp;sid1=104&amp;oid=023&amp;aid=0003492472\" class=\"nclicks(rig.secteco)\" title=\"美, 안보리 긴급소집… 北 ICBM 경고 나선다\">美, 안보리 긴급소집… 北 ICBM 경고 나선다</a> </li> \\n   <li> <a href=\"https://news.naver.com/main/read.nhn?mode=LSD&amp;mid=shm&amp;sid1=104&amp;oid=015&amp;aid=0004254933\" class=\"nclicks(rig.secteco)\" title=\"뉴질랜드 화이트 섬 화산 폭발…&quot;실종자 모두 사망 추정&quot;\">뉴질랜드 화이트 섬 화산 폭발…&quot;실종자 모두 사망 추정&quot;</a> </li> \\n  </ul> \\n  <ul class=\"list_txt\"> \\n   <ul class=\"list_txt\"> \\n    <li> <a href=\"https://news.naver.com/main/read.nhn?mode=LSD&amp;mid=shm&amp;sid1=101&amp;oid=001&amp;aid=0011266588\" class=\"nclicks(rig.secteco)\" title=\"&quot;가족이자 큰 스승&quot;…김우중 빈소에 속속 총집결 대우맨들\">&quot;가족이자 큰 스승&quot;…김우중 빈소에 속속 총집결 대우맨들</a> </li> \\n    <li> <a href=\"https://news.naver.com/main/read.nhn?mode=LSD&amp;mid=shm&amp;sid1=101&amp;oid=020&amp;aid=0003257940\" class=\"nclicks(rig.secteco)\" title=\"이재웅 “타다, 택시하라고? 야구 지망생에 축구하라는 격”\">이재웅 “타다, 택시하라고? 야구 지망생에 축구하라는 격”</a> </li> \\n    <li> <a href=\"https://news.naver.com/main/read.nhn?mode=LSD&amp;mid=shm&amp;sid1=101&amp;oid=025&amp;aid=0002959221\" class=\"nclicks(rig.secteco)\" title=\"\\'배 가른 돼지\\' 돈 셀 일 없다, 10만원 되면 출금 \\'카뱅 저금통\\'\">\\'배 가른 돼지\\' 돈 셀 일 없다, 10만원 되면 출금 \\'카뱅 저금통\\'</a> </li> \\n    <li> <a href=\"https://news.naver.com/main/read.nhn?mode=LSD&amp;mid=shm&amp;sid1=105&amp;oid=014&amp;aid=0004340637\" class=\"nclicks(rig.secteco)\" title=\"이산화탄소로 휘발유 만든다\">이산화탄소로 휘발유 만든다</a> </li> \\n    <li> <a href=\"https://news.naver.com/main/read.nhn?mode=LSD&amp;mid=shm&amp;sid1=105&amp;oid=001&amp;aid=0011266331\" class=\"nclicks(rig.secteco)\" title=\"&quot;폐암 일으키는 유전자 분해&quot; RNA 나노입자 개발\">&quot;폐암 일으키는 유전자 분해&quot; RNA 나노입자 개발</a> </li> \\n   </ul> \\n   <ul class=\"list_txt\"> \\n    <ul class=\"list_txt\"> \\n     <li> <a href=\"https://news.naver.com/main/read.nhn?mode=LSD&amp;mid=shm&amp;sid1=102&amp;oid=032&amp;aid=0002979766\" class=\"nclicks(rig.secteco)\" title=\"‘표창장 위조 사건’ 재판부, 공소장 변경 불허…정경심 측 “비정상적 검찰권 행사해 서둘러 기소한 탓”\">‘표창장 위조 사건’ 재판부, 공소장 변경 불허…정경심 측 “비정상적 검찰권 행사해 서둘러 기소한 탓”</a> </li> \\n     <li> <a href=\"https://news.naver.com/main/read.nhn?mode=LSD&amp;mid=shm&amp;sid1=102&amp;oid=421&amp;aid=0004350113\" class=\"nclicks(rig.secteco)\" title=\"순천&middot;나주&middot;고흥&middot;장흥&middot;진도, 청렴도 최하위 \\'불명예\\'…반응은\">순천&middot;나주&middot;고흥&middot;장흥&middot;진도, 청렴도 최하위 \\'불명예\\'…반응은</a> </li> \\n     <li> <a href=\"https://news.naver.com/main/read.nhn?mode=LSD&amp;mid=shm&amp;sid1=102&amp;oid=052&amp;aid=0001375223\" class=\"nclicks(rig.secteco)\" title=\"[날씨] 수도권 초미세먼지주의보...9개월 만에 비상저감조치\">[날씨] 수도권 초미세먼지주의보...9개월 만에 비상저감조치</a> </li> \\n     <li> <a href=\"https://news.naver.com/main/read.nhn?mode=LSD&amp;mid=shm&amp;sid1=103&amp;oid=056&amp;aid=0010771919\" class=\"nclicks(rig.secteco)\" title=\"내일까지 고농도 미세먼지…중부 오늘 밤부터 비\">내일까지 고농도 미세먼지…중부 오늘 밤부터 비</a> </li> \\n     <li> <a href=\"https://news.naver.com/main/read.nhn?mode=LSD&amp;mid=shm&amp;sid1=103&amp;oid=079&amp;aid=0003300273\" class=\"nclicks(rig.secteco)\" title=\"\\'누르하치 칼\\'과 \\'황룡포\\' 유물로 보는 청 황실\">\\'누르하치 칼\\'과 \\'황룡포\\' 유물로 보는 청 황실</a> </li> \\n    </ul> \\n   </ul>\\n  </ul>\\n </div> \\n</div> \\n<div class=\"section\"> \\n <div class=\"banner\"> \\n  <a href=\"https://media.naver.com/channel/setting.nhn?back=main\" class=\"nclicks(rig.banner)\" target=\"_blank\"> <img src=\"https://imgnews.pstatic.net/image/upload/item/2018/11/27/175236270_PC_%25BF%25EC%25C3%25F8%25B9%25E8%25B3%25CA_%25B1%25B8%25B5%25B6%25C8%25B0%25BC%25BA%25C8%25AD.png\" width=\"300\" alt=\"네이버 메인에서 바로 보는 언론사 편집뉴스 지금 바로 구독해보세요!\" /> </a> \\n </div> \\n</div> \\n<div class=\"section\"> \\n <div class=\"banner\"> \\n  <a href=\"https://news.naver.com/main/ombudsman/guidecenter.nhn?mid=omb\" class=\"nclicks(rig.banner)\" target=\"_blank\"> <img src=\"https://imgnews.pstatic.net/image/upload/item/2018/08/29/183426027_%25BD%25C5%25B0%25ED%25B9%25E8%25B3%25CA.png\" width=\"300\" alt=\"뉴스 기사와 댓글로 인한 문제 발생 시 24시간 센터로 접수해주세요\" /> </a> \\n </div> \\n</div> \\n<div class=\"section hottopic\" id=\"newstopic_container\"> \\n <h4>뉴스토픽</h4> \\n <div class=\"category\" role=\"tablist\" id=\"newstopic_tab\"> \\n  <a href=\"#\" onclick=\"return false;\" class=\"is_click\" role=\"tab\" aria-selected=\"true\" data-tab=\"news\">뉴스</a> \\n  <a href=\"#\" onclick=\"return false;\" role=\"tab\" aria-selected=\"false\" data-tab=\"entertain\">연예/스포츠</a> \\n </div> \\n <ol class=\"newstopic_list\" id=\"newstopic_news\"> \\n  <li><a href=\"https://search.naver.com/search.naver?where=nexearch&amp;query=%EC%98%88%EC%82%B0%EC%95%88+%ED%95%A9%EC%9D%98+%EB%B6%88%EB%B0%9C&amp;ie=utf8&amp;sm=nws_htk.nws\" class=\"nclicks(rig.newstopic)\" target=\"_blank\" title=\"예산안 합의 불발\"><span class=\"rank num1\"><em>1</em></span> <strong class=\"title\">예산안 합의 불발</strong> <span class=\"newstopic_ico_new\"><i>NEW</i></span></a></li> \\n  <li><a href=\"https://search.naver.com/search.naver?where=nexearch&amp;query=3%EB%8B%B9+%EA%B0%84%EC%82%AC%ED%98%91%EC%9D%98%EC%B2%B4&amp;ie=utf8&amp;sm=nws_htk.nws\" class=\"nclicks(rig.newstopic)\" target=\"_blank\" title=\"3당 간사협의체\"><span class=\"rank num2\"><em>2</em></span> <strong class=\"title\">3당 간사협의체</strong> <span class=\"newstopic_ico_new\"><i>NEW</i></span></a></li> \\n  <li><a href=\"https://search.naver.com/search.naver?where=nexearch&amp;query=%EA%B9%80%EC%9A%B0%EC%A4%91+%EC%A0%84+%ED%9A%8C%EC%9E%A5&amp;ie=utf8&amp;sm=nws_htk.nws\" class=\"nclicks(rig.newstopic)\" target=\"_blank\" title=\"김우중 전 회장\"><span class=\"rank num3\"><em>3</em></span> <strong class=\"title\">김우중 전 회장</strong></a></li> \\n  <li><a href=\"https://search.naver.com/search.naver?where=nexearch&amp;query=%EB%B3%B8%ED%9A%8C%EC%9D%98+%EC%B0%A8%EC%A7%88&amp;ie=utf8&amp;sm=nws_htk.nws\" class=\"nclicks(rig.newstopic)\" target=\"_blank\" title=\"본회의 차질\"><span class=\"rank num4\"><em>4</em></span> <strong class=\"title\">본회의 차질</strong> <span class=\"newstopic_ico_new\"><i>NEW</i></span></a></li> \\n  <li><a href=\"https://search.naver.com/search.naver?where=nexearch&amp;query=%EB%AF%B8%EC%84%B8%EB%A8%BC%EC%A7%80+%EB%B9%84%EC%83%81%EC%A0%80%EA%B0%90%EC%A1%B0%EC%B9%98&amp;ie=utf8&amp;sm=nws_htk.nws\" class=\"nclicks(rig.newstopic)\" target=\"_blank\" title=\"미세먼지 비상저감조치\"><span class=\"rank num5\"><em>5</em></span> <strong class=\"title\">미세먼지 비상저감조치</strong></a></li> \\n  <li><a href=\"https://search.naver.com/search.naver?where=nexearch&amp;query=%EA%B5%AD%ED%9A%8C+%EB%B3%B8%ED%9A%8C%EC%9D%98+%EA%B0%9C%EC%9D%98&amp;ie=utf8&amp;sm=nws_htk.nws\" class=\"nclicks(rig.newstopic)\" target=\"_blank\" title=\"국회 본회의 개의\"><span class=\"rank num6\"><em>6</em></span> <strong class=\"title\">국회 본회의 개의</strong> <span class=\"newstopic_ico_new\"><i>NEW</i></span></a></li> \\n  <li><a href=\"https://search.naver.com/search.naver?where=nexearch&amp;query=%EB%B0%9C%EC%96%B8%ED%95%98%EB%8A%94+%EC%9D%B4%EC%9D%B8%EC%98%81&amp;ie=utf8&amp;sm=nws_htk.nws\" class=\"nclicks(rig.newstopic)\" target=\"_blank\" title=\"발언하는 이인영\"><span class=\"rank num7\"><em>7</em></span> <strong class=\"title\">발언하는 이인영</strong> <span class=\"newstopic_ico_new\"><i>NEW</i></span></a></li> \\n  <li><a href=\"https://search.naver.com/search.naver?where=nexearch&amp;query=%EB%AF%BC%EC%8B%9D%EC%9D%B4%EB%B2%95+%EA%B5%AD%ED%9A%8C+%EB%B3%B8%ED%9A%8C%EC%9D%98+%ED%86%B5%EA%B3%BC&amp;ie=utf8&amp;sm=nws_htk.nws\" class=\"nclicks(rig.newstopic)\" target=\"_blank\" title=\"민식이법 국회 본회의 통과\"><span class=\"rank num8\"><em>8</em></span> <strong class=\"title\">민식이법 국회 본회의 통과</strong> <span class=\"newstopic_ico_new\"><i>NEW</i></span></a></li> \\n  <li><a href=\"https://search.naver.com/search.naver?where=nexearch&amp;query=%ED%83%80%EB%8B%A4+%EA%B8%88%EC%A7%80%EB%B2%95&amp;ie=utf8&amp;sm=nws_htk.nws\" class=\"nclicks(rig.newstopic)\" target=\"_blank\" title=\"타다 금지법\"><span class=\"rank num9\"><em>9</em></span> <strong class=\"title\">타다 금지법</strong></a></li> \\n  <li><a href=\"https://search.naver.com/search.naver?where=nexearch&amp;query=%EC%97%AC%EC%95%BC+3%EB%8B%B9+%EA%B0%84%EC%82%AC&amp;ie=utf8&amp;sm=nws_htk.nws\" class=\"nclicks(rig.newstopic)\" target=\"_blank\" title=\"여야 3당 간사\"><span class=\"rank num10\"><em>10</em></span> <strong class=\"title\">여야 3당 간사</strong> <span class=\"newstopic_ico_new\"><i>NEW</i></span></a></li> \\n </ol> \\n <ol class=\"newstopic_list\" id=\"newstopic_entertain\" style=\"display: none;\"> \\n  <li><a href=\"https://search.naver.com/search.naver?where=nexearch&amp;query=%EC%B2%AB+%EA%B2%A8%EC%9A%B8%EC%9D%B4%EB%8B%88%EA%B9%8C&amp;ie=utf8&amp;sm=nws_htk.ent\" class=\"nclicks(rig.entopic)\" target=\"_blank\" title=\"첫 겨울이니까\"><span class=\"rank num1\"><em>1</em></span> <strong class=\"title\">첫 겨울이니까</strong></a></li> \\n  <li><a href=\"https://search.naver.com/search.naver?where=nexearch&amp;query=%EC%95%84%EC%B9%A8%EB%A7%88%EB%8B%B9+%EC%9D%B4%EB%AF%B8%EC%9E%90&amp;ie=utf8&amp;sm=nws_htk.ent\" class=\"nclicks(rig.entopic)\" target=\"_blank\" title=\"아침마당 이미자\"><span class=\"rank num2\"><em>2</em></span> <strong class=\"title\">아침마당 이미자</strong> <span class=\"newstopic_ico_new\"><i>NEW</i></span></a></li> \\n  <li><a href=\"https://search.naver.com/search.naver?where=nexearch&amp;query=%EB%8D%B0%EB%B7%94+60%EC%A3%BC%EB%85%84&amp;ie=utf8&amp;sm=nws_htk.ent\" class=\"nclicks(rig.entopic)\" target=\"_blank\" title=\"데뷔 60주년\"><span class=\"rank num3\"><em>3</em></span> <strong class=\"title\">데뷔 60주년</strong> <span class=\"newstopic_ico_new\"><i>NEW</i></span></a></li> \\n  <li><a href=\"https://search.naver.com/search.naver?where=nexearch&amp;query=%EC%9D%BC%EC%A0%95+%ED%99%95%EC%A0%95+%ED%9B%84+%EA%B3%B5%EA%B0%9C&amp;ie=utf8&amp;sm=nws_htk.ent\" class=\"nclicks(rig.entopic)\" target=\"_blank\" title=\"일정 확정 후 공개\"><span class=\"rank num4\"><em>4</em></span> <strong class=\"title\">일정 확정 후 공개</strong> <span class=\"newstopic_ico_new\"><i>NEW</i></span></a></li> \\n  <li><a href=\"https://search.naver.com/search.naver?where=nexearch&amp;query=%EC%95%84%EC%9D%B4%EC%BD%98%ED%83%9D%ED%8A%B8+%EB%B0%B1%EC%84%B8%EB%A6%AC&amp;ie=utf8&amp;sm=nws_htk.ent\" class=\"nclicks(rig.entopic)\" target=\"_blank\" title=\"아이콘택트 백세리\"><span class=\"rank num5\"><em>5</em></span> <strong class=\"title\">아이콘택트 백세리</strong></a></li> \\n  <li><a href=\"https://search.naver.com/search.naver?where=nexearch&amp;query=%EB%B0%95%ED%95%B4%EC%A7%84+9%EB%85%84%EC%A7%B8+%EC%97%B0%ED%83%84%EB%B4%89%EC%82%AC&amp;ie=utf8&amp;sm=nws_htk.ent\" class=\"nclicks(rig.entopic)\" target=\"_blank\" title=\"박해진 9년째 연탄봉사\"><span class=\"rank num6\"><em>6</em></span> <strong class=\"title\">박해진 9년째 연탄봉사</strong> <span class=\"newstopic_ico_new\"><i>NEW</i></span></a></li> \\n  <li><a href=\"https://search.naver.com/search.naver?where=nexearch&amp;query=%EC%B2%A0%ED%8C%8C%EC%97%A0+%EA%B9%80%EC%84%9D%ED%9B%88&amp;ie=utf8&amp;sm=nws_htk.ent\" class=\"nclicks(rig.entopic)\" target=\"_blank\" title=\"철파엠 김석훈\"><span class=\"rank num7\"><em>7</em></span> <strong class=\"title\">철파엠 김석훈</strong> <span class=\"newstopic_ico_new\"><i>NEW</i></span></a></li> \\n  <li><a href=\"https://search.naver.com/search.naver?where=nexearch&amp;query=%ED%8B%B0%ED%8C%8C%EB%8B%88%EC%9D%98+%ED%99%80%EB%A1%9C%EC%84%9C%EA%B8%B0&amp;ie=utf8&amp;sm=nws_htk.ent\" class=\"nclicks(rig.entopic)\" target=\"_blank\" title=\"티파니의 홀로서기\"><span class=\"rank num8\"><em>8</em></span> <strong class=\"title\">티파니의 홀로서기</strong> <span class=\"newstopic_ico_new\"><i>NEW</i></span></a></li> \\n  <li><a href=\"https://search.naver.com/search.naver?where=nexearch&amp;query=%EC%9A%B0%EB%8B%A4%EC%82%AC+%EB%B0%95%EC%98%81%EC%84%A0&amp;ie=utf8&amp;sm=nws_htk.ent\" class=\"nclicks(rig.entopic)\" target=\"_blank\" title=\"우다사 박영선\"><span class=\"rank num9\"><em>9</em></span> <strong class=\"title\">우다사 박영선</strong> <span class=\"newstopic_ico_new\"><i>NEW</i></span></a></li> \\n  <li><a href=\"https://search.naver.com/search.naver?where=nexearch&amp;query=%EB%AC%B8%EA%B0%80%EC%98%81+%EA%B7%B8+%EB%82%A8%EC%9E%90%EC%9D%98+%EA%B8%B0%EC%96%B5%EB%B2%95&amp;ie=utf8&amp;sm=nws_htk.ent\" class=\"nclicks(rig.entopic)\" target=\"_blank\" title=\"문가영 그 남자의 기억법\"><span class=\"rank num10\"><em>10</em></span> <strong class=\"title\">문가영 그 남자의 기억법</strong> <span class=\"newstopic_ico_new\"><i>NEW</i></span></a></li> \\n </ol> \\n <p> <span class=\"newstopic_error_text\">추출이 일시적으로 늦어져 최신 정보를 제공할 수 없습니다.</span> <a class=\"newstopic_help\" href=\"#\" title=\"새창\" target=\"_blank\" onclick=\"news.external.OPS.helpHotTopicKeyword(); return false;\"><span class=\"newstopic_time\">2019.12.10. 08:30 ~ 11:30 기준</span></a> </p> \\n</div> \\n<script type=\"text/javascript\">\\nvar newsTopicInfo = {\\nwelContainer : null,\\nwelTabContainer : null,\\nwelTabList : null,\\nwelTopicList : null,\\ninitialize : function() {\\nthis.setCache();\\nthis.setEvent();\\n},\\nsetCache : function() {\\nthis.welContainer = jindo.$Element(\\'newstopic_container\\');\\nthis.welTabContainer = jindo.$Element(\\'newstopic_tab\\');\\nthis.welTabList = jindo.$ElementList(this.welTabContainer.queryAll(\\'a\\'));\\nthis.welTopicList = jindo.$ElementList(this.welContainer.queryAll(\\'ol\\'));\\n},\\nsetEvent : function() {\\nthis.welTabContainer.delegate(\\'mouseover\\', \\'a\\', jindo.$Fn(this.onTabMouseOver, this).bind());\\nthis.welTabContainer.delegate(\\'click\\', \\'a\\', jindo.$Fn(this.onTabClick, this).bind());\\n},\\nonTabClick : function(e){\\ne.stopDefault();\\n},\\nonTabMouseOver : function(e) {\\nthis.welTabList.removeClass(\\'is_click\\').attr(\\'aria-selected\\', false);\\nvar tabName = jindo.$Element(e.element).addClass(\\'is_click\\').attr(\\'aria-selected\\', true).attr(\\'data-tab\\');\\nthis.welTopicList.hide();\\njindo.$Element(\\'newstopic_\\' + tabName).show();\\n}\\n};\\nnewsTopicInfo.initialize();\\n</script>\\r\\n            \\r\\n            \\r\\n\\r\\n            \\r\\n            <div class=\"da\" id=\"rightDoubleDA\" style=\"display: none\"></div>\\r\\n            <script type=\"text/javascript\">\\r\\n                try{\\r\\n                    jindo.$(\"doubleDA\").innerHTML = \\'<div id=\"daEtc_300250\" name=\"daEtc_300250\" style=\"width: 300px; height: 250px;\"><iframe id=\"etc300250\" name=\"etc300250\" src=\"https://veta.naver.com/fxshow?su=SU10306&sid1=105&calp=shome\" width=\"300\" height=\"250\" marginheight=\"0\" marginwidth=\"0\" border=\"0\" frameborder=\"0\" scrolling=\"no\" align=\"center\" title=\"우측_기타영역_더블플레이광고\" data-veta-preview=\"news_home_02\"></iframe></div>\\';\\r\\n                }catch(e){}\\r\\n            </script>\\r\\n        \\r\\n        \\r\\n        <div class=\"rightBottomDouble\" style=\"margin-top:36px;\"><div id=\"doubleE300250\" name=\"doubleE300250\" data-dom-type=\"doubleplay_bottom\" title=\"더블플레이하단광고\"></div></div>\\r\\n    \\r\\n\\r\\n\\r\\n\\r\\n\\r\\n    <div class=\"da\" style=\"display: none\"></div>\\r\\n\\r\\n    <script type=\"text/javascript\">\\r\\n        try {\\r\\n            jindo.$(\"doubleDA\").innerHTML = \\'<div id=\"daArticle_300250\" name=\"daArticle_300250\" style=\"width: 300px; height: 250px;\"><iframe id=\"art300250\" name=\"art300250\" src=\"https://veta.naver.com/fxshow?su=SU10306&sid1=105&sid2=230&oid=029\" width=\"300\" height=\"250\" marginheight=\"0\" marginwidth=\"0\" border=\"0\" frameborder=\"0\" scrolling=\"no\" align=\"center\" title=\"우측_기사엔드_더블플레이광고\" data-veta-preview=\"news_home_02\"></iframe></div>\\';\\r\\n        }catch(e){}\\r\\n    </script>\\r\\n\\r\\n\\t\\t\\t\\t</div>\\r\\n\\t\\t\\t</td>\\r\\n\\t\\t</tr>\\r\\n\\t</table>\\r\\n\\t\\r\\n\\t\\r\\n\\r\\n<div id=\"lyr_dimmed\" class=\"lyr_dimmed lyr_sc_alert\" style=\"margin-top:-268px\">\\r\\n\\t<h5 class=\"blind\">욕설 댓글 리마인드 팝업</h5>\\r\\n\\t<div class=\"lyr_dimmed_topdeco\"></div>\\r\\n\\t<div class=\"lyr_dimmed_content\">\\r\\n\\t\\t<img>\\r\\n\\t\\t<div class=\"lyr_sc_btmtext\">\\r\\n\\t\\t\\t<p class=\"blind\">상처 없는 댓글 세상 만들기에 많은 참여 부탁드립니다.</p>\\r\\n\\t\\t</div>\\r\\n\\t\\t<a href=\"#\" class=\"btn_dimmed_confirm\" onclick=\"commentLayer.hideCommentLayer(event);return false;\"><span class=\"blind\">확인</span></a>\\r\\n\\t</div>\\r\\n\\t<div class=\"lyr_dimmed_btmdeco\"></div>\\r\\n</div>\\t\\r\\n\\r\\n<script type=\"text/javascript\">\\r\\nvar commentLayer = {\\r\\n\\tinit : function () {\\r\\n\\t\\tthis._oFoggy = new jindo.Foggy();\\r\\n\\t\\tthis._welLayer = jindo.$Element(\"lyr_dimmed\");\\r\\n\\t\\t\\r\\n\\t\\tvar oImg = this._welLayer.query(\"img\");\\r\\n\\t\\tvar nIndex = Math.floor(Math.random() * 5);\\r\\n\\t\\tvar aImageInfo = [{width:419,height:248,alt:\"도산 안창호. 남의 결점을 지적하더라도 결코 듣기 싫은 말로 하지말고 사랑으로써 할 것이외다\"}, \\r\\n\\t\\t                  {width:470,height:208,alt:\"모로코 속담. 말이 입힌 상처는 칼이 입힌 상처보다 깊다\"}, \\r\\n\\t\\t                  {width:453,height:208,alt:\"댓글에 상처받는 이는 바로 우리의 이웃입니다\"}, \\r\\n\\t\\t                  {width:481,height:208,alt:\"댓글 안에 당신의 성숙함도 함께 담아주세요\"}, \\r\\n\\t\\t                  {width:406,height:208,alt:\"당신의 댓글, 소리내어 읽어보셨나요?\"}];\\r\\n\\t\\tvar welImg = jindo.$Element(oImg);\\r\\n\\t\\twelImg.attr(\\'src\\', \\'https://ssl.pstatic.net/static.news/image/news/2015/02/lyr_sc_text\\' + (nIndex+1) + \\'.gif\\');\\r\\n\\t\\twelImg.attr(\\'width\\', aImageInfo[nIndex].width);\\r\\n\\t\\twelImg.attr(\\'height\\', aImageInfo[nIndex].height);\\r\\n\\t\\twelImg.attr(\\'alt\\', aImageInfo[nIndex].alt);\\r\\n\\t\\treturn this;\\r\\n\\t},\\r\\n\\tshowCommentLayer : function (sNclkHead) {\\r\\n\\t\\tthis._sNclkHead = sNclkHead;\\r\\n\\t\\tthis._welLayer.show();\\r\\n\\t\\tthis._oFoggy.show();\\r\\n\\t},\\r\\n\\thideCommentLayer : function (event) {\\r\\n\\t\\tthis._welLayer.hide();\\r\\n\\t\\tthis._oFoggy.hide();\\r\\n\\t\\tvar tempNsc = nsc;\\r\\n\\t\\tnsc = \"news.reply\";\\r\\n        nclk(event, this._sNclkHead + \\'.camp\\',\\'\\',\\'\\');\\r\\n\\t\\tnsc = tempNsc;\\r\\n\\t}\\r\\n}.init();\\r\\n</script>\\r\\n\\t<hr>\\r\\n<div class=\"index\">\\r\\n\\t\\r\\n\\t\\n\\n<div class=\"index_inner\">\\n\\n\\t<div class=\"floating_btn\" >\\n\\t\\t<div class=\"floating_inner\">\\n\\t\\t\\t<a href=\"javascript:history.back();\" class=\"floating_btn_back\"><span class=\"blind\">이젠 페이지</span></a>\\n\\t\\t\\t<a href=\"#\" onclick=\"window.scrollTo(0,0);oWebAccessibilityUtil.moveFocus(document.getElementById(\\'da_base\\'));return false;\" class=\"floating_btn_top\"><span class=\"blind\">맨위로</span></a>\\n\\t\\t</div>\\n\\t</div>\\n\\t<div id=\"index.press_category\" class=\"index_tab\">\\n\\t\\t<a id=\"index.press.btn\" href=\"#\" class=\"spr stit nclicks(fot.press)\">언론사 목록<span class=\"_stit_tab_arrow stit_arrow\"><span class=\"blind\">열기</span></span><span class=\"loading\" style=\"display:none;\">로딩 중</span></a>\\n\\t\\t<div id=\"index.press.area\" class=\"index_content is_hidden\"></div>\\n\\t\\t<a id=\"index.category.btn\" href=\"#\" class=\"spr stit2 nclicks(fot.section)\">분야별 목록<span class=\"_stit_tab_arrow stit_arrow\"><span class=\"blind\">열기</span></span><span class=\"loading\" style=\"display:none;\">로딩 중</span></a>\\n\\t\\t<div id=\"index.category.area\" class=\"index_content02 is_hidden\"></div>\\n\\t</div>\\n\\t<div class=\"index_myscrap\">\\n\\t\\t<a href=\"/main/scrap/index.nhn\" class=\"spr nclicks(fot.scrap)\">마이스크랩</a>\\n\\t</div>\\n</div>\\n\\n\\r\\n</div>\\r\\n<hr>\\r\\n<div id=\"footer\">\\r\\n\\t\\r\\n<ul>\\r\\n<li class=\"first\"><a href=\"http://www.naver.com/rules/service.html\" class=\"nclicks(fot.agreement)\">이용약관</a></li>\\r\\n<li><a href=\"/main/ombudsman/index.nhn\" class=\"nclicks(fot.guide)\">서비스 안내</a></li>\\r\\n<li><a href=\"/main/ombudsman/edit.nhn?mid=omb\" class=\"nclicks(fot.editor)\">기사배열 원칙 책임자 : 유봉석</a></li>\\r\\n<li>청소년 보호 책임자 : 정연아</li>\\r\\n<li><strong><a href=\"http://www.naver.com/rules/privacy.html\" class=\"nclicks(fot.privacy)\">개인정보처리방침</a></strong></li>\\r\\n<li><a href=\"http://www.naver.com/rules/disclaimer.html\" class=\"nclicks(fot.disclaimer)\">책임의 한계와 법적고지</a></li>\\r\\n<li><a href=\"#\" title=\"새창\" onclick=\"news.external.OPS.helpNews(); return false;\" class=\"nclicks(fot.help)\">뉴스 고객센터</a></li>\\r\\n</ul>\\r\\n\\t<p class=\"copyright\">본 콘텐츠의 저작권은 제공처 또는 네이버에 있으며 이를 무단 이용하는 경우 저작권법 등에 따라 법적책임을 질 수 있습니다.</p>\\r\\n\\r\\n\\t<address class=\"address_cp nclicks(fot.presscr)\">Copyright ⓒ <a href=http://www.dt.co.kr/ target=blank>디지털타임스</a> All Rights Reserved.</address>\\r\\n\\r\\n\\r\\n\\t<address class=\"address_nhn\">\\r\\n\\t<a href=\"https://www.navercorp.com/\" target=\"_blank\" class=\"logo nclicks(fot.naver)\"><span class=\"blind\">NAVER</span></a>\\r\\n\\t<em>Copyright &copy;</em>\\r\\n\\t<a href=\"https://www.navercorp.com/\" target=\"_blank\" class=\"nclicks(fot.navercorp)\">NAVER Corp.</a>\\r\\n\\t<span>All Rights Reserved.</span>\\r\\n</address>\\r\\n\\t<!-- -->\\r\\n\\r\\n\\r\\n</div>\\r\\n<script type=\"text/javascript\">\\r\\n\\r\\n\\r\\n\\r\\nnew news.lnb.NewsSearchController(\\'lnb.searchForm\\');\\r\\n\\r\\n\\r\\n\\r\\n//var lnb_weatherRolling = new news.lnb.LineRolling(\\'lnb.weather\\',{size:26,moveSize:3,moveInterval:30});\\r\\nvar lnb_mainnewsRolling = new news.lnb.LineRolling(\\'lnb.mainnews\\',{size:17,moveSize:2,moveInterval:30,isRandomStart:true});\\r\\nvar lnb_Rolling = new news.lnb.SynchronizedRolling({interval:3000});\\r\\n//lnb_Rolling.push(lnb_weatherRolling);\\r\\nlnb_Rolling.push(lnb_mainnewsRolling);\\r\\nlnb_Rolling.start();\\r\\n\\r\\n\\r\\nvar index_tab = new news.index.TabController(\\'index.press_category\\');\\r\\nindex_tab.add(new news.index.Tab(\\'index.press.btn\\',\\'stit\\',\\'index.press.area\\',\\'/main/ajax/bottomIndex/press.nhn\\'));\\r\\nindex_tab.add(new news.index.Tab(\\'index.category.btn\\',\\'stit2\\',\\'index.category.area\\',\\'/main/ajax/bottomIndex/category.nhn\\'));\\r\\njindo.$Fn(index_tab.toggle, index_tab).attach(index_tab.tabs.keys(), \\'click\\');\\r\\n\\r\\n\\r\\n(function() {\\r\\n\\tnews.right.RightSideFloatingManager.init();\\r\\n})();\\r\\n\\r\\n\\r\\n\\r\\n    (function() {\\r\\n        news.right.TopDownFloatingManager.init();\\r\\n    })();\\r\\n\\r\\n\\r\\n\\r\\n\\r\\n\\r\\n\\r\\n\\r\\n\\r\\n\\r\\n\\r\\n\\r\\n\\r\\n\\r\\n\\r\\n\\r\\n\\r\\n\\r\\n\\r\\n\\r\\n\\r\\n\\r\\n\\r\\n\\r\\n\\r\\n\\r\\n\\r\\n\\r\\n\\r\\n\\r\\n\\r\\n\\r\\n\\r\\n\\r\\n\\r\\n\\r\\n\\r\\n\\r\\n\\t\\tnews.read.Toolbar.init({\\r\\n\\t\\t\\toid : \\'029\\',\\r\\n\\t\\t\\taid : \\'0002573146\\',\\r\\n\\t\\t\\tisLogin : false\\r\\n\\t\\t});\\r\\n    \\r\\n    news.read.TopFloatingManager.init();\\r\\n\\r\\n\\r\\n\\r\\n\\r\\n\\r\\n;(function(){\\r\\n    var eventType = \"onpageshow\" in window ? \"pageshow\" : \"load\";\\r\\n    jindo.$Fn(function(){\\r\\n\\r\\n\\tlcs_do_gdid(\"880000AD_000000000000000002573146\");\\r\\n\\t\\r\\n\\r\\n    }).attach(window, eventType);\\r\\n})();\\r\\n\\r\\n\\r\\n\\r\\n\\r\\n\\r\\n\\r\\n\\r\\n\\r\\nnews.startup();\\r\\n\\r\\n\\r\\njindo.$Fn(function(){\\r\\n    var welSkip = jindo.$Element(\"u_skip\");\\r\\n    if (welSkip === null) {\\r\\n        return;\\r\\n    }\\r\\n    welSkip.delegate(\"click\", \"a\", function(weEvent){\\r\\n        weEvent.stopDefault();\\r\\n        var elTarget = jindo.$(weEvent.element.href.split(\"#\")[1]);\\r\\n        oWebAccessibilityUtil.moveFocus(elTarget);\\r\\n    });\\r\\n}).attach(window, \"load\");\\r\\n\\r\\n\\r\\ndocument.documentElement.setAttribute(\\'data-useragent\\',navigator.userAgent);\\r\\n</script>\\r\\n</div>\\r\\n</body>\\r\\n</html>'"
      ]
     },
     "execution_count": 30,
     "metadata": {},
     "output_type": "execute_result"
    }
   ],
   "source": [
    "url = 'https://news.naver.com/main/read.nhn?mode=LSD&mid=shm&sid1=105&oid=029&aid=0002573146'\n",
    "resp = requests.get(url)\n",
    "\n",
    "resp.text"
   ]
  },
  {
   "cell_type": "code",
   "execution_count": 39,
   "metadata": {},
   "outputs": [
    {
     "name": "stdout",
     "output_type": "stream",
     "text": [
      "None\n"
     ]
    }
   ],
   "source": [
    "url = 'https://news.naver.com/main/read.nhn?mode=LSD&mid=shm&sid1=105&oid=029&aid=0002573146'\n",
    "resp = requests.get(url)\n",
    "\n",
    "soup = BeautifulSoup(resp.text)\n",
    "title = soup.find('h3',class_='tts_head')\n",
    "print(title)"
   ]
  },
  {
   "cell_type": "code",
   "execution_count": 41,
   "metadata": {},
   "outputs": [
    {
     "data": {
      "text/plain": [
       "'정부 \"\\'타다 금지법\\' 아냐, 제도권 내 수용\"vs업계 \"기준 맞추다 망한다\"'"
      ]
     },
     "execution_count": 41,
     "metadata": {},
     "output_type": "execute_result"
    }
   ],
   "source": [
    "url = 'https://news.v.daum.net/v/20191209152142246'\n",
    "resp = requests.get(url)\n",
    "\n",
    "soup = BeautifulSoup(resp.text)\n",
    "title = soup.find('h3',class_='tit_view')\n",
    "title.get_text()"
   ]
  },
  {
   "cell_type": "code",
   "execution_count": 42,
   "metadata": {},
   "outputs": [
    {
     "data": {
      "text/plain": [
       "[<span class=\"txt_info\">박현익 기자</span>,\n",
       " <span class=\"txt_info\">입력 2019.12.09. 15:21</span>]"
      ]
     },
     "execution_count": 42,
     "metadata": {},
     "output_type": "execute_result"
    }
   ],
   "source": [
    "url = 'https://news.v.daum.net/v/20191209152142246'\n",
    "resp = requests.get(url)\n",
    "\n",
    "soup = BeautifulSoup(resp.text)\n",
    "soup.find_all('span',class_='txt_info')"
   ]
  },
  {
   "cell_type": "code",
   "execution_count": 44,
   "metadata": {},
   "outputs": [
    {
     "data": {
      "text/plain": [
       "[<span class=\"txt_info\">박현익 기자</span>,\n",
       " <span class=\"txt_info\">입력 2019.12.09. 15:21</span>]"
      ]
     },
     "execution_count": 44,
     "metadata": {},
     "output_type": "execute_result"
    }
   ],
   "source": [
    "url = 'https://news.v.daum.net/v/20191209152142246'\n",
    "resp = requests.get(url)\n",
    "\n",
    "soup = BeautifulSoup(resp.text)\n",
    "info=soup.find('span',class_='info_view')\n",
    "info.find_all('span',class_='txt_info')"
   ]
  },
  {
   "cell_type": "code",
   "execution_count": 50,
   "metadata": {},
   "outputs": [
    {
     "name": "stdout",
     "output_type": "stream",
     "text": [
      "여객자동차법 개정안, 조만간 국회 본회의 통과될 듯현재 방식으로는 타다 서비스 불가…면허 대수·기여금 불확실\"카카오 카풀도 같은 길 걷다가 결국 죽어\"‘타다 금지법’으로 불리는 여객자동차 운수사업법(여객자동차법) 개정안이 조만간 국회 본회의까지 통과할 것으로 예상되는 가운데 승합차 호출 서비스 ‘타다’가 존속할 수 있을지 갑론을박이 벌어지고 있다. 정부와 국회는 \"타다를 제도권 안으로 들이기 위한 법안\"이라며 \"타다 금지법이 아니다\"고 주장하고 있다. 하지만 모빌리티 업계는 \"사실상 사업을 접으라는 이야기\"라고 반박하고 있다. 개정안만으로는 구체적인 기준이 확정되지 않아 타다가 실제로 사업을 계속할 수 있을지는 좀 더 지켜봐야 한다는 관측이 나오고 있다.국회 국토교통위원회는 지난 6일 여객자동차법 개정안을 여야 만장일치로 전체회의에서 통과시켰다. 개정안은 법제사법위원회와 본회의만 통과하면 공포 후 시행된다. 타다는 1년 6개월(시행 유보 1년, 처벌 유예 6개월) 뒤면 기존 방식(고객에게 11~15인승 승합차를 빌려주면서 운전기사를 소개해주는 서비스)으로는 더이상 사업을 지속할 수 없게 된다. 승합차를 6시간 이상 빌려주거나, 고객이 공항 또는 항만에서 타고 내려야만 하도록 개정안이 제한을 걸어놨기 때문이다.다만 개정안은 ‘플랫폼 사업’이라는 영역을 새로 만들어 ‘운송사업’, ‘가맹사업’, ‘운송중개사업’ 등으로 분류했다. 타다의 사업 모델은 플랫폼 운송사업에 해당된다고 볼 수 있는데, 개정안은 이를 ‘운송플랫폼과 자동차를 확보해 유상으로 여객을 운송하는 서비스’라고 정의하고 있다. 타다는 현재 1500여대의 차량을 보유하면서 145만명의 사용자에게 택시보다 20~30% 비싼 가격으로 운송 서비스를 제공하고 있다. 타다가 플랫폼 운송사업자로 허가를 받을 수 있다면 사업을 그만두지 않아도 된다.문제는 허가 조건이다. 개정안에 따르면 최저 허가 기준에 맞는 차량 대수와 차고지 등을 갖추고, 택시 시장 안정을 위한 기여금도 납부해야 한다. 차량 대수와 금액은 각각 국토부령과 대통령령에 위임했다. 국토부 산하에 ‘플랫폼운송사업심의위원회’를 운영해 사업자에 대한 허가 여부를 결정하도록 했다. 허가 기준을 세울 때는 ‘택시 총량 등을 고려한 수송력 공급에 적합해야 한다’고 명시했고, 총 허가 대수는 ‘국토부 장관이 택시 감차의 실적 추이와 국민 편익 등을 고려해 관리할 수 있다’고 했다.모빌리티 업계는 현행 여객자동차법이 면허 총량과 기여금 등을 정하지 않고 하위 법령 등에 위임하고 있다는 점을 문제로 지적한다. 당장 얼마나 면허를 확보할 수 있는지 불확실한 상황에서 내년도 사업 계획을 세우기가 막막하다는 것이다. 구체적인 수치를 어떻게 정하느냐를 두고도 택시 업계와 씨름만 하다가 시간만 허비할 수 있다는 우려도 나온다.타다가 기여금을 부담할 여력이 되는지도 불투명하다. 택시 면허가 대당 8000만원 수준에 거래되는 것을 감안하면 타다가 부담해야 할 기여금은 수백억원에 이를 것으로 보인다. 하지만 타다는 지난해 150억원, 올해 300억원가량의 손실을 냈고, 최근엔 각종 규제 이슈가 터지면서 추가 투자를 못받고 있다.모빌리티 업계 관계자는 \"택시 총량을 고려해 허가 기준을 세운다는 발상 자체가 택시 외 다른 사업은 인정하지 않겠다는 이야기\"라며 \"법을 만들어 제도권 안으로 들어가게 하겠다는데 앞서 카카오의 승차 공유 서비스 ‘카풀’도 같은 길을 걷다가 결국 그만뒀다\"고 했다. 카카오 카풀은 올 초 택시업계의 반발로 시범 서비스 한달여 만에 전면 중단됐다. 이후 국회가 출퇴근 시간대에만 카풀을 허용하는 여객자동차법 개정안을 통과시켰지만 서비스는 재개되지 않았다.\n"
     ]
    }
   ],
   "source": [
    "url = 'https://news.v.daum.net/v/20191209152142246'\n",
    "resp = requests.get(url)\n",
    "\n",
    "soup = BeautifulSoup(resp.text)\n",
    "article = soup.find('div',id='harmonyContainer')\n",
    "contents = ''\n",
    "for p in article.find_all('p'):\n",
    "    contents += p.get_text().strip()\n",
    "\n",
    "print(contents)"
   ]
  },
  {
   "cell_type": "markdown",
   "metadata": {},
   "source": [
    "### select"
   ]
  },
  {
   "cell_type": "code",
   "execution_count": 51,
   "metadata": {
    "scrolled": true
   },
   "outputs": [
    {
     "data": {
      "text/plain": [
       "[<h3 class=\"tit_view\" data-translation=\"\">정부 \"'타다 금지법' 아냐, 제도권 내 수용\"vs업계 \"기준 맞추다 망한다\"</h3>,\n",
       " <h3 class=\"txt_newsview\" data-reactid=\".311y0fsrb1.0\">많이본 뉴스</h3>,\n",
       " <h3 class=\"txt_newsview\">포토&amp;TV</h3>,\n",
       " <h3 class=\"txt_newsview\">실시간 이슈</h3>,\n",
       " <h3 class=\"txt_newsview\">이 시각 추천뉴스</h3>,\n",
       " <h3 class=\"txt_newsview\">실시간 주요이슈</h3>]"
      ]
     },
     "execution_count": 51,
     "metadata": {},
     "output_type": "execute_result"
    }
   ],
   "source": [
    "url = 'https://news.v.daum.net/v/20191209152142246'\n",
    "resp = requests.get(url)\n",
    "\n",
    "soup = BeautifulSoup(resp.text)\n",
    "soup.select('h3')"
   ]
  },
  {
   "cell_type": "markdown",
   "metadata": {},
   "source": [
    "## 아이디 찾기 #id\n",
    "## 클래스 찾기 .class"
   ]
  },
  {
   "cell_type": "code",
   "execution_count": 53,
   "metadata": {
    "scrolled": true
   },
   "outputs": [
    {
     "data": {
      "text/plain": [
       "[<div class=\"article_view\" data-translation-body=\"\" id=\"harmonyContainer\">\n",
       " <section dmcf-sid=\"NaTBVOXwBo\">\n",
       " <p dmcf-pid=\"NAdy90dnCl\" dmcf-ptype=\"general\"><strong>여객자동차법 개정안, 조만간 국회 본회의 통과될 듯</strong><br/><strong>현재 방식으로는 타다 서비스 불가…면허 대수·기여금 불확실</strong><br/><strong>\"카카오 카풀도 같은 길 걷다가 결국 죽어\"</strong><br/><br/>‘타다 금지법’으로 불리는 여객자동차 운수사업법(여객자동차법) 개정안이 조만간 국회 본회의까지 통과할 것으로 예상되는 가운데 승합차 호출 서비스 ‘타다’가 존속할 수 있을지 갑론을박이 벌어지고 있다. <br/><br/>정부와 국회는 \"타다를 제도권 안으로 들이기 위한 법안\"이라며 \"타다 금지법이 아니다\"고 주장하고 있다. 하지만 모빌리티 업계는 \"사실상 사업을 접으라는 이야기\"라고 반박하고 있다. 개정안만으로는 구체적인 기준이 확정되지 않아 타다가 실제로 사업을 계속할 수 있을지는 좀 더 지켜봐야 한다는 관측이 나오고 있다.<br/><br/></p>\n",
       " <figure class=\"figure_frm origin_fig\" dmcf-pid=\"NvlxJ05WQi\" dmcf-ptype=\"figure\">\n",
       " <p class=\"link_figure\"><img class=\"thumb_g_article\" dmcf-mid=\"NZO1gYddfZ\" dmcf-mtype=\"image\" height=\"402\" src=\"https://t1.daumcdn.net/news/201912/09/chosunbiz/20191209152143080qnag.png\" width=\"600\"/></p>\n",
       " </figure>\n",
       " <p dmcf-pid=\"Nz600uLKnN\" dmcf-ptype=\"general\">국회 국토교통위원회는 지난 6일 여객자동차법 개정안을 여야 만장일치로 전체회의에서 통과시켰다. 개정안은 법제사법위원회와 본회의만 통과하면 공포 후 시행된다. 타다는 1년 6개월(시행 유보 1년, 처벌 유예 6개월) 뒤면 기존 방식(고객에게 11~15인승 승합차를 빌려주면서 운전기사를 소개해주는 서비스)으로는 더이상 사업을 지속할 수 없게 된다. 승합차를 6시간 이상 빌려주거나, 고객이 공항 또는 항만에서 타고 내려야만 하도록 개정안이 제한을 걸어놨기 때문이다.<br/><br/>다만 개정안은 ‘플랫폼 사업’이라는 영역을 새로 만들어 ‘운송사업’, ‘가맹사업’, ‘운송중개사업’ 등으로 분류했다. 타다의 사업 모델은 플랫폼 운송사업에 해당된다고 볼 수 있는데, 개정안은 이를 ‘운송플랫폼과 자동차를 확보해 유상으로 여객을 운송하는 서비스’라고 정의하고 있다. 타다는 현재 1500여대의 차량을 보유하면서 145만명의 사용자에게 택시보다 20~30% 비싼 가격으로 운송 서비스를 제공하고 있다. 타다가 플랫폼 운송사업자로 허가를 받을 수 있다면 사업을 그만두지 않아도 된다.<br/><br/>문제는 허가 조건이다. 개정안에 따르면 최저 허가 기준에 맞는 차량 대수와 차고지 등을 갖추고, 택시 시장 안정을 위한 기여금도 납부해야 한다. 차량 대수와 금액은 각각 국토부령과 대통령령에 위임했다. 국토부 산하에 ‘플랫폼운송사업심의위원회’를 운영해 사업자에 대한 허가 여부를 결정하도록 했다. 허가 기준을 세울 때는 ‘택시 총량 등을 고려한 수송력 공급에 적합해야 한다’고 명시했고, 총 허가 대수는 ‘국토부 장관이 택시 감차의 실적 추이와 국민 편익 등을 고려해 관리할 수 있다’고 했다.<br/><br/></p>\n",
       " <figure class=\"figure_frm origin_fig\" dmcf-pid=\"N3V85WRPJ0\" dmcf-ptype=\"figure\">\n",
       " <p class=\"link_figure\"><img class=\"thumb_g_article\" dmcf-mid=\"Nvo8Dcwrml\" dmcf-mtype=\"image\" height=\"585\" src=\"https://t1.daumcdn.net/news/201912/09/chosunbiz/20191209152144202jccq.png\" width=\"601\"/></p>\n",
       " </figure>\n",
       " <p dmcf-pid=\"NjjJpou6Lg\" dmcf-ptype=\"general\">모빌리티 업계는 현행 여객자동차법이 면허 총량과 기여금 등을 정하지 않고 하위 법령 등에 위임하고 있다는 점을 문제로 지적한다. 당장 얼마나 면허를 확보할 수 있는지 불확실한 상황에서 내년도 사업 계획을 세우기가 막막하다는 것이다. 구체적인 수치를 어떻게 정하느냐를 두고도 택시 업계와 씨름만 하다가 시간만 허비할 수 있다는 우려도 나온다.<br/><br/>타다가 기여금을 부담할 여력이 되는지도 불투명하다. 택시 면허가 대당 8000만원 수준에 거래되는 것을 감안하면 타다가 부담해야 할 기여금은 수백억원에 이를 것으로 보인다. 하지만 타다는 지난해 150억원, 올해 300억원가량의 손실을 냈고, 최근엔 각종 규제 이슈가 터지면서 추가 투자를 못받고 있다.<br/><br/>모빌리티 업계 관계자는 \"택시 총량을 고려해 허가 기준을 세운다는 발상 자체가 택시 외 다른 사업은 인정하지 않겠다는 이야기\"라며 \"법을 만들어 제도권 안으로 들어가게 하겠다는데 앞서 카카오의 승차 공유 서비스 ‘카풀’도 같은 길을 걷다가 결국 그만뒀다\"고 했다. 카카오 카풀은 올 초 택시업계의 반발로 시범 서비스 한달여 만에 전면 중단됐다. 이후 국회가 출퇴근 시간대에만 카풀을 허용하는 여객자동차법 개정안을 통과시켰지만 서비스는 재개되지 않았다. <br/><br/></p>\n",
       " </section>\n",
       " </div>]"
      ]
     },
     "execution_count": 53,
     "metadata": {},
     "output_type": "execute_result"
    }
   ],
   "source": [
    "soup.select('div#harmonyContainer')\n",
    "#div태그이며 아이디가 harmonyContainer를 찾아라\n",
    "#id는 하나뿐임 따라서 div태그는 무의미\n"
   ]
  },
  {
   "cell_type": "code",
   "execution_count": 55,
   "metadata": {
    "scrolled": true
   },
   "outputs": [
    {
     "name": "stdout",
     "output_type": "stream",
     "text": [
      "[]\n",
      "[<p dmcf-pid=\"NAdy90dnCl\" dmcf-ptype=\"general\"><strong>여객자동차법 개정안, 조만간 국회 본회의 통과될 듯</strong><br/><strong>현재 방식으로는 타다 서비스 불가…면허 대수·기여금 불확실</strong><br/><strong>\"카카오 카풀도 같은 길 걷다가 결국 죽어\"</strong><br/><br/>‘타다 금지법’으로 불리는 여객자동차 운수사업법(여객자동차법) 개정안이 조만간 국회 본회의까지 통과할 것으로 예상되는 가운데 승합차 호출 서비스 ‘타다’가 존속할 수 있을지 갑론을박이 벌어지고 있다. <br/><br/>정부와 국회는 \"타다를 제도권 안으로 들이기 위한 법안\"이라며 \"타다 금지법이 아니다\"고 주장하고 있다. 하지만 모빌리티 업계는 \"사실상 사업을 접으라는 이야기\"라고 반박하고 있다. 개정안만으로는 구체적인 기준이 확정되지 않아 타다가 실제로 사업을 계속할 수 있을지는 좀 더 지켜봐야 한다는 관측이 나오고 있다.<br/><br/></p>, <p class=\"link_figure\"><img class=\"thumb_g_article\" dmcf-mid=\"NZO1gYddfZ\" dmcf-mtype=\"image\" height=\"402\" src=\"https://t1.daumcdn.net/news/201912/09/chosunbiz/20191209152143080qnag.png\" width=\"600\"/></p>, <p dmcf-pid=\"Nz600uLKnN\" dmcf-ptype=\"general\">국회 국토교통위원회는 지난 6일 여객자동차법 개정안을 여야 만장일치로 전체회의에서 통과시켰다. 개정안은 법제사법위원회와 본회의만 통과하면 공포 후 시행된다. 타다는 1년 6개월(시행 유보 1년, 처벌 유예 6개월) 뒤면 기존 방식(고객에게 11~15인승 승합차를 빌려주면서 운전기사를 소개해주는 서비스)으로는 더이상 사업을 지속할 수 없게 된다. 승합차를 6시간 이상 빌려주거나, 고객이 공항 또는 항만에서 타고 내려야만 하도록 개정안이 제한을 걸어놨기 때문이다.<br/><br/>다만 개정안은 ‘플랫폼 사업’이라는 영역을 새로 만들어 ‘운송사업’, ‘가맹사업’, ‘운송중개사업’ 등으로 분류했다. 타다의 사업 모델은 플랫폼 운송사업에 해당된다고 볼 수 있는데, 개정안은 이를 ‘운송플랫폼과 자동차를 확보해 유상으로 여객을 운송하는 서비스’라고 정의하고 있다. 타다는 현재 1500여대의 차량을 보유하면서 145만명의 사용자에게 택시보다 20~30% 비싼 가격으로 운송 서비스를 제공하고 있다. 타다가 플랫폼 운송사업자로 허가를 받을 수 있다면 사업을 그만두지 않아도 된다.<br/><br/>문제는 허가 조건이다. 개정안에 따르면 최저 허가 기준에 맞는 차량 대수와 차고지 등을 갖추고, 택시 시장 안정을 위한 기여금도 납부해야 한다. 차량 대수와 금액은 각각 국토부령과 대통령령에 위임했다. 국토부 산하에 ‘플랫폼운송사업심의위원회’를 운영해 사업자에 대한 허가 여부를 결정하도록 했다. 허가 기준을 세울 때는 ‘택시 총량 등을 고려한 수송력 공급에 적합해야 한다’고 명시했고, 총 허가 대수는 ‘국토부 장관이 택시 감차의 실적 추이와 국민 편익 등을 고려해 관리할 수 있다’고 했다.<br/><br/></p>, <p class=\"link_figure\"><img class=\"thumb_g_article\" dmcf-mid=\"Nvo8Dcwrml\" dmcf-mtype=\"image\" height=\"585\" src=\"https://t1.daumcdn.net/news/201912/09/chosunbiz/20191209152144202jccq.png\" width=\"601\"/></p>, <p dmcf-pid=\"NjjJpou6Lg\" dmcf-ptype=\"general\">모빌리티 업계는 현행 여객자동차법이 면허 총량과 기여금 등을 정하지 않고 하위 법령 등에 위임하고 있다는 점을 문제로 지적한다. 당장 얼마나 면허를 확보할 수 있는지 불확실한 상황에서 내년도 사업 계획을 세우기가 막막하다는 것이다. 구체적인 수치를 어떻게 정하느냐를 두고도 택시 업계와 씨름만 하다가 시간만 허비할 수 있다는 우려도 나온다.<br/><br/>타다가 기여금을 부담할 여력이 되는지도 불투명하다. 택시 면허가 대당 8000만원 수준에 거래되는 것을 감안하면 타다가 부담해야 할 기여금은 수백억원에 이를 것으로 보인다. 하지만 타다는 지난해 150억원, 올해 300억원가량의 손실을 냈고, 최근엔 각종 규제 이슈가 터지면서 추가 투자를 못받고 있다.<br/><br/>모빌리티 업계 관계자는 \"택시 총량을 고려해 허가 기준을 세운다는 발상 자체가 택시 외 다른 사업은 인정하지 않겠다는 이야기\"라며 \"법을 만들어 제도권 안으로 들어가게 하겠다는데 앞서 카카오의 승차 공유 서비스 ‘카풀’도 같은 길을 걷다가 결국 그만뒀다\"고 했다. 카카오 카풀은 올 초 택시업계의 반발로 시범 서비스 한달여 만에 전면 중단됐다. 이후 국회가 출퇴근 시간대에만 카풀을 허용하는 여객자동차법 개정안을 통과시켰지만 서비스는 재개되지 않았다. <br/><br/></p>]\n"
     ]
    }
   ],
   "source": [
    "# 자식태그  바로 아래 한단계 밑\n",
    "print(soup.select('#harmonyContainer > p'))\n",
    "\n",
    "# 자손태그  하위 모든 태그들 \n",
    "print(soup.select('#harmonyContainer p'))\n",
    "\n",
    "      "
   ]
  },
  {
   "cell_type": "code",
   "execution_count": 59,
   "metadata": {},
   "outputs": [
    {
     "data": {
      "text/plain": [
       "[<h3 class=\"tit_view\" data-translation=\"\">정부 \"'타다 금지법' 아냐, 제도권 내 수용\"vs업계 \"기준 맞추다 망한다\"</h3>]"
      ]
     },
     "execution_count": 59,
     "metadata": {},
     "output_type": "execute_result"
    }
   ],
   "source": [
    "# 태그의 하위 이름 클래스속성으로 값을 읽어온다\n",
    "soup.select('h3.tit_view')"
   ]
  },
  {
   "cell_type": "code",
   "execution_count": 60,
   "metadata": {},
   "outputs": [
    {
     "data": {
      "text/plain": [
       "[<h3 class=\"tit_view\" data-translation=\"\">정부 \"'타다 금지법' 아냐, 제도권 내 수용\"vs업계 \"기준 맞추다 망한다\"</h3>]"
      ]
     },
     "execution_count": 60,
     "metadata": {},
     "output_type": "execute_result"
    }
   ],
   "source": [
    "# 모든 클래스속성으로 값을 읽어온다\n",
    "soup.select('.tit_view')"
   ]
  },
  {
   "cell_type": "code",
   "execution_count": 62,
   "metadata": {},
   "outputs": [
    {
     "data": {
      "text/plain": [
       "[<h3 class=\"tit_view\" data-translation=\"\">정부 \"'타다 금지법' 아냐, 제도권 내 수용\"vs업계 \"기준 맞추다 망한다\"</h3>]"
      ]
     },
     "execution_count": 62,
     "metadata": {},
     "output_type": "execute_result"
    }
   ],
   "source": [
    "soup.select('h3[class=\"tit_view\"]')\n",
    "# 아이디와 클래스는 위 처럼 단축키가 있다고 생각하면된다"
   ]
  },
  {
   "cell_type": "code",
   "execution_count": 65,
   "metadata": {},
   "outputs": [
    {
     "data": {
      "text/plain": [
       "[<h3 class=\"tit_view\" data-translation=\"\">정부 \"'타다 금지법' 아냐, 제도권 내 수용\"vs업계 \"기준 맞추다 망한다\"</h3>,\n",
       " <h3 class=\"txt_newsview\" data-reactid=\".311y0fsrb1.0\">많이본 뉴스</h3>,\n",
       " <h3 class=\"txt_newsview\">포토&amp;TV</h3>,\n",
       " <h3 class=\"txt_newsview\">실시간 이슈</h3>,\n",
       " <h3 class=\"txt_newsview\">이 시각 추천뉴스</h3>,\n",
       " <h3 class=\"txt_newsview\">실시간 주요이슈</h3>]"
      ]
     },
     "execution_count": 65,
     "metadata": {},
     "output_type": "execute_result"
    }
   ],
   "source": [
    "soup.select('h3[class^=\"t\"]')\n",
    "# ^=  t로 시작하는 클래스 속성을 찾아라\n",
    "\n",
    "soup.select('h3[class*=\"view\"]')\n",
    "# view를 모두 가진 속성을 찾아라"
   ]
  },
  {
   "cell_type": "code",
   "execution_count": 67,
   "metadata": {},
   "outputs": [
    {
     "data": {
      "text/plain": [
       "[<span class=\"txt_info\">박현익 기자</span>,\n",
       " <span class=\"txt_info\">입력 2019.12.09. 15:21</span>]"
      ]
     },
     "execution_count": 67,
     "metadata": {},
     "output_type": "execute_result"
    }
   ],
   "source": [
    "soup.select('span[class=\"txt_info\"]')"
   ]
  },
  {
   "cell_type": "code",
   "execution_count": 68,
   "metadata": {},
   "outputs": [
    {
     "data": {
      "text/plain": [
       "<span class=\"txt_info\">박현익 기자</span>"
      ]
     },
     "execution_count": 68,
     "metadata": {},
     "output_type": "execute_result"
    }
   ],
   "source": [
    "soup.select('span[class=\"txt_info\"]')[0]"
   ]
  },
  {
   "cell_type": "code",
   "execution_count": 71,
   "metadata": {},
   "outputs": [
    {
     "data": {
      "text/plain": [
       "[<span class=\"txt_info\">박현익 기자</span>]"
      ]
     },
     "execution_count": 71,
     "metadata": {},
     "output_type": "execute_result"
    }
   ],
   "source": [
    "soup.select('span.txt_info:nth-child(1)')"
   ]
  },
  {
   "cell_type": "code",
   "execution_count": null,
   "metadata": {},
   "outputs": [],
   "source": []
  },
  {
   "cell_type": "code",
   "execution_count": null,
   "metadata": {},
   "outputs": [],
   "source": []
  },
  {
   "cell_type": "code",
   "execution_count": null,
   "metadata": {},
   "outputs": [],
   "source": []
  },
  {
   "cell_type": "code",
   "execution_count": null,
   "metadata": {},
   "outputs": [],
   "source": []
  },
  {
   "cell_type": "code",
   "execution_count": null,
   "metadata": {},
   "outputs": [],
   "source": []
  },
  {
   "cell_type": "code",
   "execution_count": null,
   "metadata": {},
   "outputs": [],
   "source": []
  }
 ],
 "metadata": {
  "kernelspec": {
   "display_name": "Python 3",
   "language": "python",
   "name": "python3"
  },
  "language_info": {
   "codemirror_mode": {
    "name": "ipython",
    "version": 3
   },
   "file_extension": ".py",
   "mimetype": "text/x-python",
   "name": "python",
   "nbconvert_exporter": "python",
   "pygments_lexer": "ipython3",
   "version": "3.7.3"
  }
 },
 "nbformat": 4,
 "nbformat_minor": 2
}
